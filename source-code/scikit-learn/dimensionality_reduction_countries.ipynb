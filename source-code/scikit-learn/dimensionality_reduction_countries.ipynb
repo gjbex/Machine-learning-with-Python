{
 "cells": [
  {
   "cell_type": "markdown",
   "metadata": {},
   "source": [
    "# Cluster countries"
   ]
  },
  {
   "cell_type": "markdown",
   "metadata": {},
   "source": [
    "Import the required modules."
   ]
  },
  {
   "cell_type": "code",
   "execution_count": 1,
   "metadata": {},
   "outputs": [
    {
     "data": {
      "text/html": [
       "    <style>\n",
       "        .bk-notebook-logo {\n",
       "            display: block;\n",
       "            width: 20px;\n",
       "            height: 20px;\n",
       "            background-image: url(data:image/png;base64,iVBORw0KGgoAAAANSUhEUgAAABQAAAAUCAYAAACNiR0NAAAABHNCSVQICAgIfAhkiAAAAAlwSFlzAAALEgAACxIB0t1+/AAAABx0RVh0U29mdHdhcmUAQWRvYmUgRmlyZXdvcmtzIENTNui8sowAAAOkSURBVDiNjZRtaJVlGMd/1/08zzln5zjP1LWcU9N0NkN8m2CYjpgQYQXqSs0I84OLIC0hkEKoPtiH3gmKoiJDU7QpLgoLjLIQCpEsNJ1vqUOdO7ppbuec5+V+rj4ctwzd8IIbbi6u+8f1539dt3A78eXC7QizUF7gyV1fD1Yqg4JWz84yffhm0qkFqBogB9rM8tZdtwVsPUhWhGcFJngGeWrPzHm5oaMmkfEg1usvLFyc8jLRqDOMru7AyC8saQr7GG7f5fvDeH7Ej8CM66nIF+8yngt6HWaKh7k49Soy9nXurCi1o3qUbS3zWfrYeQDTB/Qj6kX6Ybhw4B+bOYoLKCC9H3Nu/leUTZ1JdRWkkn2ldcCamzrcf47KKXdAJllSlxAOkRgyHsGC/zRday5Qld9DyoM4/q/rUoy/CXh3jzOu3bHUVZeU+DEn8FInkPBFlu3+nW3Nw0mk6vCDiWg8CeJaxEwuHS3+z5RgY+YBR6V1Z1nxSOfoaPa4LASWxxdNp+VWTk7+4vzaou8v8PN+xo+KY2xsw6une2frhw05CTYOmQvsEhjhWjn0bmXPjpE1+kplmmkP3suftwTubK9Vq22qKmrBhpY4jvd5afdRA3wGjFAgcnTK2s4hY0/GPNIb0nErGMCRxWOOX64Z8RAC4oCXdklmEvcL8o0BfkNK4lUg9HTl+oPlQxdNo3Mg4Nv175e/1LDGzZen30MEjRUtmXSfiTVu1kK8W4txyV6BMKlbgk3lMwYCiusNy9fVfvvwMxv8Ynl6vxoByANLTWplvuj/nF9m2+PDtt1eiHPBr1oIfhCChQMBw6Aw0UulqTKZdfVvfG7VcfIqLG9bcldL/+pdWTLxLUy8Qq38heUIjh4XlzZxzQm19lLFlr8vdQ97rjZVOLf8nclzckbcD4wxXMidpX30sFd37Fv/GtwwhzhxGVAprjbg0gCAEeIgwCZyTV2Z1REEW8O4py0wsjeloKoMr6iCY6dP92H6Vw/oTyICIthibxjm/DfN9lVz8IqtqKYLUXfoKVMVQVVJOElGjrnnUt9T9wbgp8AyYKaGlqingHZU/uG2NTZSVqwHQTWkx9hxjkpWDaCg6Ckj5qebgBVbT3V3NNXMSiWSDdGV3hrtzla7J+duwPOToIg42ChPQOQjspnSlp1V+Gjdged7+8UN5CRAV7a5EdFNwCjEaBR27b3W890TE7g24NAP/mMDXRWrGoFPQI9ls/MWO2dWFAar/xcOIImbbpA3zgAAAABJRU5ErkJggg==);\n",
       "        }\n",
       "    </style>\n",
       "    <div>\n",
       "        <a href=\"https://bokeh.org\" target=\"_blank\" class=\"bk-notebook-logo\"></a>\n",
       "        <span id=\"c70fa21b-59ca-4f5e-a2d0-9b39272c38c3\">Loading BokehJS ...</span>\n",
       "    </div>\n"
      ]
     },
     "metadata": {},
     "output_type": "display_data"
    },
    {
     "data": {
      "application/javascript": [
       "(function(root) {\n",
       "  function now() {\n",
       "    return new Date();\n",
       "  }\n",
       "\n",
       "  const force = true;\n",
       "\n",
       "  if (typeof root._bokeh_onload_callbacks === \"undefined\" || force === true) {\n",
       "    root._bokeh_onload_callbacks = [];\n",
       "    root._bokeh_is_loading = undefined;\n",
       "  }\n",
       "\n",
       "const JS_MIME_TYPE = 'application/javascript';\n",
       "  const HTML_MIME_TYPE = 'text/html';\n",
       "  const EXEC_MIME_TYPE = 'application/vnd.bokehjs_exec.v0+json';\n",
       "  const CLASS_NAME = 'output_bokeh rendered_html';\n",
       "\n",
       "  /**\n",
       "   * Render data to the DOM node\n",
       "   */\n",
       "  function render(props, node) {\n",
       "    const script = document.createElement(\"script\");\n",
       "    node.appendChild(script);\n",
       "  }\n",
       "\n",
       "  /**\n",
       "   * Handle when an output is cleared or removed\n",
       "   */\n",
       "  function handleClearOutput(event, handle) {\n",
       "    function drop(id) {\n",
       "      const view = Bokeh.index.get_by_id(id)\n",
       "      if (view != null) {\n",
       "        view.model.document.clear()\n",
       "        Bokeh.index.delete(view)\n",
       "      }\n",
       "    }\n",
       "\n",
       "    const cell = handle.cell;\n",
       "\n",
       "    const id = cell.output_area._bokeh_element_id;\n",
       "    const server_id = cell.output_area._bokeh_server_id;\n",
       "\n",
       "    // Clean up Bokeh references\n",
       "    if (id != null) {\n",
       "      drop(id)\n",
       "    }\n",
       "\n",
       "    if (server_id !== undefined) {\n",
       "      // Clean up Bokeh references\n",
       "      const cmd_clean = \"from bokeh.io.state import curstate; print(curstate().uuid_to_server['\" + server_id + \"'].get_sessions()[0].document.roots[0]._id)\";\n",
       "      cell.notebook.kernel.execute(cmd_clean, {\n",
       "        iopub: {\n",
       "          output: function(msg) {\n",
       "            const id = msg.content.text.trim()\n",
       "            drop(id)\n",
       "          }\n",
       "        }\n",
       "      });\n",
       "      // Destroy server and session\n",
       "      const cmd_destroy = \"import bokeh.io.notebook as ion; ion.destroy_server('\" + server_id + \"')\";\n",
       "      cell.notebook.kernel.execute(cmd_destroy);\n",
       "    }\n",
       "  }\n",
       "\n",
       "  /**\n",
       "   * Handle when a new output is added\n",
       "   */\n",
       "  function handleAddOutput(event, handle) {\n",
       "    const output_area = handle.output_area;\n",
       "    const output = handle.output;\n",
       "\n",
       "    // limit handleAddOutput to display_data with EXEC_MIME_TYPE content only\n",
       "    if ((output.output_type != \"display_data\") || (!Object.prototype.hasOwnProperty.call(output.data, EXEC_MIME_TYPE))) {\n",
       "      return\n",
       "    }\n",
       "\n",
       "    const toinsert = output_area.element.find(\".\" + CLASS_NAME.split(' ')[0]);\n",
       "\n",
       "    if (output.metadata[EXEC_MIME_TYPE][\"id\"] !== undefined) {\n",
       "      toinsert[toinsert.length - 1].firstChild.textContent = output.data[JS_MIME_TYPE];\n",
       "      // store reference to embed id on output_area\n",
       "      output_area._bokeh_element_id = output.metadata[EXEC_MIME_TYPE][\"id\"];\n",
       "    }\n",
       "    if (output.metadata[EXEC_MIME_TYPE][\"server_id\"] !== undefined) {\n",
       "      const bk_div = document.createElement(\"div\");\n",
       "      bk_div.innerHTML = output.data[HTML_MIME_TYPE];\n",
       "      const script_attrs = bk_div.children[0].attributes;\n",
       "      for (let i = 0; i < script_attrs.length; i++) {\n",
       "        toinsert[toinsert.length - 1].firstChild.setAttribute(script_attrs[i].name, script_attrs[i].value);\n",
       "        toinsert[toinsert.length - 1].firstChild.textContent = bk_div.children[0].textContent\n",
       "      }\n",
       "      // store reference to server id on output_area\n",
       "      output_area._bokeh_server_id = output.metadata[EXEC_MIME_TYPE][\"server_id\"];\n",
       "    }\n",
       "  }\n",
       "\n",
       "  function register_renderer(events, OutputArea) {\n",
       "\n",
       "    function append_mime(data, metadata, element) {\n",
       "      // create a DOM node to render to\n",
       "      const toinsert = this.create_output_subarea(\n",
       "        metadata,\n",
       "        CLASS_NAME,\n",
       "        EXEC_MIME_TYPE\n",
       "      );\n",
       "      this.keyboard_manager.register_events(toinsert);\n",
       "      // Render to node\n",
       "      const props = {data: data, metadata: metadata[EXEC_MIME_TYPE]};\n",
       "      render(props, toinsert[toinsert.length - 1]);\n",
       "      element.append(toinsert);\n",
       "      return toinsert\n",
       "    }\n",
       "\n",
       "    /* Handle when an output is cleared or removed */\n",
       "    events.on('clear_output.CodeCell', handleClearOutput);\n",
       "    events.on('delete.Cell', handleClearOutput);\n",
       "\n",
       "    /* Handle when a new output is added */\n",
       "    events.on('output_added.OutputArea', handleAddOutput);\n",
       "\n",
       "    /**\n",
       "     * Register the mime type and append_mime function with output_area\n",
       "     */\n",
       "    OutputArea.prototype.register_mime_type(EXEC_MIME_TYPE, append_mime, {\n",
       "      /* Is output safe? */\n",
       "      safe: true,\n",
       "      /* Index of renderer in `output_area.display_order` */\n",
       "      index: 0\n",
       "    });\n",
       "  }\n",
       "\n",
       "  // register the mime type if in Jupyter Notebook environment and previously unregistered\n",
       "  if (root.Jupyter !== undefined) {\n",
       "    const events = require('base/js/events');\n",
       "    const OutputArea = require('notebook/js/outputarea').OutputArea;\n",
       "\n",
       "    if (OutputArea.prototype.mime_types().indexOf(EXEC_MIME_TYPE) == -1) {\n",
       "      register_renderer(events, OutputArea);\n",
       "    }\n",
       "  }\n",
       "  if (typeof (root._bokeh_timeout) === \"undefined\" || force === true) {\n",
       "    root._bokeh_timeout = Date.now() + 5000;\n",
       "    root._bokeh_failed_load = false;\n",
       "  }\n",
       "\n",
       "  const NB_LOAD_WARNING = {'data': {'text/html':\n",
       "     \"<div style='background-color: #fdd'>\\n\"+\n",
       "     \"<p>\\n\"+\n",
       "     \"BokehJS does not appear to have successfully loaded. If loading BokehJS from CDN, this \\n\"+\n",
       "     \"may be due to a slow or bad network connection. Possible fixes:\\n\"+\n",
       "     \"</p>\\n\"+\n",
       "     \"<ul>\\n\"+\n",
       "     \"<li>re-rerun `output_notebook()` to attempt to load from CDN again, or</li>\\n\"+\n",
       "     \"<li>use INLINE resources instead, as so:</li>\\n\"+\n",
       "     \"</ul>\\n\"+\n",
       "     \"<code>\\n\"+\n",
       "     \"from bokeh.resources import INLINE\\n\"+\n",
       "     \"output_notebook(resources=INLINE)\\n\"+\n",
       "     \"</code>\\n\"+\n",
       "     \"</div>\"}};\n",
       "\n",
       "  function display_loaded() {\n",
       "    const el = document.getElementById(\"c70fa21b-59ca-4f5e-a2d0-9b39272c38c3\");\n",
       "    if (el != null) {\n",
       "      el.textContent = \"BokehJS is loading...\";\n",
       "    }\n",
       "    if (root.Bokeh !== undefined) {\n",
       "      if (el != null) {\n",
       "        el.textContent = \"BokehJS \" + root.Bokeh.version + \" successfully loaded.\";\n",
       "      }\n",
       "    } else if (Date.now() < root._bokeh_timeout) {\n",
       "      setTimeout(display_loaded, 100)\n",
       "    }\n",
       "  }\n",
       "\n",
       "  function run_callbacks() {\n",
       "    try {\n",
       "      root._bokeh_onload_callbacks.forEach(function(callback) {\n",
       "        if (callback != null)\n",
       "          callback();\n",
       "      });\n",
       "    } finally {\n",
       "      delete root._bokeh_onload_callbacks\n",
       "    }\n",
       "    console.debug(\"Bokeh: all callbacks have finished\");\n",
       "  }\n",
       "\n",
       "  function load_libs(css_urls, js_urls, callback) {\n",
       "    if (css_urls == null) css_urls = [];\n",
       "    if (js_urls == null) js_urls = [];\n",
       "\n",
       "    root._bokeh_onload_callbacks.push(callback);\n",
       "    if (root._bokeh_is_loading > 0) {\n",
       "      console.debug(\"Bokeh: BokehJS is being loaded, scheduling callback at\", now());\n",
       "      return null;\n",
       "    }\n",
       "    if (js_urls == null || js_urls.length === 0) {\n",
       "      run_callbacks();\n",
       "      return null;\n",
       "    }\n",
       "    console.debug(\"Bokeh: BokehJS not loaded, scheduling load and callback at\", now());\n",
       "    root._bokeh_is_loading = css_urls.length + js_urls.length;\n",
       "\n",
       "    function on_load() {\n",
       "      root._bokeh_is_loading--;\n",
       "      if (root._bokeh_is_loading === 0) {\n",
       "        console.debug(\"Bokeh: all BokehJS libraries/stylesheets loaded\");\n",
       "        run_callbacks()\n",
       "      }\n",
       "    }\n",
       "\n",
       "    function on_error(url) {\n",
       "      console.error(\"failed to load \" + url);\n",
       "    }\n",
       "\n",
       "    for (let i = 0; i < css_urls.length; i++) {\n",
       "      const url = css_urls[i];\n",
       "      const element = document.createElement(\"link\");\n",
       "      element.onload = on_load;\n",
       "      element.onerror = on_error.bind(null, url);\n",
       "      element.rel = \"stylesheet\";\n",
       "      element.type = \"text/css\";\n",
       "      element.href = url;\n",
       "      console.debug(\"Bokeh: injecting link tag for BokehJS stylesheet: \", url);\n",
       "      document.body.appendChild(element);\n",
       "    }\n",
       "\n",
       "    for (let i = 0; i < js_urls.length; i++) {\n",
       "      const url = js_urls[i];\n",
       "      const element = document.createElement('script');\n",
       "      element.onload = on_load;\n",
       "      element.onerror = on_error.bind(null, url);\n",
       "      element.async = false;\n",
       "      element.src = url;\n",
       "      console.debug(\"Bokeh: injecting script tag for BokehJS library: \", url);\n",
       "      document.head.appendChild(element);\n",
       "    }\n",
       "  };\n",
       "\n",
       "  function inject_raw_css(css) {\n",
       "    const element = document.createElement(\"style\");\n",
       "    element.appendChild(document.createTextNode(css));\n",
       "    document.body.appendChild(element);\n",
       "  }\n",
       "\n",
       "  const js_urls = [\"https://cdn.bokeh.org/bokeh/release/bokeh-3.3.4.min.js\", \"https://cdn.bokeh.org/bokeh/release/bokeh-gl-3.3.4.min.js\", \"https://cdn.bokeh.org/bokeh/release/bokeh-widgets-3.3.4.min.js\", \"https://cdn.bokeh.org/bokeh/release/bokeh-tables-3.3.4.min.js\", \"https://cdn.bokeh.org/bokeh/release/bokeh-mathjax-3.3.4.min.js\"];\n",
       "  const css_urls = [];\n",
       "\n",
       "  const inline_js = [    function(Bokeh) {\n",
       "      Bokeh.set_log_level(\"info\");\n",
       "    },\n",
       "function(Bokeh) {\n",
       "    }\n",
       "  ];\n",
       "\n",
       "  function run_inline_js() {\n",
       "    if (root.Bokeh !== undefined || force === true) {\n",
       "          for (let i = 0; i < inline_js.length; i++) {\n",
       "      inline_js[i].call(root, root.Bokeh);\n",
       "    }\n",
       "if (force === true) {\n",
       "        display_loaded();\n",
       "      }} else if (Date.now() < root._bokeh_timeout) {\n",
       "      setTimeout(run_inline_js, 100);\n",
       "    } else if (!root._bokeh_failed_load) {\n",
       "      console.log(\"Bokeh: BokehJS failed to load within specified timeout.\");\n",
       "      root._bokeh_failed_load = true;\n",
       "    } else if (force !== true) {\n",
       "      const cell = $(document.getElementById(\"c70fa21b-59ca-4f5e-a2d0-9b39272c38c3\")).parents('.cell').data().cell;\n",
       "      cell.output_area.append_execute_result(NB_LOAD_WARNING)\n",
       "    }\n",
       "  }\n",
       "\n",
       "  if (root._bokeh_is_loading === 0) {\n",
       "    console.debug(\"Bokeh: BokehJS loaded, going straight to plotting\");\n",
       "    run_inline_js();\n",
       "  } else {\n",
       "    load_libs(css_urls, js_urls, function() {\n",
       "      console.debug(\"Bokeh: BokehJS plotting callback run at\", now());\n",
       "      run_inline_js();\n",
       "    });\n",
       "  }\n",
       "}(window));"
      ],
      "application/vnd.bokehjs_load.v0+json": "(function(root) {\n  function now() {\n    return new Date();\n  }\n\n  const force = true;\n\n  if (typeof root._bokeh_onload_callbacks === \"undefined\" || force === true) {\n    root._bokeh_onload_callbacks = [];\n    root._bokeh_is_loading = undefined;\n  }\n\n\n  if (typeof (root._bokeh_timeout) === \"undefined\" || force === true) {\n    root._bokeh_timeout = Date.now() + 5000;\n    root._bokeh_failed_load = false;\n  }\n\n  const NB_LOAD_WARNING = {'data': {'text/html':\n     \"<div style='background-color: #fdd'>\\n\"+\n     \"<p>\\n\"+\n     \"BokehJS does not appear to have successfully loaded. If loading BokehJS from CDN, this \\n\"+\n     \"may be due to a slow or bad network connection. Possible fixes:\\n\"+\n     \"</p>\\n\"+\n     \"<ul>\\n\"+\n     \"<li>re-rerun `output_notebook()` to attempt to load from CDN again, or</li>\\n\"+\n     \"<li>use INLINE resources instead, as so:</li>\\n\"+\n     \"</ul>\\n\"+\n     \"<code>\\n\"+\n     \"from bokeh.resources import INLINE\\n\"+\n     \"output_notebook(resources=INLINE)\\n\"+\n     \"</code>\\n\"+\n     \"</div>\"}};\n\n  function display_loaded() {\n    const el = document.getElementById(\"c70fa21b-59ca-4f5e-a2d0-9b39272c38c3\");\n    if (el != null) {\n      el.textContent = \"BokehJS is loading...\";\n    }\n    if (root.Bokeh !== undefined) {\n      if (el != null) {\n        el.textContent = \"BokehJS \" + root.Bokeh.version + \" successfully loaded.\";\n      }\n    } else if (Date.now() < root._bokeh_timeout) {\n      setTimeout(display_loaded, 100)\n    }\n  }\n\n  function run_callbacks() {\n    try {\n      root._bokeh_onload_callbacks.forEach(function(callback) {\n        if (callback != null)\n          callback();\n      });\n    } finally {\n      delete root._bokeh_onload_callbacks\n    }\n    console.debug(\"Bokeh: all callbacks have finished\");\n  }\n\n  function load_libs(css_urls, js_urls, callback) {\n    if (css_urls == null) css_urls = [];\n    if (js_urls == null) js_urls = [];\n\n    root._bokeh_onload_callbacks.push(callback);\n    if (root._bokeh_is_loading > 0) {\n      console.debug(\"Bokeh: BokehJS is being loaded, scheduling callback at\", now());\n      return null;\n    }\n    if (js_urls == null || js_urls.length === 0) {\n      run_callbacks();\n      return null;\n    }\n    console.debug(\"Bokeh: BokehJS not loaded, scheduling load and callback at\", now());\n    root._bokeh_is_loading = css_urls.length + js_urls.length;\n\n    function on_load() {\n      root._bokeh_is_loading--;\n      if (root._bokeh_is_loading === 0) {\n        console.debug(\"Bokeh: all BokehJS libraries/stylesheets loaded\");\n        run_callbacks()\n      }\n    }\n\n    function on_error(url) {\n      console.error(\"failed to load \" + url);\n    }\n\n    for (let i = 0; i < css_urls.length; i++) {\n      const url = css_urls[i];\n      const element = document.createElement(\"link\");\n      element.onload = on_load;\n      element.onerror = on_error.bind(null, url);\n      element.rel = \"stylesheet\";\n      element.type = \"text/css\";\n      element.href = url;\n      console.debug(\"Bokeh: injecting link tag for BokehJS stylesheet: \", url);\n      document.body.appendChild(element);\n    }\n\n    for (let i = 0; i < js_urls.length; i++) {\n      const url = js_urls[i];\n      const element = document.createElement('script');\n      element.onload = on_load;\n      element.onerror = on_error.bind(null, url);\n      element.async = false;\n      element.src = url;\n      console.debug(\"Bokeh: injecting script tag for BokehJS library: \", url);\n      document.head.appendChild(element);\n    }\n  };\n\n  function inject_raw_css(css) {\n    const element = document.createElement(\"style\");\n    element.appendChild(document.createTextNode(css));\n    document.body.appendChild(element);\n  }\n\n  const js_urls = [\"https://cdn.bokeh.org/bokeh/release/bokeh-3.3.4.min.js\", \"https://cdn.bokeh.org/bokeh/release/bokeh-gl-3.3.4.min.js\", \"https://cdn.bokeh.org/bokeh/release/bokeh-widgets-3.3.4.min.js\", \"https://cdn.bokeh.org/bokeh/release/bokeh-tables-3.3.4.min.js\", \"https://cdn.bokeh.org/bokeh/release/bokeh-mathjax-3.3.4.min.js\"];\n  const css_urls = [];\n\n  const inline_js = [    function(Bokeh) {\n      Bokeh.set_log_level(\"info\");\n    },\nfunction(Bokeh) {\n    }\n  ];\n\n  function run_inline_js() {\n    if (root.Bokeh !== undefined || force === true) {\n          for (let i = 0; i < inline_js.length; i++) {\n      inline_js[i].call(root, root.Bokeh);\n    }\nif (force === true) {\n        display_loaded();\n      }} else if (Date.now() < root._bokeh_timeout) {\n      setTimeout(run_inline_js, 100);\n    } else if (!root._bokeh_failed_load) {\n      console.log(\"Bokeh: BokehJS failed to load within specified timeout.\");\n      root._bokeh_failed_load = true;\n    } else if (force !== true) {\n      const cell = $(document.getElementById(\"c70fa21b-59ca-4f5e-a2d0-9b39272c38c3\")).parents('.cell').data().cell;\n      cell.output_area.append_execute_result(NB_LOAD_WARNING)\n    }\n  }\n\n  if (root._bokeh_is_loading === 0) {\n    console.debug(\"Bokeh: BokehJS loaded, going straight to plotting\");\n    run_inline_js();\n  } else {\n    load_libs(css_urls, js_urls, function() {\n      console.debug(\"Bokeh: BokehJS plotting callback run at\", now());\n      run_inline_js();\n    });\n  }\n}(window));"
     },
     "metadata": {},
     "output_type": "display_data"
    }
   ],
   "source": [
    "from bokeh.palettes import brewer\n",
    "from bokeh.io import output_notebook, show\n",
    "from bokeh.plotting import figure\n",
    "from bokeh.models import HoverTool, PanTool, ResetTool, BoxZoomTool\n",
    "import numpy as np\n",
    "import pandas as pd\n",
    "from sklearn.base import TransformerMixin\n",
    "from sklearn.cluster import KMeans\n",
    "from sklearn.compose import ColumnTransformer\n",
    "from sklearn.decomposition import PCA\n",
    "from sklearn.discriminant_analysis import LinearDiscriminantAnalysis\n",
    "from sklearn.manifold import TSNE\n",
    "from sklearn.pipeline import Pipeline, FeatureUnion\n",
    "from sklearn.preprocessing import MinMaxScaler, OneHotEncoder\n",
    "output_notebook()"
   ]
  },
  {
   "cell_type": "markdown",
   "metadata": {},
   "source": [
    "## Problem setting"
   ]
  },
  {
   "cell_type": "markdown",
   "metadata": {},
   "source": [
    "Let's try to cluster the countries baased on the indicators of happiness."
   ]
  },
  {
   "cell_type": "markdown",
   "metadata": {},
   "source": [
    "## Import data"
   ]
  },
  {
   "cell_type": "code",
   "execution_count": 2,
   "metadata": {},
   "outputs": [],
   "source": [
    "data_2015 = pd.read_csv('Data/world_happiness_2015.csv')"
   ]
  },
  {
   "cell_type": "code",
   "execution_count": 3,
   "metadata": {},
   "outputs": [
    {
     "data": {
      "text/html": [
       "<div>\n",
       "<style scoped>\n",
       "    .dataframe tbody tr th:only-of-type {\n",
       "        vertical-align: middle;\n",
       "    }\n",
       "\n",
       "    .dataframe tbody tr th {\n",
       "        vertical-align: top;\n",
       "    }\n",
       "\n",
       "    .dataframe thead th {\n",
       "        text-align: right;\n",
       "    }\n",
       "</style>\n",
       "<table border=\"1\" class=\"dataframe\">\n",
       "  <thead>\n",
       "    <tr style=\"text-align: right;\">\n",
       "      <th></th>\n",
       "      <th>Country</th>\n",
       "      <th>Region</th>\n",
       "      <th>Happiness Rank</th>\n",
       "      <th>Happiness Score</th>\n",
       "      <th>Standard Error</th>\n",
       "      <th>Economy (GDP per Capita)</th>\n",
       "      <th>Family</th>\n",
       "      <th>Health (Life Expectancy)</th>\n",
       "      <th>Freedom</th>\n",
       "      <th>Trust (Government Corruption)</th>\n",
       "      <th>Generosity</th>\n",
       "      <th>Dystopia Residual</th>\n",
       "    </tr>\n",
       "  </thead>\n",
       "  <tbody>\n",
       "    <tr>\n",
       "      <th>0</th>\n",
       "      <td>Switzerland</td>\n",
       "      <td>Western Europe</td>\n",
       "      <td>1</td>\n",
       "      <td>7.587</td>\n",
       "      <td>0.03411</td>\n",
       "      <td>1.39651</td>\n",
       "      <td>1.34951</td>\n",
       "      <td>0.94143</td>\n",
       "      <td>0.66557</td>\n",
       "      <td>0.41978</td>\n",
       "      <td>0.29678</td>\n",
       "      <td>2.51738</td>\n",
       "    </tr>\n",
       "    <tr>\n",
       "      <th>1</th>\n",
       "      <td>Iceland</td>\n",
       "      <td>Western Europe</td>\n",
       "      <td>2</td>\n",
       "      <td>7.561</td>\n",
       "      <td>0.04884</td>\n",
       "      <td>1.30232</td>\n",
       "      <td>1.40223</td>\n",
       "      <td>0.94784</td>\n",
       "      <td>0.62877</td>\n",
       "      <td>0.14145</td>\n",
       "      <td>0.43630</td>\n",
       "      <td>2.70201</td>\n",
       "    </tr>\n",
       "    <tr>\n",
       "      <th>2</th>\n",
       "      <td>Denmark</td>\n",
       "      <td>Western Europe</td>\n",
       "      <td>3</td>\n",
       "      <td>7.527</td>\n",
       "      <td>0.03328</td>\n",
       "      <td>1.32548</td>\n",
       "      <td>1.36058</td>\n",
       "      <td>0.87464</td>\n",
       "      <td>0.64938</td>\n",
       "      <td>0.48357</td>\n",
       "      <td>0.34139</td>\n",
       "      <td>2.49204</td>\n",
       "    </tr>\n",
       "    <tr>\n",
       "      <th>3</th>\n",
       "      <td>Norway</td>\n",
       "      <td>Western Europe</td>\n",
       "      <td>4</td>\n",
       "      <td>7.522</td>\n",
       "      <td>0.03880</td>\n",
       "      <td>1.45900</td>\n",
       "      <td>1.33095</td>\n",
       "      <td>0.88521</td>\n",
       "      <td>0.66973</td>\n",
       "      <td>0.36503</td>\n",
       "      <td>0.34699</td>\n",
       "      <td>2.46531</td>\n",
       "    </tr>\n",
       "    <tr>\n",
       "      <th>4</th>\n",
       "      <td>Canada</td>\n",
       "      <td>North America</td>\n",
       "      <td>5</td>\n",
       "      <td>7.427</td>\n",
       "      <td>0.03553</td>\n",
       "      <td>1.32629</td>\n",
       "      <td>1.32261</td>\n",
       "      <td>0.90563</td>\n",
       "      <td>0.63297</td>\n",
       "      <td>0.32957</td>\n",
       "      <td>0.45811</td>\n",
       "      <td>2.45176</td>\n",
       "    </tr>\n",
       "  </tbody>\n",
       "</table>\n",
       "</div>"
      ],
      "text/plain": [
       "       Country          Region  Happiness Rank  Happiness Score  \\\n",
       "0  Switzerland  Western Europe               1            7.587   \n",
       "1      Iceland  Western Europe               2            7.561   \n",
       "2      Denmark  Western Europe               3            7.527   \n",
       "3       Norway  Western Europe               4            7.522   \n",
       "4       Canada   North America               5            7.427   \n",
       "\n",
       "   Standard Error  Economy (GDP per Capita)   Family  \\\n",
       "0         0.03411                   1.39651  1.34951   \n",
       "1         0.04884                   1.30232  1.40223   \n",
       "2         0.03328                   1.32548  1.36058   \n",
       "3         0.03880                   1.45900  1.33095   \n",
       "4         0.03553                   1.32629  1.32261   \n",
       "\n",
       "   Health (Life Expectancy)  Freedom  Trust (Government Corruption)  \\\n",
       "0                   0.94143  0.66557                        0.41978   \n",
       "1                   0.94784  0.62877                        0.14145   \n",
       "2                   0.87464  0.64938                        0.48357   \n",
       "3                   0.88521  0.66973                        0.36503   \n",
       "4                   0.90563  0.63297                        0.32957   \n",
       "\n",
       "   Generosity  Dystopia Residual  \n",
       "0     0.29678            2.51738  \n",
       "1     0.43630            2.70201  \n",
       "2     0.34139            2.49204  \n",
       "3     0.34699            2.46531  \n",
       "4     0.45811            2.45176  "
      ]
     },
     "execution_count": 3,
     "metadata": {},
     "output_type": "execute_result"
    }
   ],
   "source": [
    "data_2015.head()"
   ]
  },
  {
   "cell_type": "code",
   "execution_count": 4,
   "metadata": {},
   "outputs": [
    {
     "data": {
      "text/html": [
       "<div>\n",
       "<style scoped>\n",
       "    .dataframe tbody tr th:only-of-type {\n",
       "        vertical-align: middle;\n",
       "    }\n",
       "\n",
       "    .dataframe tbody tr th {\n",
       "        vertical-align: top;\n",
       "    }\n",
       "\n",
       "    .dataframe thead th {\n",
       "        text-align: right;\n",
       "    }\n",
       "</style>\n",
       "<table border=\"1\" class=\"dataframe\">\n",
       "  <thead>\n",
       "    <tr style=\"text-align: right;\">\n",
       "      <th></th>\n",
       "      <th>Happiness Rank</th>\n",
       "      <th>Happiness Score</th>\n",
       "      <th>Standard Error</th>\n",
       "      <th>Economy (GDP per Capita)</th>\n",
       "      <th>Family</th>\n",
       "      <th>Health (Life Expectancy)</th>\n",
       "      <th>Freedom</th>\n",
       "      <th>Trust (Government Corruption)</th>\n",
       "      <th>Generosity</th>\n",
       "      <th>Dystopia Residual</th>\n",
       "    </tr>\n",
       "  </thead>\n",
       "  <tbody>\n",
       "    <tr>\n",
       "      <th>count</th>\n",
       "      <td>158.000000</td>\n",
       "      <td>158.000000</td>\n",
       "      <td>158.000000</td>\n",
       "      <td>158.000000</td>\n",
       "      <td>158.000000</td>\n",
       "      <td>158.000000</td>\n",
       "      <td>158.000000</td>\n",
       "      <td>158.000000</td>\n",
       "      <td>158.000000</td>\n",
       "      <td>158.000000</td>\n",
       "    </tr>\n",
       "    <tr>\n",
       "      <th>mean</th>\n",
       "      <td>79.493671</td>\n",
       "      <td>5.375734</td>\n",
       "      <td>0.047885</td>\n",
       "      <td>0.846137</td>\n",
       "      <td>0.991046</td>\n",
       "      <td>0.630259</td>\n",
       "      <td>0.428615</td>\n",
       "      <td>0.143422</td>\n",
       "      <td>0.237296</td>\n",
       "      <td>2.098977</td>\n",
       "    </tr>\n",
       "    <tr>\n",
       "      <th>std</th>\n",
       "      <td>45.754363</td>\n",
       "      <td>1.145010</td>\n",
       "      <td>0.017146</td>\n",
       "      <td>0.403121</td>\n",
       "      <td>0.272369</td>\n",
       "      <td>0.247078</td>\n",
       "      <td>0.150693</td>\n",
       "      <td>0.120034</td>\n",
       "      <td>0.126685</td>\n",
       "      <td>0.553550</td>\n",
       "    </tr>\n",
       "    <tr>\n",
       "      <th>min</th>\n",
       "      <td>1.000000</td>\n",
       "      <td>2.839000</td>\n",
       "      <td>0.018480</td>\n",
       "      <td>0.000000</td>\n",
       "      <td>0.000000</td>\n",
       "      <td>0.000000</td>\n",
       "      <td>0.000000</td>\n",
       "      <td>0.000000</td>\n",
       "      <td>0.000000</td>\n",
       "      <td>0.328580</td>\n",
       "    </tr>\n",
       "    <tr>\n",
       "      <th>25%</th>\n",
       "      <td>40.250000</td>\n",
       "      <td>4.526000</td>\n",
       "      <td>0.037268</td>\n",
       "      <td>0.545808</td>\n",
       "      <td>0.856823</td>\n",
       "      <td>0.439185</td>\n",
       "      <td>0.328330</td>\n",
       "      <td>0.061675</td>\n",
       "      <td>0.150553</td>\n",
       "      <td>1.759410</td>\n",
       "    </tr>\n",
       "    <tr>\n",
       "      <th>50%</th>\n",
       "      <td>79.500000</td>\n",
       "      <td>5.232500</td>\n",
       "      <td>0.043940</td>\n",
       "      <td>0.910245</td>\n",
       "      <td>1.029510</td>\n",
       "      <td>0.696705</td>\n",
       "      <td>0.435515</td>\n",
       "      <td>0.107220</td>\n",
       "      <td>0.216130</td>\n",
       "      <td>2.095415</td>\n",
       "    </tr>\n",
       "    <tr>\n",
       "      <th>75%</th>\n",
       "      <td>118.750000</td>\n",
       "      <td>6.243750</td>\n",
       "      <td>0.052300</td>\n",
       "      <td>1.158448</td>\n",
       "      <td>1.214405</td>\n",
       "      <td>0.811013</td>\n",
       "      <td>0.549092</td>\n",
       "      <td>0.180255</td>\n",
       "      <td>0.309883</td>\n",
       "      <td>2.462415</td>\n",
       "    </tr>\n",
       "    <tr>\n",
       "      <th>max</th>\n",
       "      <td>158.000000</td>\n",
       "      <td>7.587000</td>\n",
       "      <td>0.136930</td>\n",
       "      <td>1.690420</td>\n",
       "      <td>1.402230</td>\n",
       "      <td>1.025250</td>\n",
       "      <td>0.669730</td>\n",
       "      <td>0.551910</td>\n",
       "      <td>0.795880</td>\n",
       "      <td>3.602140</td>\n",
       "    </tr>\n",
       "  </tbody>\n",
       "</table>\n",
       "</div>"
      ],
      "text/plain": [
       "       Happiness Rank  Happiness Score  Standard Error  \\\n",
       "count      158.000000       158.000000      158.000000   \n",
       "mean        79.493671         5.375734        0.047885   \n",
       "std         45.754363         1.145010        0.017146   \n",
       "min          1.000000         2.839000        0.018480   \n",
       "25%         40.250000         4.526000        0.037268   \n",
       "50%         79.500000         5.232500        0.043940   \n",
       "75%        118.750000         6.243750        0.052300   \n",
       "max        158.000000         7.587000        0.136930   \n",
       "\n",
       "       Economy (GDP per Capita)      Family  Health (Life Expectancy)  \\\n",
       "count                158.000000  158.000000                158.000000   \n",
       "mean                   0.846137    0.991046                  0.630259   \n",
       "std                    0.403121    0.272369                  0.247078   \n",
       "min                    0.000000    0.000000                  0.000000   \n",
       "25%                    0.545808    0.856823                  0.439185   \n",
       "50%                    0.910245    1.029510                  0.696705   \n",
       "75%                    1.158448    1.214405                  0.811013   \n",
       "max                    1.690420    1.402230                  1.025250   \n",
       "\n",
       "          Freedom  Trust (Government Corruption)  Generosity  \\\n",
       "count  158.000000                     158.000000  158.000000   \n",
       "mean     0.428615                       0.143422    0.237296   \n",
       "std      0.150693                       0.120034    0.126685   \n",
       "min      0.000000                       0.000000    0.000000   \n",
       "25%      0.328330                       0.061675    0.150553   \n",
       "50%      0.435515                       0.107220    0.216130   \n",
       "75%      0.549092                       0.180255    0.309883   \n",
       "max      0.669730                       0.551910    0.795880   \n",
       "\n",
       "       Dystopia Residual  \n",
       "count         158.000000  \n",
       "mean            2.098977  \n",
       "std             0.553550  \n",
       "min             0.328580  \n",
       "25%             1.759410  \n",
       "50%             2.095415  \n",
       "75%             2.462415  \n",
       "max             3.602140  "
      ]
     },
     "execution_count": 4,
     "metadata": {},
     "output_type": "execute_result"
    }
   ],
   "source": [
    "data_2015.describe()"
   ]
  },
  {
   "cell_type": "markdown",
   "metadata": {},
   "source": [
    "## Preprocess data"
   ]
  },
  {
   "cell_type": "markdown",
   "metadata": {},
   "source": [
    "Define a class to extract data from a pandas DataFrame."
   ]
  },
  {
   "cell_type": "code",
   "execution_count": 5,
   "metadata": {},
   "outputs": [],
   "source": [
    "class FeatureSelector(BaseException, TransformerMixin):\n",
    "    def __init__(self, feature_names):\n",
    "        self._feature_names = feature_names\n",
    "    def fit(self, X, Y=None):\n",
    "        return self\n",
    "    def transform(self, X):\n",
    "        return X[self._feature_names].values"
   ]
  },
  {
   "cell_type": "markdown",
   "metadata": {},
   "source": [
    "Define a transformer for the region names into one-hot encoding."
   ]
  },
  {
   "cell_type": "code",
   "execution_count": 6,
   "metadata": {
    "ExecuteTime": {
     "end_time": "2019-05-08T08:42:03.390053Z",
     "start_time": "2019-05-08T08:42:03.366247Z"
    }
   },
   "outputs": [],
   "source": [
    "region_transformer = ColumnTransformer([('one_hot_encoder',\n",
    "                                         OneHotEncoder(categories='auto'),\n",
    "                                         ['Region'])])"
   ]
  },
  {
   "cell_type": "markdown",
   "metadata": {},
   "source": [
    "Define the names of the columns that hold numerical data."
   ]
  },
  {
   "cell_type": "code",
   "execution_count": 7,
   "metadata": {},
   "outputs": [],
   "source": [
    "num_attr_names = ['Economy (GDP per Capita)',\n",
    "                  'Family', 'Health (Life Expectancy)', 'Freedom',\n",
    "                  'Trust (Government Corruption)', 'Generosity',\n",
    "                  'Dystopia Residual']"
   ]
  },
  {
   "cell_type": "markdown",
   "metadata": {},
   "source": [
    "Create a pipeline for the numerical attributes, rescaling them after selection."
   ]
  },
  {
   "cell_type": "code",
   "execution_count": 8,
   "metadata": {},
   "outputs": [],
   "source": [
    "num_attrs_pipeline = Pipeline([\n",
    "    ('select_num_attrs', FeatureSelector(num_attr_names)),\n",
    "    ('scaler', MinMaxScaler()),\n",
    "])"
   ]
  },
  {
   "cell_type": "code",
   "execution_count": 9,
   "metadata": {
    "ExecuteTime": {
     "end_time": "2019-05-08T08:42:13.381128Z",
     "start_time": "2019-05-08T08:42:13.373341Z"
    }
   },
   "outputs": [],
   "source": [
    "preparation_pipeline = FeatureUnion(transformer_list=[\n",
    "    ('region_attr', region_transformer),\n",
    "    ('num_attrs', num_attrs_pipeline),\n",
    "])"
   ]
  },
  {
   "cell_type": "markdown",
   "metadata": {},
   "source": [
    "Run the pipeline to prepare the data."
   ]
  },
  {
   "cell_type": "code",
   "execution_count": 10,
   "metadata": {},
   "outputs": [],
   "source": [
    "prepared_data = num_attrs_pipeline.fit_transform(data_2015)"
   ]
  },
  {
   "cell_type": "code",
   "execution_count": 11,
   "metadata": {},
   "outputs": [
    {
     "data": {
      "text/plain": [
       "(158, 7)"
      ]
     },
     "execution_count": 11,
     "metadata": {},
     "output_type": "execute_result"
    }
   ],
   "source": [
    "prepared_data.shape"
   ]
  },
  {
   "cell_type": "markdown",
   "metadata": {},
   "source": [
    "## Dimensionality reduction"
   ]
  },
  {
   "cell_type": "markdown",
   "metadata": {},
   "source": [
    "### Principal Component Analysis (PCA)"
   ]
  },
  {
   "cell_type": "markdown",
   "metadata": {},
   "source": [
    "Perform a principal Component Analysis on the data."
   ]
  },
  {
   "cell_type": "code",
   "execution_count": 12,
   "metadata": {},
   "outputs": [],
   "source": [
    "pca = PCA()\n",
    "pca_data = pd.DataFrame(pca.fit_transform(prepared_data))\n",
    "pca_data.columns = [f'PC{i}' for i in range(1, 8)]"
   ]
  },
  {
   "cell_type": "markdown",
   "metadata": {},
   "source": [
    "We can check the variance ratio explained by each of the components."
   ]
  },
  {
   "cell_type": "code",
   "execution_count": 13,
   "metadata": {},
   "outputs": [
    {
     "data": {
      "text/plain": [
       "array([0.47835186, 0.18587618, 0.10516347, 0.08630442, 0.0645048 ,\n",
       "       0.0532306 , 0.02656866])"
      ]
     },
     "execution_count": 13,
     "metadata": {},
     "output_type": "execute_result"
    }
   ],
   "source": [
    "pca.explained_variance_ratio_"
   ]
  },
  {
   "cell_type": "markdown",
   "metadata": {},
   "source": [
    "It is clear that most of the variance in the data is explained by the first two components, since this amounts to 65 %.  We can visualize the data in two dimension using the two principal components that explain most of the varianace."
   ]
  },
  {
   "cell_type": "markdown",
   "metadata": {},
   "source": [
    "In order to assess the results, we want a plot that shows the country name, and the happiness score as well.  The country name can be added using a hover tool, the happiness score as the color of the glyphs."
   ]
  },
  {
   "cell_type": "markdown",
   "metadata": {},
   "source": [
    "We add the country name and the happiness score to the PCA dataframe, as well as an additional column that encodes the score as a color from a red-blue Brewer color scheme.  The happiness score is converted to categorical data for this purpose."
   ]
  },
  {
   "cell_type": "code",
   "execution_count": 14,
   "metadata": {},
   "outputs": [],
   "source": [
    "pca_data['Country'] = data_2015['Country']\n",
    "pca_data['Happiness Score'] = data_2015['Happiness Score']\n",
    "happiness_min = data_2015['Happiness Score'].min()\n",
    "happiness_max = data_2015['Happiness Score'].max()\n",
    "nr_colors = int(happiness_max) - int(happiness_min) + 1\n",
    "pca_data['Happiness Color'] = pd.cut(data_2015['Happiness Score'],\n",
    "                                     bins=np.linspace(np.floor(happiness_min),\n",
    "                                                      np.ceil(happiness_max),\n",
    "                                                      nr_colors + 1),\n",
    "                                     labels=brewer['RdBu'][nr_colors])"
   ]
  },
  {
   "cell_type": "code",
   "execution_count": 15,
   "metadata": {},
   "outputs": [
    {
     "data": {
      "text/html": [
       "<div>\n",
       "<style scoped>\n",
       "    .dataframe tbody tr th:only-of-type {\n",
       "        vertical-align: middle;\n",
       "    }\n",
       "\n",
       "    .dataframe tbody tr th {\n",
       "        vertical-align: top;\n",
       "    }\n",
       "\n",
       "    .dataframe thead th {\n",
       "        text-align: right;\n",
       "    }\n",
       "</style>\n",
       "<table border=\"1\" class=\"dataframe\">\n",
       "  <thead>\n",
       "    <tr style=\"text-align: right;\">\n",
       "      <th></th>\n",
       "      <th>PC1</th>\n",
       "      <th>PC2</th>\n",
       "      <th>PC3</th>\n",
       "      <th>PC4</th>\n",
       "      <th>PC5</th>\n",
       "      <th>PC6</th>\n",
       "      <th>PC7</th>\n",
       "      <th>Country</th>\n",
       "      <th>Happiness Score</th>\n",
       "      <th>Happiness Color</th>\n",
       "    </tr>\n",
       "  </thead>\n",
       "  <tbody>\n",
       "    <tr>\n",
       "      <th>0</th>\n",
       "      <td>-0.742560</td>\n",
       "      <td>0.255859</td>\n",
       "      <td>-0.046819</td>\n",
       "      <td>-0.200890</td>\n",
       "      <td>-0.005302</td>\n",
       "      <td>-0.030317</td>\n",
       "      <td>-0.030825</td>\n",
       "      <td>Switzerland</td>\n",
       "      <td>7.587</td>\n",
       "      <td>#b2182b</td>\n",
       "    </tr>\n",
       "    <tr>\n",
       "      <th>1</th>\n",
       "      <td>-0.573766</td>\n",
       "      <td>0.001956</td>\n",
       "      <td>-0.225616</td>\n",
       "      <td>0.182013</td>\n",
       "      <td>-0.140456</td>\n",
       "      <td>-0.083132</td>\n",
       "      <td>0.025860</td>\n",
       "      <td>Iceland</td>\n",
       "      <td>7.561</td>\n",
       "      <td>#b2182b</td>\n",
       "    </tr>\n",
       "    <tr>\n",
       "      <th>2</th>\n",
       "      <td>-0.717045</td>\n",
       "      <td>0.366585</td>\n",
       "      <td>-0.018777</td>\n",
       "      <td>-0.253232</td>\n",
       "      <td>0.000190</td>\n",
       "      <td>-0.112461</td>\n",
       "      <td>-0.032102</td>\n",
       "      <td>Denmark</td>\n",
       "      <td>7.527</td>\n",
       "      <td>#b2182b</td>\n",
       "    </tr>\n",
       "    <tr>\n",
       "      <th>3</th>\n",
       "      <td>-0.706379</td>\n",
       "      <td>0.232345</td>\n",
       "      <td>-0.063994</td>\n",
       "      <td>-0.109291</td>\n",
       "      <td>-0.012735</td>\n",
       "      <td>-0.043326</td>\n",
       "      <td>0.057998</td>\n",
       "      <td>Norway</td>\n",
       "      <td>7.522</td>\n",
       "      <td>#b2182b</td>\n",
       "    </tr>\n",
       "    <tr>\n",
       "      <th>4</th>\n",
       "      <td>-0.643131</td>\n",
       "      <td>0.236638</td>\n",
       "      <td>-0.055096</td>\n",
       "      <td>-0.007588</td>\n",
       "      <td>-0.114805</td>\n",
       "      <td>-0.131293</td>\n",
       "      <td>0.032526</td>\n",
       "      <td>Canada</td>\n",
       "      <td>7.427</td>\n",
       "      <td>#b2182b</td>\n",
       "    </tr>\n",
       "    <tr>\n",
       "      <th>...</th>\n",
       "      <td>...</td>\n",
       "      <td>...</td>\n",
       "      <td>...</td>\n",
       "      <td>...</td>\n",
       "      <td>...</td>\n",
       "      <td>...</td>\n",
       "      <td>...</td>\n",
       "      <td>...</td>\n",
       "      <td>...</td>\n",
       "      <td>...</td>\n",
       "    </tr>\n",
       "    <tr>\n",
       "      <th>153</th>\n",
       "      <td>0.065691</td>\n",
       "      <td>0.797183</td>\n",
       "      <td>0.437880</td>\n",
       "      <td>-0.209177</td>\n",
       "      <td>0.248768</td>\n",
       "      <td>0.066833</td>\n",
       "      <td>-0.235110</td>\n",
       "      <td>Rwanda</td>\n",
       "      <td>3.465</td>\n",
       "      <td>#67a9cf</td>\n",
       "    </tr>\n",
       "    <tr>\n",
       "      <th>154</th>\n",
       "      <td>0.531902</td>\n",
       "      <td>0.232314</td>\n",
       "      <td>0.097846</td>\n",
       "      <td>0.080434</td>\n",
       "      <td>-0.014925</td>\n",
       "      <td>0.311838</td>\n",
       "      <td>0.053203</td>\n",
       "      <td>Benin</td>\n",
       "      <td>3.340</td>\n",
       "      <td>#67a9cf</td>\n",
       "    </tr>\n",
       "    <tr>\n",
       "      <th>155</th>\n",
       "      <td>0.274434</td>\n",
       "      <td>0.029431</td>\n",
       "      <td>0.737073</td>\n",
       "      <td>0.132340</td>\n",
       "      <td>-0.209417</td>\n",
       "      <td>-0.158671</td>\n",
       "      <td>0.001287</td>\n",
       "      <td>Syria</td>\n",
       "      <td>3.006</td>\n",
       "      <td>#67a9cf</td>\n",
       "    </tr>\n",
       "    <tr>\n",
       "      <th>156</th>\n",
       "      <td>0.855529</td>\n",
       "      <td>0.047117</td>\n",
       "      <td>0.183211</td>\n",
       "      <td>-0.130877</td>\n",
       "      <td>-0.079312</td>\n",
       "      <td>-0.056171</td>\n",
       "      <td>-0.046203</td>\n",
       "      <td>Burundi</td>\n",
       "      <td>2.905</td>\n",
       "      <td>#2166ac</td>\n",
       "    </tr>\n",
       "    <tr>\n",
       "      <th>157</th>\n",
       "      <td>0.691626</td>\n",
       "      <td>0.207037</td>\n",
       "      <td>0.226032</td>\n",
       "      <td>-0.036469</td>\n",
       "      <td>-0.086903</td>\n",
       "      <td>0.294438</td>\n",
       "      <td>0.064564</td>\n",
       "      <td>Togo</td>\n",
       "      <td>2.839</td>\n",
       "      <td>#2166ac</td>\n",
       "    </tr>\n",
       "  </tbody>\n",
       "</table>\n",
       "<p>158 rows × 10 columns</p>\n",
       "</div>"
      ],
      "text/plain": [
       "          PC1       PC2       PC3       PC4       PC5       PC6       PC7  \\\n",
       "0   -0.742560  0.255859 -0.046819 -0.200890 -0.005302 -0.030317 -0.030825   \n",
       "1   -0.573766  0.001956 -0.225616  0.182013 -0.140456 -0.083132  0.025860   \n",
       "2   -0.717045  0.366585 -0.018777 -0.253232  0.000190 -0.112461 -0.032102   \n",
       "3   -0.706379  0.232345 -0.063994 -0.109291 -0.012735 -0.043326  0.057998   \n",
       "4   -0.643131  0.236638 -0.055096 -0.007588 -0.114805 -0.131293  0.032526   \n",
       "..        ...       ...       ...       ...       ...       ...       ...   \n",
       "153  0.065691  0.797183  0.437880 -0.209177  0.248768  0.066833 -0.235110   \n",
       "154  0.531902  0.232314  0.097846  0.080434 -0.014925  0.311838  0.053203   \n",
       "155  0.274434  0.029431  0.737073  0.132340 -0.209417 -0.158671  0.001287   \n",
       "156  0.855529  0.047117  0.183211 -0.130877 -0.079312 -0.056171 -0.046203   \n",
       "157  0.691626  0.207037  0.226032 -0.036469 -0.086903  0.294438  0.064564   \n",
       "\n",
       "         Country  Happiness Score Happiness Color  \n",
       "0    Switzerland            7.587         #b2182b  \n",
       "1        Iceland            7.561         #b2182b  \n",
       "2        Denmark            7.527         #b2182b  \n",
       "3         Norway            7.522         #b2182b  \n",
       "4         Canada            7.427         #b2182b  \n",
       "..           ...              ...             ...  \n",
       "153       Rwanda            3.465         #67a9cf  \n",
       "154        Benin            3.340         #67a9cf  \n",
       "155        Syria            3.006         #67a9cf  \n",
       "156      Burundi            2.905         #2166ac  \n",
       "157         Togo            2.839         #2166ac  \n",
       "\n",
       "[158 rows x 10 columns]"
      ]
     },
     "execution_count": 15,
     "metadata": {},
     "output_type": "execute_result"
    }
   ],
   "source": [
    "pca_data"
   ]
  },
  {
   "cell_type": "markdown",
   "metadata": {},
   "source": [
    "Now we can create a plot with the PCA dataframe as source for the glyphs and their color, as well as the tooltip information that shows the country name."
   ]
  },
  {
   "cell_type": "code",
   "execution_count": 16,
   "metadata": {},
   "outputs": [
    {
     "data": {
      "text/html": [
       "\n",
       "  <div id=\"ada379e6-525f-4897-83cb-697bac10d930\" data-root-id=\"p1010\" style=\"display: contents;\"></div>\n"
      ]
     },
     "metadata": {},
     "output_type": "display_data"
    },
    {
     "data": {
      "application/javascript": [
       "(function(root) {\n",
       "  function embed_document(root) {\n",
       "  const docs_json = {\"8219519e-4abd-4a53-b1cc-6e165002ab68\":{\"version\":\"3.3.4\",\"title\":\"Bokeh Application\",\"roots\":[{\"type\":\"object\",\"name\":\"Figure\",\"id\":\"p1010\",\"attributes\":{\"width\":500,\"height\":400,\"x_range\":{\"type\":\"object\",\"name\":\"DataRange1d\",\"id\":\"p1011\"},\"y_range\":{\"type\":\"object\",\"name\":\"DataRange1d\",\"id\":\"p1012\"},\"x_scale\":{\"type\":\"object\",\"name\":\"LinearScale\",\"id\":\"p1019\"},\"y_scale\":{\"type\":\"object\",\"name\":\"LinearScale\",\"id\":\"p1020\"},\"title\":{\"type\":\"object\",\"name\":\"Title\",\"id\":\"p1017\"},\"renderers\":[{\"type\":\"object\",\"name\":\"GlyphRenderer\",\"id\":\"p1040\",\"attributes\":{\"data_source\":{\"type\":\"object\",\"name\":\"ColumnDataSource\",\"id\":\"p1031\",\"attributes\":{\"selected\":{\"type\":\"object\",\"name\":\"Selection\",\"id\":\"p1032\",\"attributes\":{\"indices\":[],\"line_indices\":[]}},\"selection_policy\":{\"type\":\"object\",\"name\":\"UnionRenderers\",\"id\":\"p1033\"},\"data\":{\"type\":\"map\",\"entries\":[[\"index\",{\"type\":\"ndarray\",\"array\":{\"type\":\"bytes\",\"data\":\"AAAAAAEAAAACAAAAAwAAAAQAAAAFAAAABgAAAAcAAAAIAAAACQAAAAoAAAALAAAADAAAAA0AAAAOAAAADwAAABAAAAARAAAAEgAAABMAAAAUAAAAFQAAABYAAAAXAAAAGAAAABkAAAAaAAAAGwAAABwAAAAdAAAAHgAAAB8AAAAgAAAAIQAAACIAAAAjAAAAJAAAACUAAAAmAAAAJwAAACgAAAApAAAAKgAAACsAAAAsAAAALQAAAC4AAAAvAAAAMAAAADEAAAAyAAAAMwAAADQAAAA1AAAANgAAADcAAAA4AAAAOQAAADoAAAA7AAAAPAAAAD0AAAA+AAAAPwAAAEAAAABBAAAAQgAAAEMAAABEAAAARQAAAEYAAABHAAAASAAAAEkAAABKAAAASwAAAEwAAABNAAAATgAAAE8AAABQAAAAUQAAAFIAAABTAAAAVAAAAFUAAABWAAAAVwAAAFgAAABZAAAAWgAAAFsAAABcAAAAXQAAAF4AAABfAAAAYAAAAGEAAABiAAAAYwAAAGQAAABlAAAAZgAAAGcAAABoAAAAaQAAAGoAAABrAAAAbAAAAG0AAABuAAAAbwAAAHAAAABxAAAAcgAAAHMAAAB0AAAAdQAAAHYAAAB3AAAAeAAAAHkAAAB6AAAAewAAAHwAAAB9AAAAfgAAAH8AAACAAAAAgQAAAIIAAACDAAAAhAAAAIUAAACGAAAAhwAAAIgAAACJAAAAigAAAIsAAACMAAAAjQAAAI4AAACPAAAAkAAAAJEAAACSAAAAkwAAAJQAAACVAAAAlgAAAJcAAACYAAAAmQAAAJoAAACbAAAAnAAAAJ0AAAA=\"},\"shape\":[158],\"dtype\":\"int32\",\"order\":\"little\"}],[\"PC1\",{\"type\":\"ndarray\",\"array\":{\"type\":\"bytes\",\"data\":\"F7cAhgzD578y4fBlSlziv6EVSEkJ8ua/8lIszKea5r+ArCush5Tkv6/Wo0ukuuS/N+3Yl0iU47+hDpE4TXbmv6jI/GKxquW/TIBWN4en5b9X/cayzg7Uv14oyE1mg9W/Rosl09kd4b8h7vO5JVjKvzLtwAuEMt6/fUnjSgVkyb9CxkX9miPmvy5nMqOQv+O/kuaVuQdN4L96CGj1XK7iv5Ib6MxH7+K/bYKFh7Tx3r910YER6evDv/vCqZaYeea/tf1+CGjE0L9CeArL9iHhvxDFLiMkh9C/g/bQCA0557+PdE+QjWLev+zadT9rvMi/X272W44ozb+6IP4HzqrYv9/nqqhRXsG/6R93I8cAzb8gi/eMqonRv2lH8nndo9a/THRya7fM3b8duYUqQwbQvxrYlUXMHN2/b4MDKzQYwL81q8QgUPvGv0jC3+4D35w/hzLflUyOrr+jqxzLzKfNv0smKn8bGcG/WjkvmDxa3L+qeIpU4N7Jv/L4Y+0KgcG/Z/0Wnd7a178HDd+/u13Jv1OCiPtuP6g/+KbtLM9Ayj/JriP+q/S9v8BKX+q0+sG/H52o3+go17+gR0cd+U1sv2E0XhbTB8C/JyVqpDJ5fL+s55RyVA3Fv4VsSfcAHc+/ZZrWZSvqyr+uhQhA1EeyPzoDm3A6V8G/GXwkEQrtrb9cBO1ZnUekv893FpgmF9W/4NRJXgUhyb9iZRUSKUqiP+x+45wp3Mo/p3RTfmt3xL/dj9JA2dfCvxdJHNZmB+S/vKm9bo7+zb8KchlSo7JeP2B1UQ4oLKS/Jx2I487Ehz9+RomsBni8P3N8Z3athds/BfapWYoSsb9EDN0dAUN1vxAOai6Uu94/8Fi85HOgpL92L2wxZqS1P3poi8Qg47G/CDbgGuvL0j9qtjfslEiYP/RbAONvorw/WKRAaJqpzb8HtW/Yyzahv5QTEoD5zqW/Z8579TtiwT+yYJ6ULBzJP8YlicQpjJs/5sAlntIP4j9yZVGHLNukP13/g0m3QMs/YX71UENg4D+QvsEpBqDEv/cWJ1pN3pg/gvnpdZYigL89Vv9i5uPcP26hTT+cDLc/q8/IzPBBdr+Ul13I7nyxvxxCXj2XSr4/pMUaUJP1xz9NTKT88yrJPxMjc+9dZ8s/69HvwbRf1T+dfAnAcdrBP0ixuOq3070/Tov5QcnV0T8yw/9chGPLP3srF8ZhCNc/O66OGZsf3j/fUPjja6fiPyqOA4u4f9U/HQ7xZKbQ2z9pes8GkNjcP27NLDA0iuY/8UslA4iZ0j/Q5uM22CbaP+XN1gK/tOE/DwMLnXaX2T+azXQd4qnTP3K6Z9x649I/oa9TH89Hzz9FV5u8dFHMPxA/djd9H9A/b9locY47qz9nV7PN7kHlP6nnYAt2fLa/233fftj32D+4/KiYmf6JP9arwtFkitE/FK3vAR+b2T8+AXaFyLzhPz8uIHFqqdw/YVKB7JaG1j8onTEsaFnfP7SaDHmNKtY/HlgjCTIg1T87FnRIvYzFP7otRwADjd0/+g9D23UwwD8M6RlzB2HaPySJZZA69OE/2E3fnwfe6T8kIlEX3+HkP8ERr3amZeM/T8E7p5Ti2T/6owZ8LTndP53n8lKOBuU/GslVChzRsD97IYWJVwXhPzszNxpSkNE/HWoL9X5g6z/C/K2wzSHmPw==\"},\"shape\":[158],\"dtype\":\"float64\",\"order\":\"little\"}],[\"PC2\",{\"type\":\"ndarray\",\"array\":{\"type\":\"bytes\",\"data\":\"VMxG9P5f0D/UbqjeygVgP6ct7R0hdtc/r3pGGH29zT8wuJ8BK0rOP91YBEmI1c4/rdeA2FzzzD+oebJBYUTVPwQ6Gdvt6dc/1MrdRJHs0D/auGwRoeLPv0ojVG9fKoe/s5h6zV1SmD/v4VkIwH+nv/6rsbOg26C/RgsOXMEiq7+jWGo/vrLEP5qhyOvG4sc/OUWYGFpGgb98LvI9EODPP8lZ8SI3888/nSNczKN5xz91rAqyloPNv0Ya6ddCx80/FYTMvj/Ct78wqcgFVyyjP889zlORwby/fAzPDb8C2T9SJnFGIrS6v7YR3cyotc2/3RruFzCy1L+fLEGLSEK+P4bZtYEUWry/O6xO/xMhqD9vD4Sxa165v+r+xB47C9O/GPmz9voDtT+YSt0dAubQvwMrLebXxGU/e4JVGi6jrj96QI7b3Oa2v2JnRXtcT8C/ENSDQyeJtD9YqPEAFr/XPw4Ze9A4RNi/ZQGTGBiVx7/Av7ozsNTWv9sfoNQiX6K/zVUsN7YNkz8EFMjVYX7dv/xRZYrTJ7c/L6ZKUnwWyb/LteAcg9OnP2jWn5aOFb+/OFMJoAwYwL/sYL2DL//gv6J/+TAUQcU/Yc3qzvB4yL89NUAanerBv0JBUUB6jce/Rqrs+K5mfb8PUlIeQwLcv4fPsexKrMS/UeAscSjX17/ePgKq4ze8v08FEnI9E7u/a1X5nqIozb95V1ABzzrHvwnMNZz1Rcu/rijEML0rxj/hFCvu286mP9m+U0hdSc4/t4b6tL+7xL/JUCREnnXavvhfWTR6XbE/CqtiHy0T0b+njOkcweyYv1Y4W7PJ9pY/zT7M+3otzj8ehuXsUtrAv2H545bkjr6/OWjsljT7u781kH+fKcjRv4LuuY9Dmse/aybliVL3xz8v60cNYrvUv4MTpWCxNti/Lcke53560L9clyz4exHTv2nsipWJ1Mc/4VccHWfL4z8kQXYk6Z+3vzn9kdDHA8y/CVoot1kFzz/aPJNdO0XNvy8D3ElOAN2/TzNJVGyRvT/MY0mBtfW1P+CrXpZBcNs/QgPBNwJYs7/EF/W4cNuov5OmK7Ov8uS/OxQk3YSR0L93Y2zY3MrWv+R2abDTPrG/yo99e8pxxD9UP0N5Qk/Tv+HduJ2/zMW/CXCvV9Q7uD/CD2/NXufAvxKEPsojB9S/YJ1B5r6217/RM7nor8S4v8YGpg3rPac/s8XVo+/Ilr/iEJRposSsP+lZ9w55XKw/MuSjMq2/wL9KIr57xpzJP4bvIKeLYbk/4c7rykuGpj+AWz9hjRvOP34lvApP7Ms/J7Wq6pg+rD+JmG+tG8XBP8oG5eFCgNY/Peh5LrG+1r/aHkUgPWvBP5uhFYPFcuA/Fa8zrEexyj8YvNRy50jTP7Z5/kz8g7w/sJFoV/D/xT9CUF42et/Wv3elhoYZGNS/b3wG9c3vmr+uMcN32LTJvxZXay+PTcc/sIXHH2fjtT+sUL4XLxy6P9LDbycaysg/nQIXJO/5sj+mReqJx6jCv8mPorXfd9Q/bZ4IlHut1D+fj6naPH61P71xgzUGV6m/t0WVtEt22T+hDZOlfWl/P/FoC2SiPtE/qdbW6kVx1D9+V6DFm6DKP9aAjsqg7MA/I0LHnYaC6T87V35jd7zNP7xODndCI54/YyJtO8AfqD8Lhfc/L4DKPw==\"},\"shape\":[158],\"dtype\":\"float64\",\"order\":\"little\"}],[\"PC3\",{\"type\":\"ndarray\",\"array\":{\"type\":\"bytes\",\"data\":\"oQ0wNLD4p7/MldCV/ODMv6ICGqVWOpO/CWsc4O9hsL8VNFQDkjWsv9232tb6ZbS/OpOaGWOwp78JsEcYnX2EP+4atEZITqI/gAnRNNS/YD9pR7HdOHjMvxa4cBa9O9i/Eba4vblvw78CKCaoDBLSv1mK4X1AMbu/12oYYsNv1b+AXH6lCArAPxdQZoknyp4/M+RWIPxSt7/scCa6EMWjP6tvxoaLhrU/tvUsCHBDqr+CVmrN3NnUvyQb1CY9K9Q/SN4Cjfec0L+vzP1Evoiiv+irfAzHX7u/ZItNVtbJ0z9iJSqB9aGdv8ep5WVIBM+/3ka9MSfWyr/tZNFtgJu1v5EeP/8jHtW/K0Wdo9Q0x7/C6wgoFKW5P3hCJrtfyai/eArjXCPppz+Vxragxl9rv9SjtR7osLI/FcP6ieliz78eO1ZRVobIvzTRt2j4q86/kHf6WAkE0b94+0ON3vzFv8hwDgNVjay/i0ZATxRWvj+k8MHb1se3P9y83aaaoba/NGJ8oksTxD8BP1/KHXC2P67TZwWcftO/ydACenRs0r9w94TSbsTGv93bUonmh8C/I9GrErCHk79Kgs+AqLi2v22f4/YvHb6/oEbzerfmwL8eohGddb54P++eryVVrrK/LWd8UEHOhT90PnHCF/Wov45i3NDT1IK/vA0L4VaKv7/q7Tg0DMDHvw4WjV2P4sQ/6lZuB0kPwj8MdewidSiav6JmuJH9CrO/f0mg1JJVpD+bXJz62iWYPz2wLt7TH+A/D2IdG/IHuT9MOFa93FSjv813hb4P5bm/BUTGx68Cwz8h26qwM7jCv/x/S1Yo8dK/voB2ZNfpoz/DnvSFg4mzP1RFAxth8kQ//QKIBsEJrD9A4QM6UCzFP504VeubK22/dIQHLY0s0L8xJ5S8kwKyP9JsjfVRKrc/nUALddOHvj+40iZdV57CP3yawGB6oqy/fAQyE1Gyqz+phFv1ZeSnv3ZB66Zh97s/2X6CKfdY17/ajR3M17u/P2f9VzqchMM/rl+cHGQ1078OT8Wh1ki6P4e8Z/FGg7k/rTZ6VxNXoj+fXTEePhnQvy9eYCJn6s8/gv5x15XnzD9Xf44X+1XHP1hDXug0RqQ/SVaYyRcZob/OyrBje2bCP4cS7IOB67Y/yq4AlNv4YT9piTgoDinRP5CcMygd/rg/Rnu8Gyko0j+OTvfFbaaYv6FZdl+tHri//xHKT7raw7/t+vGN3CPKv7qOIzgqoa4/HCMdjwvlpT9AaKYXZa+sP+8G4TsaZNO/S1Svn8SqYD+AU4rzfPuyvxdloZSSg9K/lAntZYS1pT8S9JRv8eGkvxttwaSWM7M//DSP4QcgyT9p9KWGxIOpvxwNN7d10Mw/tGo6M4JC2j9P4YrYdSfKv/xtEJraNNI/OsQiExSKwb8Xz/w7XtPRP56BjbU+NdA/4LdniG/Woj9FkaDshNCxP1BQZ/IHXbK/jHrmO5swtT9CyMvDGLO5P/rquiPG4qG/FE5h9pTFtj9B6p33HcvRP6j7RMYpoKa/13KiuOZCyD+oflvMgXu1P5mo7WL2wME/+VFqx2XMwb8QTC1CvRJ6v9IEpKDk1qQ/8Bo1jnVntD8B9VaPzNaxPxoaga/9D8c/uqdD9jgG3D88ltc0Zwy5P7zMO/MZluc/n431IHJzxz+AuWewn+7MPw==\"},\"shape\":[158],\"dtype\":\"float64\",\"order\":\"little\"}],[\"PC4\",{\"type\":\"ndarray\",\"array\":{\"type\":\"bytes\",\"data\":\"ZZeiWr+2yb9MvSFrNkzHPyGqRkDzNNC/Bq6V9oL6u78gsjLddxR/v13dkM5DXdC/xCeydDa4Or+gOr6exgvGv3brhLYF77S/uAmj8A7Bk7+V1C2ppYyPP2nAmpyfcK8/il+hb4bjsD9uq+8XFhHUvwvRdflb67Y/Heu8tI3gx7+yqh4Vw+HCv0P3Yji3prk/g50aAeaHqL/og/xXVifJv01Rt+tRJrU/lRlyRq9qyL/lQcw9AdHHvzTIonPuZdO/F8OvCtO1pz9+rxNp/FOpP71s2IzU9ZI/jPpTCwy50L9JSeTTmZqyvygLkIJu4q+/Z5QopzuHkz8iHSfD7PGjv1ukrgxoLLA//Ii5rpCu2T+Du8RaMxjav3Y+Cfx07Lo/NpB8VWRs1j/3gx9+JsueP7/ahPlsHb2/I1GrBd7JqL9GZ47tVePOP9QnuhC+OsW/UveogWU5tz8pb0ZgOoClv/k8w1jsuJ0/AGP7+jWqgb+4N4aqII2fv7PAWIetxMC/mlQYdlxMxr/qVVA8EU+xP/uld5KG+aE/s/sAwgklmr9Xh423vPjMP072HY67D5Q/gEMDDjod1D/NLIUmdYa8vyu46bbBfqk/D4J1qonplr/d7PD69/jBv7mtKESej8c/BYetDCthxj8M9PaVYM3Fv5u+p0yQgVW/f+OVfOcfq7+O0AtUbBjFPzoIBd/RIr0/FvoP0fZCwT8z/WQC0Y/Pv+xqyQ57Ma2/CZ7BCNvBxb8myzUiWS3RP+x/oC6QG7c/cXoZnmB9g79gXS7M32jZP9J2G7sy37g/LnQwqtz8yb+Lv75QjsrIP7vT6N+J6qG/VP2c+kuS0D8yiam3iYnDvxW1fF9U286/Jo2QJOieqb9+pCKpuufHv7aHBrrzVcA/taPjjjgRpr84ejDee9uwP5rfl5Xkf30/p3nkdF6n0D+QPXAQ7E+qP/r/XXltpMg/lcyEGMqZt7/P3vFokCG9v+EKB9YGS7k/hY/bP9Jixb8mVF7N4JGQP65iQll5Mns/5rWuMjOMxb+QN+l97KnJP0Q+H8zVrbw/mOi4dzsa1T+33DZKgESivwFrX2FexcK/jn7gUZrMuj/vqYX06Z/BPyf6Lwld7r8/1k36SIM3mj/R6Hva8JTBv5r+o76WwMC/IJQYaT5/tr88FeojUzW8PxGcKwpSQLc//sOUFtsi0b+Mq5ke3eOSvyeQIqKYh6w/knq55O6wrb++6VB2G6umv3jXyJ5tLZC/BOzc/06vyr/fE4jSGEmPv/r/VQ5h5ba/5Xqk1z0xxT8kqEDkcHqqv90uei1sEZa/q+HKPLdKw78OKJ+ahhrPPw1n8Tr7ZMq/nCk6k/Svrb9IJNNLgA6QP/R0s/w80Nc/2tJPa3IS2b8CginVPp6XP+MqU6+IbNo/7S5p/NZfwD+v54aq2jTIP7Xl696iubS/Wy8Xqiu2q7/RGOSePbDGv2Dz6aCe76A/zkw8vlaPo78mN/nrJmvHv1w4uW6Oz9A/4IMiVnfWuT80e39mATGVvwC1B5ISdpo/YA4zf+L62z9G4bMVys3NP2J0WK1N9J6/0irj4GgZsr+59QZiM+ecvzHUUU9RKHs/3YF9JhDdjD+kQ8AYpBWzP/8GJ3yV+Iy/mLD7hEzGyr9a5jBNWZe0PxBBHgyF8MA/4kVJ3I/AwL/CO+RnB6yivw==\"},\"shape\":[158],\"dtype\":\"float64\",\"order\":\"little\"}],[\"PC5\",{\"type\":\"ndarray\",\"array\":{\"type\":\"bytes\",\"data\":\"9re7gWa3db9DFm7hd/rBv1K40fbn9Sg/emF9Hp0Uir8J7p5m3mO9v45K2RqUPJg//SrX4HJOwr8wkat579ikv6vW5L5JCrm/0zeW5gimtb+b3kN363vNvy8LjVR/HcC/1aYajjtwrL9uIz2RSVXNv293+XWh6b6/Em7RI3zskb+vSo5Tu6ujP9UzL+17M6G/WQWloFn2kj9IG8brjnWZP4j/LkgSu72/kiO/Q1V9lT/dmR/YOPygP9FSWuSKJbq/RqdZGXkSs7/JA7Mx/q6hP23d6XVkY8e/isTg1Uw9tz8GOu95HRayP2iv6v1IoY4/NKlSDQ+gdz/uJlUUf4CcP0qbXLa52o8/OlNaOSLIxr/3/XWdzhWeP/n/4t6Gn5o/ZHvLQhTGsb9nW6u78xG8v4AafvROccY/VSOXIVKTbb/jd3bq1r+jP74HadpqGrC/gNPDlMi9s780B2fNBT/HPwMQb4Ce26Q/DBaWqRlUvj91LzTiOmDDv7fesrhAAqG/EUG8vYsexT87y2u0FPazv/PwAZAff5e/W1Iew0JPw79dVCcQZbmhPx4FoN3RuMA/1ZByuquNuT8Gm6Yxfpa6P+zCp+0dUaK/eI+OdKdYsb/5H0TiHK2/P8Mzeb5T38I/82pACqReiL9lozcOUaLCv7zS52PzOq8/2Vd+W/1xyT8hff4++cmZPzHHa9sf5pK/Nh45ucjDxr8rRQPZocmyP9MPt0JQfs6/Wsznki/bzT9HuxVdr8qqvwVn+HsiJZw/kc2x+mpwyz8VO6l9JLy/v1qmjTM6mZy/0PcAvgE0kL/y2aWzhIeivwTs1LDR9oc/Q9pmoVI8h78vNEXXrt+3P+6hfJ+swty/vO9UNEcjuz/RWQZ+q0myv5ligMhjHak/pp9f5cpnsT8BKueFo1mdvzab7BFJO6+/75hXBTRgwz/AdnU6COSzPx1uD9PPtbw/p592C9E5vb8IYer9zDGyv/vSmTKth4C/HOIbOBOxsz9e6iF4ALG0v4dIU7lP2Me/zhmC91byxT8+WPuReDvMPwZOBjoIYrm/itm8v/VoxD91mcxkLnTMP0eVSjZAeYC/+9dEe9vZuL+sOwlN6r3IP/P/uVlWi5y/65aJgPsBor/m+JpdUcC+vzyoqG0C3FO/tUpsOy3l0L+h92Sr/rPQv0YaaUnSpsE/wxUKOPNFtL/wp6r9BtPVPwgLzA2rw66/AfMXN06Brz+e5XpUQJi+v8GqC1+NUM6/T8YF8ujAqz8cTcQ/ySjMv9hP21GEVaM/k5aLq2YJub/+d//wxh/Cv6EQJD6h+sg/MF2JQG4unT/7iAKj9JuTP45FiJH7d4w/LXXFmW8fob955ngVlRngP7Syg6yMttW/3AUETeQLsr9nmRWcyKbOv2T6I1SO9bM/8dcnJi6MxT9Qobwy1jjJPxhEx6ZV2H8/+nc0DGklsz9PgIPD8qzGPyDpV8MaFs8/WChmuPVXwj9U0EvauVGjPzvCZOrw08o/IAaXwZFfwz/Q6jUiZKPTP1yT85jywrk/16EeKrWrrL8RrJ1gS2W2P1aKojSJvLW/L+7IicFCzb+Z4QOaBz69P/2ir/9dW7W/zDG5j6tczz+34s+LKyDGP8ubPeVNQc+/1EJ+9p3Xzz8DaZuKzZCOv3QV4cwuzsq/QXwgM8tNtL8P/37ORj+2vw==\"},\"shape\":[158],\"dtype\":\"float64\",\"order\":\"little\"}],[\"PC6\",{\"type\":\"ndarray\",\"array\":{\"type\":\"bytes\",\"data\":\"BGnD+VkLn7+LpSIQIUi1vwgvl5E3yry/p4C85uEupr9Eb9KqNM7Avy0IRW0EAGu/er/HDnHKwb/sbGWhQeSwv2N5jhbVl8W/H4hTHwcbub8BrPgVso27v9h6V73m0bk/pVUtedk/cT+2htPhW0PBP59jaXXASLW/6VqXKxBYdD83IAk8sfeDPwjnHxnkqcK/xMroP7qJoz9ozOILoQmsP1DJVynwCse/Y8I+eCPEuz+sCB03HPyfP6OG29K3/Ya/bY+oNYBEpz/R4N7D7ZWWP1/xkAr+lLG/QDgLNV2Zgb/quA8HXqq6P1lj0PEMRqM/xq3vOCSmuj/yHkhXM7OsPxeo2QzMua0/p01gpMsBx78yowI+hEy9v8tShIPFe5I/CVLlpU3svb89ZK+R+MZ8v80t6o7WCLI/Bt6Avg3Vxz/1Fupk9SmTP9jZ93yUAa8/ttlqvja4tj+Lldan/AyFvxD0tIkvAri/h8XaO6P+tz89X3tUTM+pP/tdf/vCocE//QRF6dsQrL81XgIZQga+v5kAN0m0RMI/WkfaYxY3p79TqhypWiO1vwRYpK3mtL8//GpVYXAjvD/1h449IB21v6bSBnET4Yw/Vhz6mficuD/f7/tBaLWpvx4iUQ/VorQ/9uMUyZkzlz9z+aucexHAP4eLRPh971c/gH8F+poTrD+aHpsYwFSwP07ZsZ0Fg68/D+wIExv5rT8rY/tW3oKvv0HHF6tzTrW/uziA6QVytL+ppXuL7TmuP8XbKll33og/gK7UvjzKqj+TLlE2yG/CvwiilrZBvc8/2QySmLLTrL8GRwhZS52xv+9SwhwVf72/OWgPIIMswb8Uf0Hhs2C0P3A6EM9cqLu/zE9/dXr5rD+AZZfkZt+5v9cbrV43bdE/9owd+pkmqT+4JqRUQMG+P/mv7j9Twrq/UTwbKcHZxj9BhPBjQHWwvz7SA5imvsE/n05HpAWl0L8vnYUnC3jQP8U23VYGo5S/WOY2GQF9yL8i5J0xqTXCP2eoIehHQMe/hIuS8VjpxL+lVwP+MYW0PzQz/GZzErI/uWGAOm8Wwr+fGv6oHX7Ev2T4EubqjYq/aMVysN64tz89qHLQzsmcvxODpiyHEaI/9fdsnUOotD+zGrGoOW3HP8ypjSbFvqC/ctPJAwFczD/KJjK00jyYP2nKI8fx8b+/Qlemr9C+z7/0EWY/4Ae+vx+0EZxLAL4//I9rZgH+xL9zLVkOX6Czv3HLmY6zssk/N8YU+0NB078V+2LBp9PQv5Z/9Wuk5NC/m07k/J1unb8LvMO6Ple9P3ao67se3rW/vYubK0y5w7+iI0l97Wy8vzFdWM0G0sA/auTg4XVqrj9oPLBsj7eJP3+zBVRt2dK/ZmtwOWqU0j+x6fATUY29P+hhEXc6BYI/XAfllDt/sz9pPTEr8zOOPxfakblqaVo/ulpz5NvPwj9524vwgejIv/Pl2qa39bW/GQRPWlT4wz8s5BcOeHm8v9KXhhVqIri/kxZczNoepr/gQu/JoQWpP/qB9FYTzrc/Veh9hh2f0D+fkJMvedbFvw4EhXPRAK6/VCI3n1ZO1z8OVVLfrte1vywLehWn9rI/VyyBfMHHrD+ed25OpyuKv+v25zv2V4i/PHdYcPYbsT/icRBAJ/XTPxOLMdVRT8S/0Hci+WLCrL9T8JhGE9jSPw==\"},\"shape\":[158],\"dtype\":\"float64\",\"order\":\"little\"}],[\"PC7\",{\"type\":\"ndarray\",\"array\":{\"type\":\"bytes\",\"data\":\"qlm8B5aQn7+qBOx+GnuaP0kZccKxb6C/Fvo1sNqxrT/kU8EsT6egP2d0ImPi9a6/2lY2cf9orT+3VGEEhwWRv62YpFdAoZe/8TCYU15Kgz+4aJnoGEqcP62JyuVA87S/1v2CeJgNqD/8yCNkYUGXvwxCrIifDb8/Hmt6VTmMpb9fs5xwZBmzPyuJFPRiNqE/DcBxI1SXjL+WrnCWwbO3P5AnqMMnG5g/oHuiramwuT8cyy3ilbSov/nbkOoPwpQ/GFLPaCaYcb/9po4P3+uGPxvyafddZYE/uGOFMCc5yT9zXnqdqiu0v5GFn8F4+K2/sgTpQLdPj79QKjouWomvvwXS6iguU56/KpIt6r5mtD8rO29HEwO4P9kJyoEy4LG/3SwEsBJepz/KVQCrtWuxP+S07QP49cU/EfLKTIcdtT/BUGIeT5zIPxAAJS2lVLa/TzEk21Cvk7/u6+EzNObGvysdemznx2W/fa8gUbKZvb/YNTnSMwhDP4exlEz+Pb2/6S32nQKeoD+UVe/rdriZvx4fSkbpeGs/Lku9spgAs7/Of4uBb/awvwR0qQ08qLE/RSxS1yXEgr+5ygJc1qeUvxUcowL6Rsi//5O1N34Vmb8nu/4l0be0v2TEX3MkCI6/Ptc8cF5VuD/Z/dPF4ESiP1ixRJGGX6g/QFWFP5zVeT9cdNoUL9Spv/8Up52i7Ia/wXGE8BlSrz+6HfXA6xmgv/B6CZ/9eq0/KR/dbMCqkb9u2DZmiYG3P75iGThAv2a/mmJYJ5jqqb8XYpRqP0K2P9q7bW2rhcG/LwHz3MEkVb+aoA4oI3HEvya9Mq8N/Mw/JJrGbST+pT9KBZQgEv+YP1cF8VYkAr4/fiDw0BSBsb8n4XPA6SWLv8M5Bb1Ee7a/SeCvoLXanz+e2eoPNIufP5WEVDVIHaG/Vh9skeGmoL+OUH2C6wCfPxI9TlC4E5+/W0TSQZuew79Nzeg7VD98P3f99T9lb5S/sIP2t7zkqr/dUEtiYvutv+qz1g7T/Ky/uEJ7kvr1rz+k5GMbHNqpv6irai1OVJg/yBNjuk21jr+jOuH1zrfMPxGWj54G8aq/SHVzeyIKjD/bcbNgn1yVv5S4FlRbv7+/EhC7TAPcwb8nviIU1o87v9y+q3dE4cO/li0HLnIPrL/v/54Y83LHPwt3P5gVZLu/1WIik8+DsT9Hs/IQ5ODBPxTo2fQoSrU/OEdXzH1bu78mUSEmN6O9vxLV1GhnnMA/BNUU0KAipb+U9Qwg2f+PvwUqUhEhoLG/8yyya6XHu79ZODVeav+3vwljQbDiMsA/JjjzAv9rmb8P930/HAGkv7ZWAVkc5FA/u9eZYi8Ltb9mcLvWYjbTP83PYaKxD6U/oO80r0AJt78oGq7D5nCjP65VGcQsCG6/0JB0Qj8prj8dB1svtoWsv4H1RxhH8qA/+EFfkpzBlT+ZjHb+HMfIP9yI3NnHJa6/qu7d4i2XwD/7QTCqCDzAv7WQX581hMC/NCQOzYMmvr+GmlUO94HCP5CMk1Qs4cC/PPXmsLn1jL8iKeocjVC0v3huuYVnt8C/4zcdrOOLyj8NDPznfCqzP6wyb8iSbqY/gkV3W9e1uj/GTKrFJV+qv8mGC5KGr8A/jqwLsxgYzr9ao6CFYD2rP2chdNJ6FVU/9qqZz++np796/LavSoewPw==\"},\"shape\":[158],\"dtype\":\"float64\",\"order\":\"little\"}],[\"Country\",{\"type\":\"ndarray\",\"array\":[\"Switzerland\",\"Iceland\",\"Denmark\",\"Norway\",\"Canada\",\"Finland\",\"Netherlands\",\"Sweden\",\"New Zealand\",\"Australia\",\"Israel\",\"Costa Rica\",\"Austria\",\"Mexico\",\"United States\",\"Brazil\",\"Luxembourg\",\"Ireland\",\"Belgium\",\"United Arab Emirates\",\"United Kingdom\",\"Oman\",\"Venezuela\",\"Singapore\",\"Panama\",\"Germany\",\"Chile\",\"Qatar\",\"France\",\"Argentina\",\"Czech Republic\",\"Uruguay\",\"Colombia\",\"Thailand\",\"Saudi Arabia\",\"Spain\",\"Malta\",\"Taiwan\",\"Kuwait\",\"Suriname\",\"Trinidad and Tobago\",\"El Salvador\",\"Guatemala\",\"Uzbekistan\",\"Slovakia\",\"Japan\",\"South Korea\",\"Ecuador\",\"Bahrain\",\"Italy\",\"Bolivia\",\"Moldova\",\"Paraguay\",\"Kazakhstan\",\"Slovenia\",\"Lithuania\",\"Nicaragua\",\"Peru\",\"Belarus\",\"Poland\",\"Malaysia\",\"Croatia\",\"Libya\",\"Russia\",\"Jamaica\",\"North Cyprus\",\"Cyprus\",\"Algeria\",\"Kosovo\",\"Turkmenistan\",\"Mauritius\",\"Hong Kong\",\"Estonia\",\"Indonesia\",\"Vietnam\",\"Turkey\",\"Kyrgyzstan\",\"Nigeria\",\"Bhutan\",\"Azerbaijan\",\"Pakistan\",\"Jordan\",\"Montenegro\",\"China\",\"Zambia\",\"Romania\",\"Serbia\",\"Portugal\",\"Latvia\",\"Philippines\",\"Somaliland region\",\"Morocco\",\"Macedonia\",\"Mozambique\",\"Albania\",\"Bosnia and Herzegovina\",\"Lesotho\",\"Dominican Republic\",\"Laos\",\"Mongolia\",\"Swaziland\",\"Greece\",\"Lebanon\",\"Hungary\",\"Honduras\",\"Tajikistan\",\"Tunisia\",\"Palestinian Territories\",\"Bangladesh\",\"Iran\",\"Ukraine\",\"Iraq\",\"South Africa\",\"Ghana\",\"Zimbabwe\",\"Liberia\",\"India\",\"Sudan\",\"Haiti\",\"Congo (Kinshasa)\",\"Nepal\",\"Ethiopia\",\"Sierra Leone\",\"Mauritania\",\"Kenya\",\"Djibouti\",\"Armenia\",\"Botswana\",\"Myanmar\",\"Georgia\",\"Malawi\",\"Sri Lanka\",\"Cameroon\",\"Bulgaria\",\"Egypt\",\"Yemen\",\"Angola\",\"Mali\",\"Congo (Brazzaville)\",\"Comoros\",\"Uganda\",\"Senegal\",\"Gabon\",\"Niger\",\"Cambodia\",\"Tanzania\",\"Madagascar\",\"Central African Republic\",\"Chad\",\"Guinea\",\"Ivory Coast\",\"Burkina Faso\",\"Afghanistan\",\"Rwanda\",\"Benin\",\"Syria\",\"Burundi\",\"Togo\"],\"shape\":[158],\"dtype\":\"object\",\"order\":\"little\"}],[\"Happiness Score\",{\"type\":\"ndarray\",\"array\":{\"type\":\"bytes\",\"data\":\"DAIrhxZZHkBYObTIdj4eQM/3U+OlGx5ASgwCK4cWHkBoke18P7UdQDm0yHa+nx1AUI2XbhKDHUDb+X5qvHQdQL6fGi/dJB1AiUFg5dAiHUDpJjEIrBwdQIGVQ4ts5xxAzczMzMzMHEBzaJHtfL8cQGDl0CLbeRxAO99PjZfuG0BiEFg5tMgbQMP1KFyPwhtAc2iR7Xy/G0C0yHa+n5obQCuHFtnOdxtAtvP91HhpG0A9CtejcD0bQP7UeOkmMRtAvp8aL90kG0AAAAAAAAAbQK5H4XoUrhpAi2zn+6lxGkDNzMzMzEwaQLKd76fGSxpAhetRuB4FGkBxPQrXo/AZQJzEILBy6BlAUrgehevRGUC+nxov3aQZQDeJQWDlUBlAaJHtfD81GUD+1HjpJjEZQK5H4XoULhlA+n5qvHQTGUB56SYxCKwYQIXrUbgehRhAy6FFtvN9GEBQjZduEgMYQHsUrkfh+hdAppvEILDyF0BWDi2yne8XQGZmZmZm5hdA16NwPQrXF0CYbhKDwMoXQI/C9ShcjxdAdZMYBFaOF0BQjZduEoMXQOxRuB6FaxdAMQisHFpkF0CiRbbz/VQXQB1aZDvfTxdAsp3vp8ZLF0CNl24Sg0AXQESLbOf7KRdAFK5H4XoUF0Dwp8ZLNwkXQGq8dJMYBBdAd76fGi/dFkC8dJMYBNYWQEjhehSuxxZAqMZLN4nBFkDsUbgehWsWQEJg5dAiWxZA/tR46SYxFkCcxCCwcugVQEw3iUFg5RVAnu+nxku3FUB/arx0k5gVQHE9CtejcBVAhxbZzvdTFUC+nxov3SQVQN9PjZduEhVAUI2XbhIDFUAMAiuHFtkUQC2yne+nxhRA+FPjpZvEFED4U+Olm8QUQI/C9ShcjxRAarx0kxiEFEDl0CLb+X4UQMuhRbbzfRRAnMQgsHJoFEAxCKwcWmQUQJhuEoPAShRA7nw/NV46FEBaZDvfTw0UQLpJDAIrBxRA/Knx0k3iE0C8dJMYBNYTQLKd76fGyxNAZDvfT42XE0AK16NwPYoTQBsv3SQGgRNA5dAi2/l+E0ArhxbZzncTQCGwcmiRbRNAQmDl0CJbE0AzMzMzMzMTQPT91HjpJhNAvp8aL90kE0Db+X5qvPQSQFyPwvUo3BJALbKd76fGEkBYObTIdr4SQNNNYhBYuRJAaJHtfD+1EkDFILByaJESQNV46SYxiBJAcT0K16NwEkBiEFg5tEgSQMP1KFyPQhJAMzMzMzMzEkDfT42XbhISQMUgsHJoERJAdZMYBFYOEkA/NV66SQwSQLpJDAIrBxJAWDm0yHa+EUCTGARWDq0RQGDl0CLbeRFAZmZmZmZmEUCHFtnO91MRQO58PzVeOhFA46WbxCAwEUBeukkMAisRQC/dJAaBFRFANV66SQwCEUCsHFpkO98QQC2yne+nxhBAAiuHFtlOEEBvEoPAyiEQQPYoXI/C9Q9AtvP91HjpD0DZzvdT46UPQKabxCCwcg9ACKwcWmQ7D0BeukkMAisPQMP1KFyPwg5AWmQ730+NDkBzaJHtfD8OQKabxCCwcg1ABoGVQ4tsDUC8dJMYBFYNQHNoke18Pw1APQrXo3A9DUAZBFYOLbIMQJqZmZmZmQxAuB6F61G4C0C4HoXrUbgKQD81XrpJDAhAPQrXo3A9B0CDwMqhRbYGQA==\"},\"shape\":[158],\"dtype\":\"float64\",\"order\":\"little\"}],[\"Happiness Color\",{\"type\":\"ndarray\",\"array\":[\"#b2182b\",\"#b2182b\",\"#b2182b\",\"#b2182b\",\"#b2182b\",\"#b2182b\",\"#b2182b\",\"#b2182b\",\"#b2182b\",\"#b2182b\",\"#b2182b\",\"#b2182b\",\"#b2182b\",\"#b2182b\",\"#b2182b\",\"#ef8a62\",\"#ef8a62\",\"#ef8a62\",\"#ef8a62\",\"#ef8a62\",\"#ef8a62\",\"#ef8a62\",\"#ef8a62\",\"#ef8a62\",\"#ef8a62\",\"#ef8a62\",\"#ef8a62\",\"#ef8a62\",\"#ef8a62\",\"#ef8a62\",\"#ef8a62\",\"#ef8a62\",\"#ef8a62\",\"#ef8a62\",\"#ef8a62\",\"#ef8a62\",\"#ef8a62\",\"#ef8a62\",\"#ef8a62\",\"#ef8a62\",\"#ef8a62\",\"#ef8a62\",\"#ef8a62\",\"#ef8a62\",\"#fddbc7\",\"#fddbc7\",\"#fddbc7\",\"#fddbc7\",\"#fddbc7\",\"#fddbc7\",\"#fddbc7\",\"#fddbc7\",\"#fddbc7\",\"#fddbc7\",\"#fddbc7\",\"#fddbc7\",\"#fddbc7\",\"#fddbc7\",\"#fddbc7\",\"#fddbc7\",\"#fddbc7\",\"#fddbc7\",\"#fddbc7\",\"#fddbc7\",\"#fddbc7\",\"#fddbc7\",\"#fddbc7\",\"#fddbc7\",\"#fddbc7\",\"#fddbc7\",\"#fddbc7\",\"#fddbc7\",\"#fddbc7\",\"#fddbc7\",\"#fddbc7\",\"#fddbc7\",\"#fddbc7\",\"#fddbc7\",\"#fddbc7\",\"#fddbc7\",\"#fddbc7\",\"#fddbc7\",\"#fddbc7\",\"#fddbc7\",\"#fddbc7\",\"#fddbc7\",\"#fddbc7\",\"#fddbc7\",\"#fddbc7\",\"#fddbc7\",\"#fddbc7\",\"#fddbc7\",\"#fddbc7\",\"#d1e5f0\",\"#d1e5f0\",\"#d1e5f0\",\"#d1e5f0\",\"#d1e5f0\",\"#d1e5f0\",\"#d1e5f0\",\"#d1e5f0\",\"#d1e5f0\",\"#d1e5f0\",\"#d1e5f0\",\"#d1e5f0\",\"#d1e5f0\",\"#d1e5f0\",\"#d1e5f0\",\"#d1e5f0\",\"#d1e5f0\",\"#d1e5f0\",\"#d1e5f0\",\"#d1e5f0\",\"#d1e5f0\",\"#d1e5f0\",\"#d1e5f0\",\"#d1e5f0\",\"#d1e5f0\",\"#d1e5f0\",\"#d1e5f0\",\"#d1e5f0\",\"#d1e5f0\",\"#d1e5f0\",\"#d1e5f0\",\"#d1e5f0\",\"#d1e5f0\",\"#d1e5f0\",\"#d1e5f0\",\"#d1e5f0\",\"#d1e5f0\",\"#d1e5f0\",\"#d1e5f0\",\"#d1e5f0\",\"#d1e5f0\",\"#d1e5f0\",\"#d1e5f0\",\"#d1e5f0\",\"#67a9cf\",\"#67a9cf\",\"#67a9cf\",\"#67a9cf\",\"#67a9cf\",\"#67a9cf\",\"#67a9cf\",\"#67a9cf\",\"#67a9cf\",\"#67a9cf\",\"#67a9cf\",\"#67a9cf\",\"#67a9cf\",\"#67a9cf\",\"#67a9cf\",\"#67a9cf\",\"#67a9cf\",\"#67a9cf\",\"#67a9cf\",\"#2166ac\",\"#2166ac\"],\"shape\":[158],\"dtype\":\"object\",\"order\":\"little\"}]]}}},\"view\":{\"type\":\"object\",\"name\":\"CDSView\",\"id\":\"p1041\",\"attributes\":{\"filter\":{\"type\":\"object\",\"name\":\"AllIndices\",\"id\":\"p1042\"}}},\"glyph\":{\"type\":\"object\",\"name\":\"Circle\",\"id\":\"p1037\",\"attributes\":{\"x\":{\"type\":\"field\",\"field\":\"PC1\"},\"y\":{\"type\":\"field\",\"field\":\"PC2\"},\"size\":{\"type\":\"value\",\"value\":8},\"line_color\":{\"type\":\"value\",\"value\":\"#1f77b4\"},\"line_alpha\":{\"type\":\"value\",\"value\":0.85},\"fill_color\":{\"type\":\"field\",\"field\":\"Happiness Color\"},\"fill_alpha\":{\"type\":\"value\",\"value\":0.85},\"hatch_alpha\":{\"type\":\"value\",\"value\":0.85}}},\"nonselection_glyph\":{\"type\":\"object\",\"name\":\"Circle\",\"id\":\"p1038\",\"attributes\":{\"x\":{\"type\":\"field\",\"field\":\"PC1\"},\"y\":{\"type\":\"field\",\"field\":\"PC2\"},\"size\":{\"type\":\"value\",\"value\":8},\"line_color\":{\"type\":\"value\",\"value\":\"#1f77b4\"},\"line_alpha\":{\"type\":\"value\",\"value\":0.1},\"fill_color\":{\"type\":\"field\",\"field\":\"Happiness Color\"},\"fill_alpha\":{\"type\":\"value\",\"value\":0.1},\"hatch_alpha\":{\"type\":\"value\",\"value\":0.1}}},\"muted_glyph\":{\"type\":\"object\",\"name\":\"Circle\",\"id\":\"p1039\",\"attributes\":{\"x\":{\"type\":\"field\",\"field\":\"PC1\"},\"y\":{\"type\":\"field\",\"field\":\"PC2\"},\"size\":{\"type\":\"value\",\"value\":8},\"line_color\":{\"type\":\"value\",\"value\":\"#1f77b4\"},\"line_alpha\":{\"type\":\"value\",\"value\":0.2},\"fill_color\":{\"type\":\"field\",\"field\":\"Happiness Color\"},\"fill_alpha\":{\"type\":\"value\",\"value\":0.2},\"hatch_alpha\":{\"type\":\"value\",\"value\":0.2}}}}}],\"toolbar\":{\"type\":\"object\",\"name\":\"Toolbar\",\"id\":\"p1018\",\"attributes\":{\"tools\":[{\"type\":\"object\",\"name\":\"PanTool\",\"id\":\"p1002\"},{\"type\":\"object\",\"name\":\"BoxZoomTool\",\"id\":\"p1003\",\"attributes\":{\"overlay\":{\"type\":\"object\",\"name\":\"BoxAnnotation\",\"id\":\"p1004\",\"attributes\":{\"syncable\":false,\"level\":\"overlay\",\"visible\":false,\"left\":{\"type\":\"number\",\"value\":\"nan\"},\"right\":{\"type\":\"number\",\"value\":\"nan\"},\"top\":{\"type\":\"number\",\"value\":\"nan\"},\"bottom\":{\"type\":\"number\",\"value\":\"nan\"},\"left_units\":\"canvas\",\"right_units\":\"canvas\",\"top_units\":\"canvas\",\"bottom_units\":\"canvas\",\"line_color\":\"black\",\"line_alpha\":1.0,\"line_width\":2,\"line_dash\":[4,4],\"fill_color\":\"lightgrey\",\"fill_alpha\":0.5}}}},{\"type\":\"object\",\"name\":\"HoverTool\",\"id\":\"p1001\",\"attributes\":{\"renderers\":\"auto\",\"tooltips\":[[\"Country\",\"@Country\"]]}},{\"type\":\"object\",\"name\":\"ResetTool\",\"id\":\"p1009\"}]}},\"left\":[{\"type\":\"object\",\"name\":\"LinearAxis\",\"id\":\"p1026\",\"attributes\":{\"ticker\":{\"type\":\"object\",\"name\":\"BasicTicker\",\"id\":\"p1027\",\"attributes\":{\"mantissas\":[1,2,5]}},\"formatter\":{\"type\":\"object\",\"name\":\"BasicTickFormatter\",\"id\":\"p1028\"},\"major_label_policy\":{\"type\":\"object\",\"name\":\"AllLabels\",\"id\":\"p1029\"}}}],\"below\":[{\"type\":\"object\",\"name\":\"LinearAxis\",\"id\":\"p1021\",\"attributes\":{\"ticker\":{\"type\":\"object\",\"name\":\"BasicTicker\",\"id\":\"p1022\",\"attributes\":{\"mantissas\":[1,2,5]}},\"formatter\":{\"type\":\"object\",\"name\":\"BasicTickFormatter\",\"id\":\"p1023\"},\"major_label_policy\":{\"type\":\"object\",\"name\":\"AllLabels\",\"id\":\"p1024\"}}}],\"center\":[{\"type\":\"object\",\"name\":\"Grid\",\"id\":\"p1025\",\"attributes\":{\"axis\":{\"id\":\"p1021\"}}},{\"type\":\"object\",\"name\":\"Grid\",\"id\":\"p1030\",\"attributes\":{\"dimension\":1,\"axis\":{\"id\":\"p1026\"}}}]}}]}};\n",
       "  const render_items = [{\"docid\":\"8219519e-4abd-4a53-b1cc-6e165002ab68\",\"roots\":{\"p1010\":\"ada379e6-525f-4897-83cb-697bac10d930\"},\"root_ids\":[\"p1010\"]}];\n",
       "  root.Bokeh.embed.embed_items_notebook(docs_json, render_items);\n",
       "  }\n",
       "  if (root.Bokeh !== undefined) {\n",
       "    embed_document(root);\n",
       "  } else {\n",
       "    let attempts = 0;\n",
       "    const timer = setInterval(function(root) {\n",
       "      if (root.Bokeh !== undefined) {\n",
       "        clearInterval(timer);\n",
       "        embed_document(root);\n",
       "      } else {\n",
       "        attempts++;\n",
       "        if (attempts > 100) {\n",
       "          clearInterval(timer);\n",
       "          console.log(\"Bokeh: ERROR: Unable to run BokehJS code because BokehJS library is missing\");\n",
       "        }\n",
       "      }\n",
       "    }, 10, root)\n",
       "  }\n",
       "})(window);"
      ],
      "application/vnd.bokehjs_exec.v0+json": ""
     },
     "metadata": {
      "application/vnd.bokehjs_exec.v0+json": {
       "id": "p1010"
      }
     },
     "output_type": "display_data"
    }
   ],
   "source": [
    "hovertool = HoverTool(tooltips=[('Country', '@Country')])\n",
    "fig = figure(tools=[PanTool(), BoxZoomTool(), hovertool, ResetTool()],\n",
    "             width=500, height=400)\n",
    "fig.circle('PC1', 'PC2', source=pca_data, fill_color='Happiness Color',\n",
    "           size=8, alpha=0.85)\n",
    "show(fig)"
   ]
  },
  {
   "cell_type": "markdown",
   "metadata": {},
   "source": [
    "It is clear from the plot above that the first principal component seems to be a good indicator for the countries with a high happiness score (colored red)."
   ]
  },
  {
   "cell_type": "markdown",
   "metadata": {},
   "source": [
    "### Linear Discriminant Analysis (LDA)"
   ]
  },
  {
   "cell_type": "markdown",
   "metadata": {},
   "source": [
    "Linear Discriminant Analysis is a supervised learning technique that maximizes the between-category distances, while minimizing the within-category-distance."
   ]
  },
  {
   "cell_type": "markdown",
   "metadata": {},
   "source": [
    "We create labels for the data by introducing categories based on the happiness score."
   ]
  },
  {
   "cell_type": "code",
   "execution_count": 17,
   "metadata": {},
   "outputs": [],
   "source": [
    "happiness = pd.DataFrame()\n",
    "happiness['Country'] = data_2015.Country\n",
    "happiness['Happiness Label'] = pd.cut(data_2015['Happiness Score'],\n",
    "                                      bins=[0.0, 4.0, 7.0, 10.0],\n",
    "                                      labels=['unhappy', 'neutral', 'happy'])"
   ]
  },
  {
   "cell_type": "markdown",
   "metadata": {},
   "source": [
    "Most countries are in the 'neutral' category, few in 'happy' or 'unhappy'.  Note that the label names are not normative."
   ]
  },
  {
   "cell_type": "code",
   "execution_count": 18,
   "metadata": {},
   "outputs": [
    {
     "name": "stderr",
     "output_type": "stream",
     "text": [
      "/tmp/ipykernel_9036/3018765610.py:1: FutureWarning: The default of observed=False is deprecated and will be changed to True in a future version of pandas. Pass observed=False to retain current behavior or observed=True to adopt the future default and silence this warning.\n",
      "  happiness.groupby('Happiness Label').count()\n"
     ]
    },
    {
     "data": {
      "text/html": [
       "<div>\n",
       "<style scoped>\n",
       "    .dataframe tbody tr th:only-of-type {\n",
       "        vertical-align: middle;\n",
       "    }\n",
       "\n",
       "    .dataframe tbody tr th {\n",
       "        vertical-align: top;\n",
       "    }\n",
       "\n",
       "    .dataframe thead th {\n",
       "        text-align: right;\n",
       "    }\n",
       "</style>\n",
       "<table border=\"1\" class=\"dataframe\">\n",
       "  <thead>\n",
       "    <tr style=\"text-align: right;\">\n",
       "      <th></th>\n",
       "      <th>Country</th>\n",
       "    </tr>\n",
       "    <tr>\n",
       "      <th>Happiness Label</th>\n",
       "      <th></th>\n",
       "    </tr>\n",
       "  </thead>\n",
       "  <tbody>\n",
       "    <tr>\n",
       "      <th>unhappy</th>\n",
       "      <td>21</td>\n",
       "    </tr>\n",
       "    <tr>\n",
       "      <th>neutral</th>\n",
       "      <td>122</td>\n",
       "    </tr>\n",
       "    <tr>\n",
       "      <th>happy</th>\n",
       "      <td>15</td>\n",
       "    </tr>\n",
       "  </tbody>\n",
       "</table>\n",
       "</div>"
      ],
      "text/plain": [
       "                 Country\n",
       "Happiness Label         \n",
       "unhappy               21\n",
       "neutral              122\n",
       "happy                 15"
      ]
     },
     "execution_count": 18,
     "metadata": {},
     "output_type": "execute_result"
    }
   ],
   "source": [
    "happiness.groupby('Happiness Label').count()"
   ]
  },
  {
   "cell_type": "markdown",
   "metadata": {},
   "source": [
    "LDA is a supervised method, so we use the happiness label as output."
   ]
  },
  {
   "cell_type": "code",
   "execution_count": 19,
   "metadata": {},
   "outputs": [],
   "source": [
    "target = happiness['Happiness Label'].values"
   ]
  },
  {
   "cell_type": "code",
   "execution_count": 20,
   "metadata": {},
   "outputs": [],
   "source": [
    "lda = LinearDiscriminantAnalysis(n_components=2)\n",
    "lda_data = pd.DataFrame(lda.fit(prepared_data, target) \\\n",
    "                           .transform(prepared_data))\n",
    "lda_data.columns = ['C1', 'C2']"
   ]
  },
  {
   "cell_type": "markdown",
   "metadata": {},
   "source": [
    "The LDA produces two components for each country, and we can plot the countries using those similar as we did for the PCA."
   ]
  },
  {
   "cell_type": "code",
   "execution_count": 21,
   "metadata": {},
   "outputs": [],
   "source": [
    "lda_data['Country'] = data_2015['Country']\n",
    "lda_data['Happiness Score'] = data_2015['Happiness Score']\n",
    "lda_data['Happiness Color'] = pd.cut(data_2015['Happiness Score'],\n",
    "                                     bins=[0.0, 4.0, 7.0, 10.0],\n",
    "                                     labels=['blue', 'yellow', 'red'])"
   ]
  },
  {
   "cell_type": "code",
   "execution_count": 22,
   "metadata": {},
   "outputs": [
    {
     "data": {
      "text/html": [
       "\n",
       "  <div id=\"c1fc6766-5d98-49c8-a6ec-87520a8b74f1\" data-root-id=\"p1061\" style=\"display: contents;\"></div>\n"
      ]
     },
     "metadata": {},
     "output_type": "display_data"
    },
    {
     "data": {
      "application/javascript": [
       "(function(root) {\n",
       "  function embed_document(root) {\n",
       "  const docs_json = {\"b7d7e46d-2476-4d9c-8eab-a4afe8a128a4\":{\"version\":\"3.3.4\",\"title\":\"Bokeh Application\",\"roots\":[{\"type\":\"object\",\"name\":\"Figure\",\"id\":\"p1061\",\"attributes\":{\"width\":500,\"height\":400,\"x_range\":{\"type\":\"object\",\"name\":\"DataRange1d\",\"id\":\"p1062\"},\"y_range\":{\"type\":\"object\",\"name\":\"DataRange1d\",\"id\":\"p1063\"},\"x_scale\":{\"type\":\"object\",\"name\":\"LinearScale\",\"id\":\"p1070\"},\"y_scale\":{\"type\":\"object\",\"name\":\"LinearScale\",\"id\":\"p1071\"},\"title\":{\"type\":\"object\",\"name\":\"Title\",\"id\":\"p1068\"},\"renderers\":[{\"type\":\"object\",\"name\":\"GlyphRenderer\",\"id\":\"p1091\",\"attributes\":{\"data_source\":{\"type\":\"object\",\"name\":\"ColumnDataSource\",\"id\":\"p1082\",\"attributes\":{\"selected\":{\"type\":\"object\",\"name\":\"Selection\",\"id\":\"p1083\",\"attributes\":{\"indices\":[],\"line_indices\":[]}},\"selection_policy\":{\"type\":\"object\",\"name\":\"UnionRenderers\",\"id\":\"p1084\"},\"data\":{\"type\":\"map\",\"entries\":[[\"index\",{\"type\":\"ndarray\",\"array\":{\"type\":\"bytes\",\"data\":\"AAAAAAEAAAACAAAAAwAAAAQAAAAFAAAABgAAAAcAAAAIAAAACQAAAAoAAAALAAAADAAAAA0AAAAOAAAADwAAABAAAAARAAAAEgAAABMAAAAUAAAAFQAAABYAAAAXAAAAGAAAABkAAAAaAAAAGwAAABwAAAAdAAAAHgAAAB8AAAAgAAAAIQAAACIAAAAjAAAAJAAAACUAAAAmAAAAJwAAACgAAAApAAAAKgAAACsAAAAsAAAALQAAAC4AAAAvAAAAMAAAADEAAAAyAAAAMwAAADQAAAA1AAAANgAAADcAAAA4AAAAOQAAADoAAAA7AAAAPAAAAD0AAAA+AAAAPwAAAEAAAABBAAAAQgAAAEMAAABEAAAARQAAAEYAAABHAAAASAAAAEkAAABKAAAASwAAAEwAAABNAAAATgAAAE8AAABQAAAAUQAAAFIAAABTAAAAVAAAAFUAAABWAAAAVwAAAFgAAABZAAAAWgAAAFsAAABcAAAAXQAAAF4AAABfAAAAYAAAAGEAAABiAAAAYwAAAGQAAABlAAAAZgAAAGcAAABoAAAAaQAAAGoAAABrAAAAbAAAAG0AAABuAAAAbwAAAHAAAABxAAAAcgAAAHMAAAB0AAAAdQAAAHYAAAB3AAAAeAAAAHkAAAB6AAAAewAAAHwAAAB9AAAAfgAAAH8AAACAAAAAgQAAAIIAAACDAAAAhAAAAIUAAACGAAAAhwAAAIgAAACJAAAAigAAAIsAAACMAAAAjQAAAI4AAACPAAAAkAAAAJEAAACSAAAAkwAAAJQAAACVAAAAlgAAAJcAAACYAAAAmQAAAJoAAACbAAAAnAAAAJ0AAAA=\"},\"shape\":[158],\"dtype\":\"int32\",\"order\":\"little\"}],[\"C1\",{\"type\":\"ndarray\",\"array\":{\"type\":\"bytes\",\"data\":\"BMQ6fCW3B8DLXp8TaK4JwHl0ReAV/QfAEwoGkWJBB8BRhy1oNlAIwBPRaLWxUwXA7ITb295BCMBsSuihUvIFwBzrAFRlzAbAk5dLiUfVBcBtTQCsQg4JwPaJ5pUDFQTAEbodkp7cA8A6ph2JqmkFwGb5UM3dAwXAf4kHRGo/AsAQecsJbIL/vzkkOXq6EALA9AmBArje/78nviP6GAz+v7zgGtYmiQLAo1IOq1lU/L+rY/98n5v/v+6uerTL5v+/JWydbCtQ/7/gNQvkSx77vxMzOcLEDAHAAdsGuR3/9r+TECEkvFX1v121WOSj3Pm/7tffvWK99r//Zjj+fQH1vwVNxWUBk/a/Aw01uilH/r+tLXm9xHT6v7qVi6GYcvO/rly8zuvc9b+HRPhFpin3vxUkfQkb1uu/TPqBB7NC7r+Gii9KUBnvv8wyU8we4vG/y0g/jlDP7r9gqobE0UHgvyJA2HObDvC/kIm/AtyG3b+k8CgTaR/wv4coujK1J+W/c83Cxo8P5L+01Xa8HvLxv/qpn4FEk+C/pT8e40GF8b8iPGT+ODDmv/ATCCwa5NK/S7BDnY4Oy79Rc751JZ3ov+MAtPvUD+K/AXLm0RCa47//+yiM8DPhv/LWMnyA/8e/N2fwaRHg3L/MLKpgLh3mvyERpdoP8dy/UqqNWymsyb/yIxFvmXzTv9ubt+LtDtK/J0+vmE7R4b/sPcUKMBTbv6I/gPut+Ou/LXBiokisjL81J6Mf3peSv1T7A0V5mcQ/W3uKNIQr1T8Hi3fxkh/Wv3MTEZXmGNw//6OY09a7w7/A6rmEfQl2v/aw3P6Vp8S/j1zp/fxvsT+kqQ+au9XaP6SO5BTSx+e/b6MNi0hx3j92A8xB8n++v5YPilmAMOs/FoHdkVmS3T/yzT6kI4TcP9PA69MbDXc/eaD7z91S7j8Mqc1aXIbWP2pX6GIqp+w/Efnr7rcwnr+lhYRDHS3nP0cNopfV1Nw/Pl21c9DXzT9iubP2aAPlP2ec6Gj6UrS/K0X5BLr63j8AIP50a7PzP9+uvVmnR+k/KU/FkTNr6D8iHknjFBXjP73o2pQJaOA/w2fkusPY5z+lcfKGECPwP55r51kkBus/McHSSJFL7T+uQbm67S3sPw9Utwntuug/bJ8/X2Ls6z8GTVuKLkTjP4uQqQDS9+w/zTT0f5D60D9SAZjVGV3zP3NQbPJkFPE/hR7UW32Z6D/5t6EGgaHmPxD4TSs2wPA/2ot04hlL4j8fZQUt+5TaPyXrKSdlEuU/luVszxBN8D8dZtwwFlPyP6/UHAEEpPM/ZW7pQpa77z8xtYPiw0jzP9dIWcYLfPk/61AYxMKm9T9lQnIypt4AQLwGeTPHl+Y/7lsd5vRo/T+/Wcm6pVj0P9aW+zllK/0/QOTygIQq/j+n+KRXa1T+P9KlPTEFUfg/pt+u2etNAEAzD3Of9yH5P0HjL0FajgBAyPK6Cn1gAkDUOHmDHtH7P7hAQVSPigFAmBbX1lJmAUBp2pU5Rd0DQO++lIisOwNAEq4SWX1bBUBW8mS3iIgAQFCzOXNnPQBAn4QGJKbpA0AiwEJU6+kBQJ4lsNFWkAJATtWlmv9dBkBWte0iPW8FQI/dKCoDNwBAW6De3nwdCkA2DU+FQR0KQPlu6l2CNgZAuka7NoBbCED0ZWyFZSoOQA==\"},\"shape\":[158],\"dtype\":\"float64\",\"order\":\"little\"}],[\"C2\",{\"type\":\"ndarray\",\"array\":{\"type\":\"bytes\",\"data\":\"KkH/qBY19z8Vd9k45VShP3AnUe7qLwBAaSGupTwD9D/xUoRnB8L1P9QZFhXQWfU/UUDgOdKP9T/shDkCP8D9P3PODWVk0wBAFrBjZ6He9z/7DPT5h93qv+g0YY8aE8i/7woMdz+Ivj++kLA7za/DP8DeIe5ErHe/ydXLx4NA0b9NBE2qdXnwP6st8OuSEvA/LyF5r5K7gz+BrTKWvqX1P0mAIJNDcPc/JmecW1FC7j97hk9oRg/yv7GU8PeVg/0/qozQfM9K4L/rPgZgnz3EP7Bs3E56fM+/JdnCBJyeAUCXgGyeMwbcv9NQV+gVP/K/gB2f4C6G+b8+tjzwFYDgPxgdZlgLLuq/n4owyLCJtT+mSLNw/FyvP9lSX3ucDva/ZfZ36KlB1j9pVRP+gBzvv6bRY1j1api/MHNgsby1pj+AqVTuPZnpv132c0tqVuG/W7rjB0cEwj/FC2KoD3X1P0npzPqzU/u/djB78Jwn6b9SWJ1mpmzzvxfvtUrN8bS//85Y1SkNzj/utY83Y4z8v12loChExbI/A8uFr3b767+gkq/4i/e8v6N+GehrtOu/1ZbkcErv7b9uXkG3IjEDwEe25/h55eU/XUImBtCl678UvUUuKcjiv9bJd9F6QPO/4MUHN5CEwL9/SzugC8X6v8HrHhSMrui/ybEsOqmE/7/YdtruYEbqvxEsn5s5M9a/jnX8P1hi578uK8dXnMjlv7wawp0nDeS/OTv/X07H5T/cgLJcxDKrP45iAwGXh/c/UWrWd8wq7L+LW/V+yc/Cvz5aOn9mlbY/z7sKrelU6r+wEQLR+znUv7iV42zkNsu/ti84ckl+7T8VMsuLz4zhv/+V68BhYs4/xFaYVUFn4b/hcqpe0D/pvwuB8cTBN/G/MRGDTe8r3T/3rYc/ee72v/+y6mCkjfe/tNOAiJ2v978kubc84tL0v0wqaOX1W9k/fq42tPSpCEBlwS8C2MHZvwQJVlBd3e2/VjygeS8F6D825YQ3RYLrv0zq9rTq7Pi/4/HdvJt1uj8/GB4wf1mOv8+OGl+oQ/8/mphVY73A57+rb7rv/ofov33QsEJoKwTABVxmsTUH7r+IKZ+JeTP8v8Zgd9QOyda/oMSngdhX5D/WtLLUKpjwvwoItNP3QeK/lH1u1ggt5j/sMKBZp3PDvx+ozh9GPvi/vd5FUkIj8L++Mk+4f47tv6gNyoZkTYQ/2W5uInVN0r9qCFpbtv3IP0u6u1xO9tw/hwxlfiWA2b9q0GuUiQT0P7nFwzenQMU/BmJ3oxHVwj9Hil05YzDxP8jYbhjlQNY/6zqBLN7M1T+4eDTEg0vUPyTB/5Fi/fk/JQfis7DV9b/XoR2HzBjRv0bWU90NKwVA2GanuVLa+D/i3lnolQP0P69nMEwNWtE/b9kI9kAUxD9einJuUlr8v35QghHnxPK/EgIldWGG07/xAJygFJzvv4eLuywVedM/wJ9rb51Luj+uJwmuh5TiP1k0l56JYtE/pUI3eOkGqz8du5Q6m+Psv8nrrn2g/vA/W3daR0cA8j/Ga7k+iVy5P83ClFmP0Ke/nDkFpyj/+T9UoQleUCXOv3tbDvHjNPI/MZ2zYY3t7j+g5RB0BfThP05pRzcGLO0/KpoKN5gzDUA29Ay35s/oPyX/6Z9pUe0/oCDSjrcV2j/DjzmowxTuPw==\"},\"shape\":[158],\"dtype\":\"float64\",\"order\":\"little\"}],[\"Country\",{\"type\":\"ndarray\",\"array\":[\"Switzerland\",\"Iceland\",\"Denmark\",\"Norway\",\"Canada\",\"Finland\",\"Netherlands\",\"Sweden\",\"New Zealand\",\"Australia\",\"Israel\",\"Costa Rica\",\"Austria\",\"Mexico\",\"United States\",\"Brazil\",\"Luxembourg\",\"Ireland\",\"Belgium\",\"United Arab Emirates\",\"United Kingdom\",\"Oman\",\"Venezuela\",\"Singapore\",\"Panama\",\"Germany\",\"Chile\",\"Qatar\",\"France\",\"Argentina\",\"Czech Republic\",\"Uruguay\",\"Colombia\",\"Thailand\",\"Saudi Arabia\",\"Spain\",\"Malta\",\"Taiwan\",\"Kuwait\",\"Suriname\",\"Trinidad and Tobago\",\"El Salvador\",\"Guatemala\",\"Uzbekistan\",\"Slovakia\",\"Japan\",\"South Korea\",\"Ecuador\",\"Bahrain\",\"Italy\",\"Bolivia\",\"Moldova\",\"Paraguay\",\"Kazakhstan\",\"Slovenia\",\"Lithuania\",\"Nicaragua\",\"Peru\",\"Belarus\",\"Poland\",\"Malaysia\",\"Croatia\",\"Libya\",\"Russia\",\"Jamaica\",\"North Cyprus\",\"Cyprus\",\"Algeria\",\"Kosovo\",\"Turkmenistan\",\"Mauritius\",\"Hong Kong\",\"Estonia\",\"Indonesia\",\"Vietnam\",\"Turkey\",\"Kyrgyzstan\",\"Nigeria\",\"Bhutan\",\"Azerbaijan\",\"Pakistan\",\"Jordan\",\"Montenegro\",\"China\",\"Zambia\",\"Romania\",\"Serbia\",\"Portugal\",\"Latvia\",\"Philippines\",\"Somaliland region\",\"Morocco\",\"Macedonia\",\"Mozambique\",\"Albania\",\"Bosnia and Herzegovina\",\"Lesotho\",\"Dominican Republic\",\"Laos\",\"Mongolia\",\"Swaziland\",\"Greece\",\"Lebanon\",\"Hungary\",\"Honduras\",\"Tajikistan\",\"Tunisia\",\"Palestinian Territories\",\"Bangladesh\",\"Iran\",\"Ukraine\",\"Iraq\",\"South Africa\",\"Ghana\",\"Zimbabwe\",\"Liberia\",\"India\",\"Sudan\",\"Haiti\",\"Congo (Kinshasa)\",\"Nepal\",\"Ethiopia\",\"Sierra Leone\",\"Mauritania\",\"Kenya\",\"Djibouti\",\"Armenia\",\"Botswana\",\"Myanmar\",\"Georgia\",\"Malawi\",\"Sri Lanka\",\"Cameroon\",\"Bulgaria\",\"Egypt\",\"Yemen\",\"Angola\",\"Mali\",\"Congo (Brazzaville)\",\"Comoros\",\"Uganda\",\"Senegal\",\"Gabon\",\"Niger\",\"Cambodia\",\"Tanzania\",\"Madagascar\",\"Central African Republic\",\"Chad\",\"Guinea\",\"Ivory Coast\",\"Burkina Faso\",\"Afghanistan\",\"Rwanda\",\"Benin\",\"Syria\",\"Burundi\",\"Togo\"],\"shape\":[158],\"dtype\":\"object\",\"order\":\"little\"}],[\"Happiness Score\",{\"type\":\"ndarray\",\"array\":{\"type\":\"bytes\",\"data\":\"DAIrhxZZHkBYObTIdj4eQM/3U+OlGx5ASgwCK4cWHkBoke18P7UdQDm0yHa+nx1AUI2XbhKDHUDb+X5qvHQdQL6fGi/dJB1AiUFg5dAiHUDpJjEIrBwdQIGVQ4ts5xxAzczMzMzMHEBzaJHtfL8cQGDl0CLbeRxAO99PjZfuG0BiEFg5tMgbQMP1KFyPwhtAc2iR7Xy/G0C0yHa+n5obQCuHFtnOdxtAtvP91HhpG0A9CtejcD0bQP7UeOkmMRtAvp8aL90kG0AAAAAAAAAbQK5H4XoUrhpAi2zn+6lxGkDNzMzMzEwaQLKd76fGSxpAhetRuB4FGkBxPQrXo/AZQJzEILBy6BlAUrgehevRGUC+nxov3aQZQDeJQWDlUBlAaJHtfD81GUD+1HjpJjEZQK5H4XoULhlA+n5qvHQTGUB56SYxCKwYQIXrUbgehRhAy6FFtvN9GEBQjZduEgMYQHsUrkfh+hdAppvEILDyF0BWDi2yne8XQGZmZmZm5hdA16NwPQrXF0CYbhKDwMoXQI/C9ShcjxdAdZMYBFaOF0BQjZduEoMXQOxRuB6FaxdAMQisHFpkF0CiRbbz/VQXQB1aZDvfTxdAsp3vp8ZLF0CNl24Sg0AXQESLbOf7KRdAFK5H4XoUF0Dwp8ZLNwkXQGq8dJMYBBdAd76fGi/dFkC8dJMYBNYWQEjhehSuxxZAqMZLN4nBFkDsUbgehWsWQEJg5dAiWxZA/tR46SYxFkCcxCCwcugVQEw3iUFg5RVAnu+nxku3FUB/arx0k5gVQHE9CtejcBVAhxbZzvdTFUC+nxov3SQVQN9PjZduEhVAUI2XbhIDFUAMAiuHFtkUQC2yne+nxhRA+FPjpZvEFED4U+Olm8QUQI/C9ShcjxRAarx0kxiEFEDl0CLb+X4UQMuhRbbzfRRAnMQgsHJoFEAxCKwcWmQUQJhuEoPAShRA7nw/NV46FEBaZDvfTw0UQLpJDAIrBxRA/Knx0k3iE0C8dJMYBNYTQLKd76fGyxNAZDvfT42XE0AK16NwPYoTQBsv3SQGgRNA5dAi2/l+E0ArhxbZzncTQCGwcmiRbRNAQmDl0CJbE0AzMzMzMzMTQPT91HjpJhNAvp8aL90kE0Db+X5qvPQSQFyPwvUo3BJALbKd76fGEkBYObTIdr4SQNNNYhBYuRJAaJHtfD+1EkDFILByaJESQNV46SYxiBJAcT0K16NwEkBiEFg5tEgSQMP1KFyPQhJAMzMzMzMzEkDfT42XbhISQMUgsHJoERJAdZMYBFYOEkA/NV66SQwSQLpJDAIrBxJAWDm0yHa+EUCTGARWDq0RQGDl0CLbeRFAZmZmZmZmEUCHFtnO91MRQO58PzVeOhFA46WbxCAwEUBeukkMAisRQC/dJAaBFRFANV66SQwCEUCsHFpkO98QQC2yne+nxhBAAiuHFtlOEEBvEoPAyiEQQPYoXI/C9Q9AtvP91HjpD0DZzvdT46UPQKabxCCwcg9ACKwcWmQ7D0BeukkMAisPQMP1KFyPwg5AWmQ730+NDkBzaJHtfD8OQKabxCCwcg1ABoGVQ4tsDUC8dJMYBFYNQHNoke18Pw1APQrXo3A9DUAZBFYOLbIMQJqZmZmZmQxAuB6F61G4C0C4HoXrUbgKQD81XrpJDAhAPQrXo3A9B0CDwMqhRbYGQA==\"},\"shape\":[158],\"dtype\":\"float64\",\"order\":\"little\"}],[\"Happiness Color\",{\"type\":\"ndarray\",\"array\":[\"red\",\"red\",\"red\",\"red\",\"red\",\"red\",\"red\",\"red\",\"red\",\"red\",\"red\",\"red\",\"red\",\"red\",\"red\",\"yellow\",\"yellow\",\"yellow\",\"yellow\",\"yellow\",\"yellow\",\"yellow\",\"yellow\",\"yellow\",\"yellow\",\"yellow\",\"yellow\",\"yellow\",\"yellow\",\"yellow\",\"yellow\",\"yellow\",\"yellow\",\"yellow\",\"yellow\",\"yellow\",\"yellow\",\"yellow\",\"yellow\",\"yellow\",\"yellow\",\"yellow\",\"yellow\",\"yellow\",\"yellow\",\"yellow\",\"yellow\",\"yellow\",\"yellow\",\"yellow\",\"yellow\",\"yellow\",\"yellow\",\"yellow\",\"yellow\",\"yellow\",\"yellow\",\"yellow\",\"yellow\",\"yellow\",\"yellow\",\"yellow\",\"yellow\",\"yellow\",\"yellow\",\"yellow\",\"yellow\",\"yellow\",\"yellow\",\"yellow\",\"yellow\",\"yellow\",\"yellow\",\"yellow\",\"yellow\",\"yellow\",\"yellow\",\"yellow\",\"yellow\",\"yellow\",\"yellow\",\"yellow\",\"yellow\",\"yellow\",\"yellow\",\"yellow\",\"yellow\",\"yellow\",\"yellow\",\"yellow\",\"yellow\",\"yellow\",\"yellow\",\"yellow\",\"yellow\",\"yellow\",\"yellow\",\"yellow\",\"yellow\",\"yellow\",\"yellow\",\"yellow\",\"yellow\",\"yellow\",\"yellow\",\"yellow\",\"yellow\",\"yellow\",\"yellow\",\"yellow\",\"yellow\",\"yellow\",\"yellow\",\"yellow\",\"yellow\",\"yellow\",\"yellow\",\"yellow\",\"yellow\",\"yellow\",\"yellow\",\"yellow\",\"yellow\",\"yellow\",\"yellow\",\"yellow\",\"yellow\",\"yellow\",\"yellow\",\"yellow\",\"yellow\",\"yellow\",\"yellow\",\"yellow\",\"yellow\",\"yellow\",\"yellow\",\"blue\",\"blue\",\"blue\",\"blue\",\"blue\",\"blue\",\"blue\",\"blue\",\"blue\",\"blue\",\"blue\",\"blue\",\"blue\",\"blue\",\"blue\",\"blue\",\"blue\",\"blue\",\"blue\",\"blue\",\"blue\"],\"shape\":[158],\"dtype\":\"object\",\"order\":\"little\"}]]}}},\"view\":{\"type\":\"object\",\"name\":\"CDSView\",\"id\":\"p1092\",\"attributes\":{\"filter\":{\"type\":\"object\",\"name\":\"AllIndices\",\"id\":\"p1093\"}}},\"glyph\":{\"type\":\"object\",\"name\":\"Circle\",\"id\":\"p1088\",\"attributes\":{\"x\":{\"type\":\"field\",\"field\":\"C1\"},\"y\":{\"type\":\"field\",\"field\":\"C2\"},\"size\":{\"type\":\"value\",\"value\":8},\"line_color\":{\"type\":\"value\",\"value\":\"#1f77b4\"},\"line_alpha\":{\"type\":\"value\",\"value\":0.85},\"fill_color\":{\"type\":\"field\",\"field\":\"Happiness Color\"},\"fill_alpha\":{\"type\":\"value\",\"value\":0.85},\"hatch_alpha\":{\"type\":\"value\",\"value\":0.85}}},\"nonselection_glyph\":{\"type\":\"object\",\"name\":\"Circle\",\"id\":\"p1089\",\"attributes\":{\"x\":{\"type\":\"field\",\"field\":\"C1\"},\"y\":{\"type\":\"field\",\"field\":\"C2\"},\"size\":{\"type\":\"value\",\"value\":8},\"line_color\":{\"type\":\"value\",\"value\":\"#1f77b4\"},\"line_alpha\":{\"type\":\"value\",\"value\":0.1},\"fill_color\":{\"type\":\"field\",\"field\":\"Happiness Color\"},\"fill_alpha\":{\"type\":\"value\",\"value\":0.1},\"hatch_alpha\":{\"type\":\"value\",\"value\":0.1}}},\"muted_glyph\":{\"type\":\"object\",\"name\":\"Circle\",\"id\":\"p1090\",\"attributes\":{\"x\":{\"type\":\"field\",\"field\":\"C1\"},\"y\":{\"type\":\"field\",\"field\":\"C2\"},\"size\":{\"type\":\"value\",\"value\":8},\"line_color\":{\"type\":\"value\",\"value\":\"#1f77b4\"},\"line_alpha\":{\"type\":\"value\",\"value\":0.2},\"fill_color\":{\"type\":\"field\",\"field\":\"Happiness Color\"},\"fill_alpha\":{\"type\":\"value\",\"value\":0.2},\"hatch_alpha\":{\"type\":\"value\",\"value\":0.2}}}}}],\"toolbar\":{\"type\":\"object\",\"name\":\"Toolbar\",\"id\":\"p1069\",\"attributes\":{\"tools\":[{\"type\":\"object\",\"name\":\"PanTool\",\"id\":\"p1053\"},{\"type\":\"object\",\"name\":\"BoxZoomTool\",\"id\":\"p1054\",\"attributes\":{\"overlay\":{\"type\":\"object\",\"name\":\"BoxAnnotation\",\"id\":\"p1055\",\"attributes\":{\"syncable\":false,\"level\":\"overlay\",\"visible\":false,\"left\":{\"type\":\"number\",\"value\":\"nan\"},\"right\":{\"type\":\"number\",\"value\":\"nan\"},\"top\":{\"type\":\"number\",\"value\":\"nan\"},\"bottom\":{\"type\":\"number\",\"value\":\"nan\"},\"left_units\":\"canvas\",\"right_units\":\"canvas\",\"top_units\":\"canvas\",\"bottom_units\":\"canvas\",\"line_color\":\"black\",\"line_alpha\":1.0,\"line_width\":2,\"line_dash\":[4,4],\"fill_color\":\"lightgrey\",\"fill_alpha\":0.5}}}},{\"type\":\"object\",\"name\":\"HoverTool\",\"id\":\"p1052\",\"attributes\":{\"renderers\":\"auto\",\"tooltips\":[[\"Country\",\"@Country\"]]}},{\"type\":\"object\",\"name\":\"ResetTool\",\"id\":\"p1060\"}]}},\"left\":[{\"type\":\"object\",\"name\":\"LinearAxis\",\"id\":\"p1077\",\"attributes\":{\"ticker\":{\"type\":\"object\",\"name\":\"BasicTicker\",\"id\":\"p1078\",\"attributes\":{\"mantissas\":[1,2,5]}},\"formatter\":{\"type\":\"object\",\"name\":\"BasicTickFormatter\",\"id\":\"p1079\"},\"major_label_policy\":{\"type\":\"object\",\"name\":\"AllLabels\",\"id\":\"p1080\"}}}],\"below\":[{\"type\":\"object\",\"name\":\"LinearAxis\",\"id\":\"p1072\",\"attributes\":{\"ticker\":{\"type\":\"object\",\"name\":\"BasicTicker\",\"id\":\"p1073\",\"attributes\":{\"mantissas\":[1,2,5]}},\"formatter\":{\"type\":\"object\",\"name\":\"BasicTickFormatter\",\"id\":\"p1074\"},\"major_label_policy\":{\"type\":\"object\",\"name\":\"AllLabels\",\"id\":\"p1075\"}}}],\"center\":[{\"type\":\"object\",\"name\":\"Grid\",\"id\":\"p1076\",\"attributes\":{\"axis\":{\"id\":\"p1072\"}}},{\"type\":\"object\",\"name\":\"Grid\",\"id\":\"p1081\",\"attributes\":{\"dimension\":1,\"axis\":{\"id\":\"p1077\"}}}]}}]}};\n",
       "  const render_items = [{\"docid\":\"b7d7e46d-2476-4d9c-8eab-a4afe8a128a4\",\"roots\":{\"p1061\":\"c1fc6766-5d98-49c8-a6ec-87520a8b74f1\"},\"root_ids\":[\"p1061\"]}];\n",
       "  root.Bokeh.embed.embed_items_notebook(docs_json, render_items);\n",
       "  }\n",
       "  if (root.Bokeh !== undefined) {\n",
       "    embed_document(root);\n",
       "  } else {\n",
       "    let attempts = 0;\n",
       "    const timer = setInterval(function(root) {\n",
       "      if (root.Bokeh !== undefined) {\n",
       "        clearInterval(timer);\n",
       "        embed_document(root);\n",
       "      } else {\n",
       "        attempts++;\n",
       "        if (attempts > 100) {\n",
       "          clearInterval(timer);\n",
       "          console.log(\"Bokeh: ERROR: Unable to run BokehJS code because BokehJS library is missing\");\n",
       "        }\n",
       "      }\n",
       "    }, 10, root)\n",
       "  }\n",
       "})(window);"
      ],
      "application/vnd.bokehjs_exec.v0+json": ""
     },
     "metadata": {
      "application/vnd.bokehjs_exec.v0+json": {
       "id": "p1061"
      }
     },
     "output_type": "display_data"
    }
   ],
   "source": [
    "hovertool = HoverTool(tooltips=[('Country', '@Country')])\n",
    "fig = figure(tools=[PanTool(), BoxZoomTool(), hovertool, ResetTool()],\n",
    "             width=500, height=400)\n",
    "fig.circle('C1', 'C2', source=lda_data, fill_color='Happiness Color',\n",
    "           size=8, alpha=0.85)\n",
    "show(fig)"
   ]
  },
  {
   "cell_type": "markdown",
   "metadata": {},
   "source": [
    "### t-SNE"
   ]
  },
  {
   "cell_type": "code",
   "execution_count": 23,
   "metadata": {},
   "outputs": [],
   "source": [
    "tsne_data = pd.DataFrame(TSNE(learning_rate=70).fit_transform(prepared_data))\n",
    "tsne_data.columns = ['C1', 'C2']"
   ]
  },
  {
   "cell_type": "code",
   "execution_count": 24,
   "metadata": {},
   "outputs": [],
   "source": [
    "tsne_data['Country'] = data_2015['Country']\n",
    "tsne_data['Happiness Score'] = data_2015['Happiness Score']\n",
    "tsne_data['Happiness Color'] = pd.cut(data_2015['Happiness Score'],\n",
    "                                      bins=[0.0, 4.0, 7.0, 10.0],\n",
    "                                      labels=['blue', 'yellow', 'red'])"
   ]
  },
  {
   "cell_type": "code",
   "execution_count": 25,
   "metadata": {},
   "outputs": [
    {
     "data": {
      "text/html": [
       "\n",
       "  <div id=\"ba3d8e77-2dd2-414c-8ed9-dccc4b112efa\" data-root-id=\"p1107\" style=\"display: contents;\"></div>\n"
      ]
     },
     "metadata": {},
     "output_type": "display_data"
    },
    {
     "data": {
      "application/javascript": [
       "(function(root) {\n",
       "  function embed_document(root) {\n",
       "  const docs_json = {\"68d995f5-a087-4192-b2c0-0c0c62009c1c\":{\"version\":\"3.3.4\",\"title\":\"Bokeh Application\",\"roots\":[{\"type\":\"object\",\"name\":\"Figure\",\"id\":\"p1107\",\"attributes\":{\"width\":500,\"height\":400,\"x_range\":{\"type\":\"object\",\"name\":\"DataRange1d\",\"id\":\"p1108\"},\"y_range\":{\"type\":\"object\",\"name\":\"DataRange1d\",\"id\":\"p1109\"},\"x_scale\":{\"type\":\"object\",\"name\":\"LinearScale\",\"id\":\"p1116\"},\"y_scale\":{\"type\":\"object\",\"name\":\"LinearScale\",\"id\":\"p1117\"},\"title\":{\"type\":\"object\",\"name\":\"Title\",\"id\":\"p1114\"},\"renderers\":[{\"type\":\"object\",\"name\":\"GlyphRenderer\",\"id\":\"p1137\",\"attributes\":{\"data_source\":{\"type\":\"object\",\"name\":\"ColumnDataSource\",\"id\":\"p1128\",\"attributes\":{\"selected\":{\"type\":\"object\",\"name\":\"Selection\",\"id\":\"p1129\",\"attributes\":{\"indices\":[],\"line_indices\":[]}},\"selection_policy\":{\"type\":\"object\",\"name\":\"UnionRenderers\",\"id\":\"p1130\"},\"data\":{\"type\":\"map\",\"entries\":[[\"index\",{\"type\":\"ndarray\",\"array\":{\"type\":\"bytes\",\"data\":\"AAAAAAEAAAACAAAAAwAAAAQAAAAFAAAABgAAAAcAAAAIAAAACQAAAAoAAAALAAAADAAAAA0AAAAOAAAADwAAABAAAAARAAAAEgAAABMAAAAUAAAAFQAAABYAAAAXAAAAGAAAABkAAAAaAAAAGwAAABwAAAAdAAAAHgAAAB8AAAAgAAAAIQAAACIAAAAjAAAAJAAAACUAAAAmAAAAJwAAACgAAAApAAAAKgAAACsAAAAsAAAALQAAAC4AAAAvAAAAMAAAADEAAAAyAAAAMwAAADQAAAA1AAAANgAAADcAAAA4AAAAOQAAADoAAAA7AAAAPAAAAD0AAAA+AAAAPwAAAEAAAABBAAAAQgAAAEMAAABEAAAARQAAAEYAAABHAAAASAAAAEkAAABKAAAASwAAAEwAAABNAAAATgAAAE8AAABQAAAAUQAAAFIAAABTAAAAVAAAAFUAAABWAAAAVwAAAFgAAABZAAAAWgAAAFsAAABcAAAAXQAAAF4AAABfAAAAYAAAAGEAAABiAAAAYwAAAGQAAABlAAAAZgAAAGcAAABoAAAAaQAAAGoAAABrAAAAbAAAAG0AAABuAAAAbwAAAHAAAABxAAAAcgAAAHMAAAB0AAAAdQAAAHYAAAB3AAAAeAAAAHkAAAB6AAAAewAAAHwAAAB9AAAAfgAAAH8AAACAAAAAgQAAAIIAAACDAAAAhAAAAIUAAACGAAAAhwAAAIgAAACJAAAAigAAAIsAAACMAAAAjQAAAI4AAACPAAAAkAAAAJEAAACSAAAAkwAAAJQAAACVAAAAlgAAAJcAAACYAAAAmQAAAJoAAACbAAAAnAAAAJ0AAAA=\"},\"shape\":[158],\"dtype\":\"int32\",\"order\":\"little\"}],[\"C1\",{\"type\":\"ndarray\",\"array\":{\"type\":\"bytes\",\"data\":\"GCowQejJFUGIIDZBchsrQdrZLEEpzCpBltMrQRjsNkGItzxBjjU0Qe2nqED195RAxSsRQZCGZ0D2xA5Bk4VXQOgROUGfmCxBrJUHQV/lJEEV0DZB3CAZQc2kSkD7zEdBwG2JQGvuDkGZP6dAc6hHQfx380DQh1tAVrx2QNp4A0EOVS9AgEgHQf8T70B1N51A3YwbQZVEikAQ/AVBhEzbP7HgV0BgvFk/P+SoP1YRsEA/UTtAxkHdQPhgf0DPg+E/fC34QNqFX0D8u18/ryiev27v8D81ZS5AcO+6QH45GEDMQn0//62IPznLFUBi1JtAejM9QP7fXL9GByxAS3sfQFC2A0A+7ctAOqmSQFoHiT6hxuW/i0PMQDPyJUCAkVFBwfZiQLt7GUBTpNk+XnASv7qatb/bSxLBS9I0PwcwdT8qaoPACebDP0JBdb+CtdM/zNPUwNr+UT8228a+LGezQKVZoj8X2zY/a/8mwPyAIsDbBU4/fFAjwe0qvz7JlZa/LfQZwWRPqD8b7Ka/bhjvP4sfDcFAg2+/WYFOP2Tzzj8Slfa/BBR6wFYmt7/iUQTAKybLwKmcjMB1VBA/M14TwLX8xcAnzr/ANqoPwRPqGcE/a8rAMl0AwUd/CcGuUSLBRWGGwBy53cBmWRfB3GcDwY4lmMBeOqTA3WzOv5RpzcBkOAbADmuQwLaJEcE+dW4/veHOwJSqtj+NG/e/0cHDwOq5+8Cyid/Aka7FwMicBcGEk6vAuP6ywImSm8CscOTA1tEMv1bQpcCe9w3B6+UQwbOSCMF5CAPBORrXwHK/0sADKQ/BDvBVwIbX9cB0fZLAJNgawQQfA8E=\"},\"shape\":[158],\"dtype\":\"float32\",\"order\":\"little\"}],[\"C2\",{\"type\":\"ndarray\",\"array\":{\"type\":\"bytes\",\"data\":\"iT/Gv9C/kj9LZALAGoV3v765RL7F1v+/QzmdPI3Clb/tuAG/dXDIvsMxiD8WJze+Eb/zPjwhw72VnYM/Zq/3PjP/u79/yQQ/LN/NvQDnzb8dSsg+klC+v9LXij/fz8m/c2HgPqxsFr3HP4M/RPQCwDLEpz5GSrU/u4wAQFQ+977nVl8+1Cc1QJ2AJsBgAEhAhjMBQKZoiEAKkse/TBUHPtqazL8X9qo/bCcRv6mEM8AxCqVAdR3IPwoIpEB3uJg/GqHvv3mXuUDkA3a+VusAQAjA4L/SYwVAc9w9QI6AsECUF7i/5b/jP/WXUkDWiTFApU0PwBPhgEApFklAMQiSQIYI5L7aJCVA3lSdQLOSXUBrWTFAjh0TwLQxJsCqyEq/3NJRQPMzasBnKGm/z5ygQGqmA79nlTZAoOtdwP+lYEBozS9Af7BVQHWDq0AVZBxA/JWuP6jknkCbH8NAiExqQD3zwEAt2xTApBZkwKnAsT/Ms7BA+TnqP78YlkCdRtFAN6sLQONON8Dn+2HAvtVrwNm4PkDihOlAPhioQE1k2EAQpJI7k8SJv0KLkkCBR5RAnj4pwFE0rsDrvtRAh/DQQNpVgUChabu/3xeRP8NjDz+wHSrA84rrP7qEPr/xi7E/xNXPvn5o/L8QohFADhoXPwpErD38JCHAZQayQB4jc0CPMpHAdjVFwGdBJ8CnToLAh6QnP+QK40A/ZLZAcieEv7+AI0CpESs/bjdov/EJXT4OjDQ/c41GPlL9mkB3zT6/Qm1/wGwW0j6DD2S+2ZVNwDAPjT+Nz/G/lQhdvp5BTD3ea9a/SzJZwC/CIsAcUrrA9BCFv/QzLcA=\"},\"shape\":[158],\"dtype\":\"float32\",\"order\":\"little\"}],[\"Country\",{\"type\":\"ndarray\",\"array\":[\"Switzerland\",\"Iceland\",\"Denmark\",\"Norway\",\"Canada\",\"Finland\",\"Netherlands\",\"Sweden\",\"New Zealand\",\"Australia\",\"Israel\",\"Costa Rica\",\"Austria\",\"Mexico\",\"United States\",\"Brazil\",\"Luxembourg\",\"Ireland\",\"Belgium\",\"United Arab Emirates\",\"United Kingdom\",\"Oman\",\"Venezuela\",\"Singapore\",\"Panama\",\"Germany\",\"Chile\",\"Qatar\",\"France\",\"Argentina\",\"Czech Republic\",\"Uruguay\",\"Colombia\",\"Thailand\",\"Saudi Arabia\",\"Spain\",\"Malta\",\"Taiwan\",\"Kuwait\",\"Suriname\",\"Trinidad and Tobago\",\"El Salvador\",\"Guatemala\",\"Uzbekistan\",\"Slovakia\",\"Japan\",\"South Korea\",\"Ecuador\",\"Bahrain\",\"Italy\",\"Bolivia\",\"Moldova\",\"Paraguay\",\"Kazakhstan\",\"Slovenia\",\"Lithuania\",\"Nicaragua\",\"Peru\",\"Belarus\",\"Poland\",\"Malaysia\",\"Croatia\",\"Libya\",\"Russia\",\"Jamaica\",\"North Cyprus\",\"Cyprus\",\"Algeria\",\"Kosovo\",\"Turkmenistan\",\"Mauritius\",\"Hong Kong\",\"Estonia\",\"Indonesia\",\"Vietnam\",\"Turkey\",\"Kyrgyzstan\",\"Nigeria\",\"Bhutan\",\"Azerbaijan\",\"Pakistan\",\"Jordan\",\"Montenegro\",\"China\",\"Zambia\",\"Romania\",\"Serbia\",\"Portugal\",\"Latvia\",\"Philippines\",\"Somaliland region\",\"Morocco\",\"Macedonia\",\"Mozambique\",\"Albania\",\"Bosnia and Herzegovina\",\"Lesotho\",\"Dominican Republic\",\"Laos\",\"Mongolia\",\"Swaziland\",\"Greece\",\"Lebanon\",\"Hungary\",\"Honduras\",\"Tajikistan\",\"Tunisia\",\"Palestinian Territories\",\"Bangladesh\",\"Iran\",\"Ukraine\",\"Iraq\",\"South Africa\",\"Ghana\",\"Zimbabwe\",\"Liberia\",\"India\",\"Sudan\",\"Haiti\",\"Congo (Kinshasa)\",\"Nepal\",\"Ethiopia\",\"Sierra Leone\",\"Mauritania\",\"Kenya\",\"Djibouti\",\"Armenia\",\"Botswana\",\"Myanmar\",\"Georgia\",\"Malawi\",\"Sri Lanka\",\"Cameroon\",\"Bulgaria\",\"Egypt\",\"Yemen\",\"Angola\",\"Mali\",\"Congo (Brazzaville)\",\"Comoros\",\"Uganda\",\"Senegal\",\"Gabon\",\"Niger\",\"Cambodia\",\"Tanzania\",\"Madagascar\",\"Central African Republic\",\"Chad\",\"Guinea\",\"Ivory Coast\",\"Burkina Faso\",\"Afghanistan\",\"Rwanda\",\"Benin\",\"Syria\",\"Burundi\",\"Togo\"],\"shape\":[158],\"dtype\":\"object\",\"order\":\"little\"}],[\"Happiness Score\",{\"type\":\"ndarray\",\"array\":{\"type\":\"bytes\",\"data\":\"DAIrhxZZHkBYObTIdj4eQM/3U+OlGx5ASgwCK4cWHkBoke18P7UdQDm0yHa+nx1AUI2XbhKDHUDb+X5qvHQdQL6fGi/dJB1AiUFg5dAiHUDpJjEIrBwdQIGVQ4ts5xxAzczMzMzMHEBzaJHtfL8cQGDl0CLbeRxAO99PjZfuG0BiEFg5tMgbQMP1KFyPwhtAc2iR7Xy/G0C0yHa+n5obQCuHFtnOdxtAtvP91HhpG0A9CtejcD0bQP7UeOkmMRtAvp8aL90kG0AAAAAAAAAbQK5H4XoUrhpAi2zn+6lxGkDNzMzMzEwaQLKd76fGSxpAhetRuB4FGkBxPQrXo/AZQJzEILBy6BlAUrgehevRGUC+nxov3aQZQDeJQWDlUBlAaJHtfD81GUD+1HjpJjEZQK5H4XoULhlA+n5qvHQTGUB56SYxCKwYQIXrUbgehRhAy6FFtvN9GEBQjZduEgMYQHsUrkfh+hdAppvEILDyF0BWDi2yne8XQGZmZmZm5hdA16NwPQrXF0CYbhKDwMoXQI/C9ShcjxdAdZMYBFaOF0BQjZduEoMXQOxRuB6FaxdAMQisHFpkF0CiRbbz/VQXQB1aZDvfTxdAsp3vp8ZLF0CNl24Sg0AXQESLbOf7KRdAFK5H4XoUF0Dwp8ZLNwkXQGq8dJMYBBdAd76fGi/dFkC8dJMYBNYWQEjhehSuxxZAqMZLN4nBFkDsUbgehWsWQEJg5dAiWxZA/tR46SYxFkCcxCCwcugVQEw3iUFg5RVAnu+nxku3FUB/arx0k5gVQHE9CtejcBVAhxbZzvdTFUC+nxov3SQVQN9PjZduEhVAUI2XbhIDFUAMAiuHFtkUQC2yne+nxhRA+FPjpZvEFED4U+Olm8QUQI/C9ShcjxRAarx0kxiEFEDl0CLb+X4UQMuhRbbzfRRAnMQgsHJoFEAxCKwcWmQUQJhuEoPAShRA7nw/NV46FEBaZDvfTw0UQLpJDAIrBxRA/Knx0k3iE0C8dJMYBNYTQLKd76fGyxNAZDvfT42XE0AK16NwPYoTQBsv3SQGgRNA5dAi2/l+E0ArhxbZzncTQCGwcmiRbRNAQmDl0CJbE0AzMzMzMzMTQPT91HjpJhNAvp8aL90kE0Db+X5qvPQSQFyPwvUo3BJALbKd76fGEkBYObTIdr4SQNNNYhBYuRJAaJHtfD+1EkDFILByaJESQNV46SYxiBJAcT0K16NwEkBiEFg5tEgSQMP1KFyPQhJAMzMzMzMzEkDfT42XbhISQMUgsHJoERJAdZMYBFYOEkA/NV66SQwSQLpJDAIrBxJAWDm0yHa+EUCTGARWDq0RQGDl0CLbeRFAZmZmZmZmEUCHFtnO91MRQO58PzVeOhFA46WbxCAwEUBeukkMAisRQC/dJAaBFRFANV66SQwCEUCsHFpkO98QQC2yne+nxhBAAiuHFtlOEEBvEoPAyiEQQPYoXI/C9Q9AtvP91HjpD0DZzvdT46UPQKabxCCwcg9ACKwcWmQ7D0BeukkMAisPQMP1KFyPwg5AWmQ730+NDkBzaJHtfD8OQKabxCCwcg1ABoGVQ4tsDUC8dJMYBFYNQHNoke18Pw1APQrXo3A9DUAZBFYOLbIMQJqZmZmZmQxAuB6F61G4C0C4HoXrUbgKQD81XrpJDAhAPQrXo3A9B0CDwMqhRbYGQA==\"},\"shape\":[158],\"dtype\":\"float64\",\"order\":\"little\"}],[\"Happiness Color\",{\"type\":\"ndarray\",\"array\":[\"red\",\"red\",\"red\",\"red\",\"red\",\"red\",\"red\",\"red\",\"red\",\"red\",\"red\",\"red\",\"red\",\"red\",\"red\",\"yellow\",\"yellow\",\"yellow\",\"yellow\",\"yellow\",\"yellow\",\"yellow\",\"yellow\",\"yellow\",\"yellow\",\"yellow\",\"yellow\",\"yellow\",\"yellow\",\"yellow\",\"yellow\",\"yellow\",\"yellow\",\"yellow\",\"yellow\",\"yellow\",\"yellow\",\"yellow\",\"yellow\",\"yellow\",\"yellow\",\"yellow\",\"yellow\",\"yellow\",\"yellow\",\"yellow\",\"yellow\",\"yellow\",\"yellow\",\"yellow\",\"yellow\",\"yellow\",\"yellow\",\"yellow\",\"yellow\",\"yellow\",\"yellow\",\"yellow\",\"yellow\",\"yellow\",\"yellow\",\"yellow\",\"yellow\",\"yellow\",\"yellow\",\"yellow\",\"yellow\",\"yellow\",\"yellow\",\"yellow\",\"yellow\",\"yellow\",\"yellow\",\"yellow\",\"yellow\",\"yellow\",\"yellow\",\"yellow\",\"yellow\",\"yellow\",\"yellow\",\"yellow\",\"yellow\",\"yellow\",\"yellow\",\"yellow\",\"yellow\",\"yellow\",\"yellow\",\"yellow\",\"yellow\",\"yellow\",\"yellow\",\"yellow\",\"yellow\",\"yellow\",\"yellow\",\"yellow\",\"yellow\",\"yellow\",\"yellow\",\"yellow\",\"yellow\",\"yellow\",\"yellow\",\"yellow\",\"yellow\",\"yellow\",\"yellow\",\"yellow\",\"yellow\",\"yellow\",\"yellow\",\"yellow\",\"yellow\",\"yellow\",\"yellow\",\"yellow\",\"yellow\",\"yellow\",\"yellow\",\"yellow\",\"yellow\",\"yellow\",\"yellow\",\"yellow\",\"yellow\",\"yellow\",\"yellow\",\"yellow\",\"yellow\",\"yellow\",\"yellow\",\"yellow\",\"yellow\",\"yellow\",\"yellow\",\"blue\",\"blue\",\"blue\",\"blue\",\"blue\",\"blue\",\"blue\",\"blue\",\"blue\",\"blue\",\"blue\",\"blue\",\"blue\",\"blue\",\"blue\",\"blue\",\"blue\",\"blue\",\"blue\",\"blue\",\"blue\"],\"shape\":[158],\"dtype\":\"object\",\"order\":\"little\"}]]}}},\"view\":{\"type\":\"object\",\"name\":\"CDSView\",\"id\":\"p1138\",\"attributes\":{\"filter\":{\"type\":\"object\",\"name\":\"AllIndices\",\"id\":\"p1139\"}}},\"glyph\":{\"type\":\"object\",\"name\":\"Circle\",\"id\":\"p1134\",\"attributes\":{\"x\":{\"type\":\"field\",\"field\":\"C1\"},\"y\":{\"type\":\"field\",\"field\":\"C2\"},\"size\":{\"type\":\"value\",\"value\":8},\"line_color\":{\"type\":\"value\",\"value\":\"#1f77b4\"},\"line_alpha\":{\"type\":\"value\",\"value\":0.85},\"fill_color\":{\"type\":\"field\",\"field\":\"Happiness Color\"},\"fill_alpha\":{\"type\":\"value\",\"value\":0.85},\"hatch_alpha\":{\"type\":\"value\",\"value\":0.85}}},\"nonselection_glyph\":{\"type\":\"object\",\"name\":\"Circle\",\"id\":\"p1135\",\"attributes\":{\"x\":{\"type\":\"field\",\"field\":\"C1\"},\"y\":{\"type\":\"field\",\"field\":\"C2\"},\"size\":{\"type\":\"value\",\"value\":8},\"line_color\":{\"type\":\"value\",\"value\":\"#1f77b4\"},\"line_alpha\":{\"type\":\"value\",\"value\":0.1},\"fill_color\":{\"type\":\"field\",\"field\":\"Happiness Color\"},\"fill_alpha\":{\"type\":\"value\",\"value\":0.1},\"hatch_alpha\":{\"type\":\"value\",\"value\":0.1}}},\"muted_glyph\":{\"type\":\"object\",\"name\":\"Circle\",\"id\":\"p1136\",\"attributes\":{\"x\":{\"type\":\"field\",\"field\":\"C1\"},\"y\":{\"type\":\"field\",\"field\":\"C2\"},\"size\":{\"type\":\"value\",\"value\":8},\"line_color\":{\"type\":\"value\",\"value\":\"#1f77b4\"},\"line_alpha\":{\"type\":\"value\",\"value\":0.2},\"fill_color\":{\"type\":\"field\",\"field\":\"Happiness Color\"},\"fill_alpha\":{\"type\":\"value\",\"value\":0.2},\"hatch_alpha\":{\"type\":\"value\",\"value\":0.2}}}}}],\"toolbar\":{\"type\":\"object\",\"name\":\"Toolbar\",\"id\":\"p1115\",\"attributes\":{\"tools\":[{\"type\":\"object\",\"name\":\"PanTool\",\"id\":\"p1099\"},{\"type\":\"object\",\"name\":\"BoxZoomTool\",\"id\":\"p1100\",\"attributes\":{\"overlay\":{\"type\":\"object\",\"name\":\"BoxAnnotation\",\"id\":\"p1101\",\"attributes\":{\"syncable\":false,\"level\":\"overlay\",\"visible\":false,\"left\":{\"type\":\"number\",\"value\":\"nan\"},\"right\":{\"type\":\"number\",\"value\":\"nan\"},\"top\":{\"type\":\"number\",\"value\":\"nan\"},\"bottom\":{\"type\":\"number\",\"value\":\"nan\"},\"left_units\":\"canvas\",\"right_units\":\"canvas\",\"top_units\":\"canvas\",\"bottom_units\":\"canvas\",\"line_color\":\"black\",\"line_alpha\":1.0,\"line_width\":2,\"line_dash\":[4,4],\"fill_color\":\"lightgrey\",\"fill_alpha\":0.5}}}},{\"type\":\"object\",\"name\":\"HoverTool\",\"id\":\"p1098\",\"attributes\":{\"renderers\":\"auto\",\"tooltips\":[[\"Country\",\"@Country\"]]}},{\"type\":\"object\",\"name\":\"ResetTool\",\"id\":\"p1106\"}]}},\"left\":[{\"type\":\"object\",\"name\":\"LinearAxis\",\"id\":\"p1123\",\"attributes\":{\"ticker\":{\"type\":\"object\",\"name\":\"BasicTicker\",\"id\":\"p1124\",\"attributes\":{\"mantissas\":[1,2,5]}},\"formatter\":{\"type\":\"object\",\"name\":\"BasicTickFormatter\",\"id\":\"p1125\"},\"major_label_policy\":{\"type\":\"object\",\"name\":\"AllLabels\",\"id\":\"p1126\"}}}],\"below\":[{\"type\":\"object\",\"name\":\"LinearAxis\",\"id\":\"p1118\",\"attributes\":{\"ticker\":{\"type\":\"object\",\"name\":\"BasicTicker\",\"id\":\"p1119\",\"attributes\":{\"mantissas\":[1,2,5]}},\"formatter\":{\"type\":\"object\",\"name\":\"BasicTickFormatter\",\"id\":\"p1120\"},\"major_label_policy\":{\"type\":\"object\",\"name\":\"AllLabels\",\"id\":\"p1121\"}}}],\"center\":[{\"type\":\"object\",\"name\":\"Grid\",\"id\":\"p1122\",\"attributes\":{\"axis\":{\"id\":\"p1118\"}}},{\"type\":\"object\",\"name\":\"Grid\",\"id\":\"p1127\",\"attributes\":{\"dimension\":1,\"axis\":{\"id\":\"p1123\"}}}]}}]}};\n",
       "  const render_items = [{\"docid\":\"68d995f5-a087-4192-b2c0-0c0c62009c1c\",\"roots\":{\"p1107\":\"ba3d8e77-2dd2-414c-8ed9-dccc4b112efa\"},\"root_ids\":[\"p1107\"]}];\n",
       "  root.Bokeh.embed.embed_items_notebook(docs_json, render_items);\n",
       "  }\n",
       "  if (root.Bokeh !== undefined) {\n",
       "    embed_document(root);\n",
       "  } else {\n",
       "    let attempts = 0;\n",
       "    const timer = setInterval(function(root) {\n",
       "      if (root.Bokeh !== undefined) {\n",
       "        clearInterval(timer);\n",
       "        embed_document(root);\n",
       "      } else {\n",
       "        attempts++;\n",
       "        if (attempts > 100) {\n",
       "          clearInterval(timer);\n",
       "          console.log(\"Bokeh: ERROR: Unable to run BokehJS code because BokehJS library is missing\");\n",
       "        }\n",
       "      }\n",
       "    }, 10, root)\n",
       "  }\n",
       "})(window);"
      ],
      "application/vnd.bokehjs_exec.v0+json": ""
     },
     "metadata": {
      "application/vnd.bokehjs_exec.v0+json": {
       "id": "p1107"
      }
     },
     "output_type": "display_data"
    }
   ],
   "source": [
    "hovertool = HoverTool(tooltips=[('Country', '@Country')])\n",
    "fig = figure(tools=[PanTool(), BoxZoomTool(), hovertool, ResetTool()],\n",
    "             width=500, height=400)\n",
    "fig.circle('C1', 'C2', source=tsne_data, fill_color='Happiness Color',\n",
    "           size=8, alpha=0.85)\n",
    "show(fig)"
   ]
  }
 ],
 "metadata": {
  "kernelspec": {
   "display_name": "Python 3 (ipykernel)",
   "language": "python",
   "name": "python3"
  },
  "language_info": {
   "codemirror_mode": {
    "name": "ipython",
    "version": 3
   },
   "file_extension": ".py",
   "mimetype": "text/x-python",
   "name": "python",
   "nbconvert_exporter": "python",
   "pygments_lexer": "ipython3",
   "version": "3.11.8"
  }
 },
 "nbformat": 4,
 "nbformat_minor": 4
}
