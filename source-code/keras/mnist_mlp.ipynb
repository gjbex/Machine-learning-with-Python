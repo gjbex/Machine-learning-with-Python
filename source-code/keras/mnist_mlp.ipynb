{
 "cells": [
  {
   "cell_type": "markdown",
   "metadata": {},
   "source": [
    "# MNIST: multilayer perceptrons"
   ]
  },
  {
   "cell_type": "markdown",
   "metadata": {},
   "source": [
    "Multilayer perceptrons (MLP) have been around for more than 25 years. They are suited to both regression and classification tasks. Here we will use a classic MLP to recognize handwritten digits (MNIST data set), as well as an MLP with a number of more recent twists."
   ]
  },
  {
   "cell_type": "markdown",
   "metadata": {},
   "source": [
    "## Data preparation"
   ]
  },
  {
   "cell_type": "markdown",
   "metadata": {},
   "source": [
    "### Required imports"
   ]
  },
  {
   "cell_type": "code",
   "execution_count": 1,
   "metadata": {},
   "outputs": [
    {
     "name": "stderr",
     "output_type": "stream",
     "text": [
      "2024-03-20 10:27:08.290781: I tensorflow/core/util/port.cc:113] oneDNN custom operations are on. You may see slightly different numerical results due to floating-point round-off errors from different computation orders. To turn them off, set the environment variable `TF_ENABLE_ONEDNN_OPTS=0`.\n",
      "2024-03-20 10:27:08.449770: E external/local_xla/xla/stream_executor/cuda/cuda_dnn.cc:9261] Unable to register cuDNN factory: Attempting to register factory for plugin cuDNN when one has already been registered\n",
      "2024-03-20 10:27:08.449820: E external/local_xla/xla/stream_executor/cuda/cuda_fft.cc:607] Unable to register cuFFT factory: Attempting to register factory for plugin cuFFT when one has already been registered\n",
      "2024-03-20 10:27:08.472726: E external/local_xla/xla/stream_executor/cuda/cuda_blas.cc:1515] Unable to register cuBLAS factory: Attempting to register factory for plugin cuBLAS when one has already been registered\n",
      "2024-03-20 10:27:08.515347: I tensorflow/core/platform/cpu_feature_guard.cc:182] This TensorFlow binary is optimized to use available CPU instructions in performance-critical operations.\n",
      "To enable the following instructions: SSE4.1 SSE4.2 AVX AVX2 AVX512F AVX512_VNNI FMA, in other operations, rebuild TensorFlow with the appropriate compiler flags.\n"
     ]
    }
   ],
   "source": [
    "from tensorflow import keras\n",
    "from keras.datasets import mnist\n",
    "from sklearn.model_selection import train_test_split\n",
    "from sklearn.pipeline import Pipeline\n",
    "from sklearn.preprocessing import FunctionTransformer, OneHotEncoder\n",
    "import matplotlib.pyplot as plt\n",
    "%matplotlib inline\n",
    "import numpy as np"
   ]
  },
  {
   "cell_type": "markdown",
   "metadata": {},
   "source": [
    "### Obtaining the dataset"
   ]
  },
  {
   "cell_type": "markdown",
   "metadata": {},
   "source": [
    "In Keras' datasets module we have a handle to the MNIST dataset we want to use in this notebook.  Download the training and test set for this data."
   ]
  },
  {
   "cell_type": "code",
   "execution_count": 2,
   "metadata": {},
   "outputs": [],
   "source": [
    "(x_train, y_train), (x_test, y_test) = mnist.load_data()"
   ]
  },
  {
   "cell_type": "markdown",
   "metadata": {},
   "source": [
    "Before we can start doing machine learning on the data, some preparations are required.  In this case, the data set is clean, which simplifies this step considerably.  Although it would be better to create a pipeline using the scikit-learn framework, we'll do the preparation by hand in this case."
   ]
  },
  {
   "cell_type": "markdown",
   "metadata": {},
   "source": [
    "### Transforming the data"
   ]
  },
  {
   "cell_type": "markdown",
   "metadata": {},
   "source": [
    "Rather than use the 28 $\\times$ 28 images as input directly, we reshape each image to a 784 array."
   ]
  },
  {
   "cell_type": "code",
   "execution_count": 3,
   "metadata": {},
   "outputs": [],
   "source": [
    "input_reshaper = FunctionTransformer(lambda x: x.reshape(x.shape[0], -1),\n",
    "                                     validate=False)"
   ]
  },
  {
   "cell_type": "markdown",
   "metadata": {},
   "source": [
    "Most training algorithms work better if the input is normalized between 0 and 1."
   ]
  },
  {
   "cell_type": "code",
   "execution_count": 4,
   "metadata": {},
   "outputs": [],
   "source": [
    "input_normalizer = FunctionTransformer(lambda x: x.astype(np.float32)/255.0,\n",
    "                                       validate=True)"
   ]
  },
  {
   "cell_type": "markdown",
   "metadata": {},
   "source": [
    "Both preprocessing steps can be combined into a single pipeline."
   ]
  },
  {
   "cell_type": "code",
   "execution_count": 5,
   "metadata": {},
   "outputs": [],
   "source": [
    "input_pipeline = Pipeline([\n",
    "    ('reshaper', input_reshaper),\n",
    "    ('normalizer', input_normalizer),\n",
    "])"
   ]
  },
  {
   "cell_type": "markdown",
   "metadata": {},
   "source": [
    "We can now fit and transform the training input, and transform the testing input."
   ]
  },
  {
   "cell_type": "code",
   "execution_count": 6,
   "metadata": {},
   "outputs": [],
   "source": [
    "x_train = input_pipeline.fit_transform(x_train)\n",
    "x_test = input_pipeline.transform(x_test)"
   ]
  },
  {
   "cell_type": "markdown",
   "metadata": {},
   "source": [
    "The output can be transformed to categorical data, i.e., one category for each digit, rather than a `uint8`. This is a one-hot encoding, so the output is now an array consisting of a single 1.0 value, and nine 0.0 values.  Before calling the `OneHotEncoder`, the output array has to be reshaped.  Note that the type of the output is now `float64`, which we can reduce to `float32` to reduce memory requirements and speed up computations."
   ]
  },
  {
   "cell_type": "code",
   "execution_count": 7,
   "metadata": {},
   "outputs": [],
   "source": [
    "output_reshaper = FunctionTransformer(lambda x: x.reshape(-1, 1),\n",
    "                                      validate=False)"
   ]
  },
  {
   "cell_type": "code",
   "execution_count": 12,
   "metadata": {},
   "outputs": [],
   "source": [
    "output_encoder = OneHotEncoder(sparse_output=False, categories='auto')"
   ]
  },
  {
   "cell_type": "code",
   "execution_count": 9,
   "metadata": {},
   "outputs": [],
   "source": [
    "output_type_changer = FunctionTransformer(lambda x: x.astype(np.float32),\n",
    "                                          validate=False)"
   ]
  },
  {
   "cell_type": "code",
   "execution_count": 13,
   "metadata": {},
   "outputs": [],
   "source": [
    "output_pipeline = Pipeline([\n",
    "    ('reshaper', output_reshaper),\n",
    "    ('binarizer', output_encoder),\n",
    "    ('type_changer', output_type_changer),\n",
    "])"
   ]
  },
  {
   "cell_type": "markdown",
   "metadata": {},
   "source": [
    "Now the training output can be fit and transformed, and the testing output transformed accordingly."
   ]
  },
  {
   "cell_type": "code",
   "execution_count": 14,
   "metadata": {},
   "outputs": [],
   "source": [
    "y_train = output_pipeline.fit_transform(y_train)\n",
    "y_test = output_pipeline.transform(y_test)"
   ]
  },
  {
   "cell_type": "code",
   "execution_count": 15,
   "metadata": {},
   "outputs": [
    {
     "data": {
      "text/plain": [
       "(60000, 10)"
      ]
     },
     "execution_count": 15,
     "metadata": {},
     "output_type": "execute_result"
    }
   ],
   "source": [
    "y_train.shape"
   ]
  },
  {
   "cell_type": "code",
   "execution_count": 16,
   "metadata": {},
   "outputs": [
    {
     "name": "stdout",
     "output_type": "stream",
     "text": [
      "[0. 0. 0. 0. 0. 1. 0. 0. 0. 0.]\n"
     ]
    }
   ],
   "source": [
    "print(y_train[0])"
   ]
  },
  {
   "cell_type": "markdown",
   "metadata": {},
   "source": [
    "Note that the encoding of the output is now a sparse array."
   ]
  },
  {
   "cell_type": "markdown",
   "metadata": {},
   "source": [
    "### Validation set"
   ]
  },
  {
   "cell_type": "markdown",
   "metadata": {},
   "source": [
    "In order to make this reproducible, we have to seed the random number generator."
   ]
  },
  {
   "cell_type": "code",
   "execution_count": 17,
   "metadata": {},
   "outputs": [],
   "source": [
    "np.random.seed(1234)"
   ]
  },
  {
   "cell_type": "markdown",
   "metadata": {},
   "source": [
    "During the training, we will require a validation set, so we split the training data into two sets, one for actual training, the other for validation.  Note, we don't touch the test data set at all during the training process.  The default is using 75 % of the data for training, 25 % for validation. This function will also shuffle the data set prior to splitting (hence seeding the random number generator)."
   ]
  },
  {
   "cell_type": "code",
   "execution_count": 18,
   "metadata": {},
   "outputs": [],
   "source": [
    "x_train, x_val, y_train, y_val = train_test_split(x_train, y_train)"
   ]
  },
  {
   "cell_type": "code",
   "execution_count": 19,
   "metadata": {},
   "outputs": [
    {
     "data": {
      "text/plain": [
       "((45000, 784), (15000, 784), (45000, 10), (15000, 10))"
      ]
     },
     "execution_count": 19,
     "metadata": {},
     "output_type": "execute_result"
    }
   ],
   "source": [
    "x_train.shape, x_val.shape, y_train.shape, y_val.shape"
   ]
  },
  {
   "cell_type": "markdown",
   "metadata": {},
   "source": [
    "### Verification"
   ]
  },
  {
   "cell_type": "markdown",
   "metadata": {},
   "source": [
    "Since we've done quite some transformations, let's verify whether we didn't mess up."
   ]
  },
  {
   "cell_type": "code",
   "execution_count": 20,
   "metadata": {},
   "outputs": [
    {
     "data": {
      "image/png": "[encoded data removed]",
      "text/plain": [
       "<Figure size 640x480 with 1 Axes>"
      ]
     },
     "metadata": {},
     "output_type": "display_data"
    }
   ],
   "source": [
    "frame = plt.gca()\n",
    "frame.axes.get_xaxis().set_visible(False)\n",
    "frame.axes.get_yaxis().set_visible(False)\n",
    "plt.imshow(x_train[0].reshape(28, 28), cmap='gray');"
   ]
  },
  {
   "cell_type": "code",
   "execution_count": 21,
   "metadata": {},
   "outputs": [
    {
     "name": "stdout",
     "output_type": "stream",
     "text": [
      "[0. 0. 0. 0. 0. 0. 1. 0. 0. 0.]\n"
     ]
    }
   ],
   "source": [
    "print(y_train[0])"
   ]
  },
  {
   "cell_type": "markdown",
   "metadata": {},
   "source": [
    "Everything seems fine, input/output are as expected, and we can start doing some machine learning."
   ]
  },
  {
   "cell_type": "markdown",
   "metadata": {},
   "source": [
    "## Classic multilayer perceptron (MLP)"
   ]
  },
  {
   "cell_type": "markdown",
   "metadata": {},
   "source": [
    "We start off training a classic multilayer neural network to familiarie ourselves with the keras framework."
   ]
  },
  {
   "cell_type": "markdown",
   "metadata": {},
   "source": [
    "### Required imports"
   ]
  },
  {
   "cell_type": "code",
   "execution_count": 22,
   "metadata": {},
   "outputs": [],
   "source": [
    "from keras.models import Sequential\n",
    "from keras.layers import Dense, Dropout\n",
    "from keras.optimizers import SGD\n",
    "from sklearn.metrics import confusion_matrix\n",
    "import tensorflow as tf"
   ]
  },
  {
   "cell_type": "markdown",
   "metadata": {},
   "source": [
    "### Model definition"
   ]
  },
  {
   "cell_type": "markdown",
   "metadata": {},
   "source": [
    "We will create a fully connected neural network with 784 input units (28 $\\times$ 28 pixels), two hidden layers with 512 units each, and an output layter with 10 units (ten categories, one per digit). For the two hidden layers, we will use a ReLU activation function, and a SoftMax for the output layer.\n",
    "\n",
    "To obtain repeatable results, we need to seed the random number generator, taking into account that TensorFlow uses its own."
   ]
  },
  {
   "cell_type": "code",
   "execution_count": 23,
   "metadata": {},
   "outputs": [],
   "source": [
    "np.random.seed(1234)\n",
    "tf.random.set_seed(4958)"
   ]
  },
  {
   "cell_type": "code",
   "execution_count": 24,
   "metadata": {},
   "outputs": [
    {
     "name": "stderr",
     "output_type": "stream",
     "text": [
      "2024-03-20 10:46:49.463824: I external/local_xla/xla/stream_executor/cuda/cuda_executor.cc:887] could not open file to read NUMA node: /sys/bus/pci/devices/0000:01:00.0/numa_node\n",
      "Your kernel may have been built without NUMA support.\n",
      "2024-03-20 10:46:49.644538: I external/local_xla/xla/stream_executor/cuda/cuda_executor.cc:887] could not open file to read NUMA node: /sys/bus/pci/devices/0000:01:00.0/numa_node\n",
      "Your kernel may have been built without NUMA support.\n",
      "2024-03-20 10:46:49.644592: I external/local_xla/xla/stream_executor/cuda/cuda_executor.cc:887] could not open file to read NUMA node: /sys/bus/pci/devices/0000:01:00.0/numa_node\n",
      "Your kernel may have been built without NUMA support.\n",
      "2024-03-20 10:46:49.648629: I external/local_xla/xla/stream_executor/cuda/cuda_executor.cc:887] could not open file to read NUMA node: /sys/bus/pci/devices/0000:01:00.0/numa_node\n",
      "Your kernel may have been built without NUMA support.\n",
      "2024-03-20 10:46:49.648676: I external/local_xla/xla/stream_executor/cuda/cuda_executor.cc:887] could not open file to read NUMA node: /sys/bus/pci/devices/0000:01:00.0/numa_node\n",
      "Your kernel may have been built without NUMA support.\n",
      "2024-03-20 10:46:49.648697: I external/local_xla/xla/stream_executor/cuda/cuda_executor.cc:887] could not open file to read NUMA node: /sys/bus/pci/devices/0000:01:00.0/numa_node\n",
      "Your kernel may have been built without NUMA support.\n",
      "2024-03-20 10:46:52.830471: I external/local_xla/xla/stream_executor/cuda/cuda_executor.cc:887] could not open file to read NUMA node: /sys/bus/pci/devices/0000:01:00.0/numa_node\n",
      "Your kernel may have been built without NUMA support.\n",
      "2024-03-20 10:46:52.830953: I external/local_xla/xla/stream_executor/cuda/cuda_executor.cc:887] could not open file to read NUMA node: /sys/bus/pci/devices/0000:01:00.0/numa_node\n",
      "Your kernel may have been built without NUMA support.\n",
      "2024-03-20 10:46:52.830968: I tensorflow/core/common_runtime/gpu/gpu_device.cc:2022] Could not identify NUMA node of platform GPU id 0, defaulting to 0.  Your kernel may not have been built with NUMA support.\n",
      "2024-03-20 10:46:52.831010: I external/local_xla/xla/stream_executor/cuda/cuda_executor.cc:887] could not open file to read NUMA node: /sys/bus/pci/devices/0000:01:00.0/numa_node\n",
      "Your kernel may have been built without NUMA support.\n",
      "2024-03-20 10:46:52.831313: I tensorflow/core/common_runtime/gpu/gpu_device.cc:1929] Created device /job:localhost/replica:0/task:0/device:GPU:0 with 3421 MB memory:  -> device: 0, name: NVIDIA GeForce RTX 3060 Laptop GPU, pci bus id: 0000:01:00.0, compute capability: 8.6\n"
     ]
    }
   ],
   "source": [
    "model = Sequential()\n",
    "model.add(Dense(512, activation='relu', input_shape=(784,)))\n",
    "model.add(Dense(512, activation='relu'))\n",
    "model.add(Dense(10, activation='softmax'))"
   ]
  },
  {
   "cell_type": "code",
   "execution_count": 25,
   "metadata": {
    "scrolled": true
   },
   "outputs": [
    {
     "name": "stdout",
     "output_type": "stream",
     "text": [
      "Model: \"sequential\"\n",
      "_________________________________________________________________\n",
      " Layer (type)                Output Shape              Param #   \n",
      "=================================================================\n",
      " dense (Dense)               (None, 512)               401920    \n",
      "                                                                 \n",
      " dense_1 (Dense)             (None, 512)               262656    \n",
      "                                                                 \n",
      " dense_2 (Dense)             (None, 10)                5130      \n",
      "                                                                 \n",
      "=================================================================\n",
      "Total params: 669706 (2.55 MB)\n",
      "Trainable params: 669706 (2.55 MB)\n",
      "Non-trainable params: 0 (0.00 Byte)\n",
      "_________________________________________________________________\n"
     ]
    }
   ],
   "source": [
    "model.summary()"
   ]
  },
  {
   "cell_type": "markdown",
   "metadata": {},
   "source": [
    "Now we can can compile the model, specifying the loss function (categorical cross-entropy), the optimizer (SGD, Stochastic Gradient Descent), and the metrics (accuracy) we want to use."
   ]
  },
  {
   "cell_type": "code",
   "execution_count": 26,
   "metadata": {},
   "outputs": [],
   "source": [
    "model.compile(loss='categorical_crossentropy', optimizer=SGD(), metrics=['accuracy'])"
   ]
  },
  {
   "cell_type": "markdown",
   "metadata": {},
   "source": [
    "### Training"
   ]
  },
  {
   "cell_type": "code",
   "execution_count": 27,
   "metadata": {
    "scrolled": true
   },
   "outputs": [
    {
     "name": "stdout",
     "output_type": "stream",
     "text": [
      "Epoch 1/100\n"
     ]
    },
    {
     "name": "stderr",
     "output_type": "stream",
     "text": [
      "2024-03-20 10:47:27.328449: I external/local_xla/xla/service/service.cc:168] XLA service 0x7ef9d002a860 initialized for platform CUDA (this does not guarantee that XLA will be used). Devices:\n",
      "2024-03-20 10:47:27.328497: I external/local_xla/xla/service/service.cc:176]   StreamExecutor device (0): NVIDIA GeForce RTX 3060 Laptop GPU, Compute Capability 8.6\n",
      "2024-03-20 10:47:28.038059: I external/local_xla/xla/stream_executor/cuda/cuda_dnn.cc:454] Loaded cuDNN version 8907\n",
      "WARNING: All log messages before absl::InitializeLog() is called are written to STDERR\n",
      "I0000 00:00:1710928048.104877   14165 device_compiler.h:186] Compiled cluster using XLA!  This line is logged at most once for the lifetime of the process.\n"
     ]
    },
    {
     "name": "stdout",
     "output_type": "stream",
     "text": [
      "352/352 [==============================] - 6s 6ms/step - loss: 1.2804 - accuracy: 0.7204 - val_loss: 0.6708 - val_accuracy: 0.8519\n",
      "Epoch 2/100\n",
      "352/352 [==============================] - 2s 6ms/step - loss: 0.5262 - accuracy: 0.8707 - val_loss: 0.4483 - val_accuracy: 0.8785\n",
      "Epoch 3/100\n",
      "352/352 [==============================] - 2s 6ms/step - loss: 0.4024 - accuracy: 0.8919 - val_loss: 0.3833 - val_accuracy: 0.8908\n",
      "Epoch 4/100\n",
      "352/352 [==============================] - 2s 6ms/step - loss: 0.3525 - accuracy: 0.9019 - val_loss: 0.3425 - val_accuracy: 0.9012\n",
      "Epoch 5/100\n",
      "352/352 [==============================] - 2s 6ms/step - loss: 0.3221 - accuracy: 0.9102 - val_loss: 0.3183 - val_accuracy: 0.9062\n",
      "Epoch 6/100\n",
      "352/352 [==============================] - 2s 6ms/step - loss: 0.3006 - accuracy: 0.9156 - val_loss: 0.3023 - val_accuracy: 0.9119\n",
      "Epoch 7/100\n",
      "352/352 [==============================] - 2s 6ms/step - loss: 0.2837 - accuracy: 0.9204 - val_loss: 0.2876 - val_accuracy: 0.9173\n",
      "Epoch 8/100\n",
      "352/352 [==============================] - 2s 6ms/step - loss: 0.2697 - accuracy: 0.9241 - val_loss: 0.2737 - val_accuracy: 0.9205\n",
      "Epoch 9/100\n",
      "352/352 [==============================] - 2s 6ms/step - loss: 0.2572 - accuracy: 0.9281 - val_loss: 0.2653 - val_accuracy: 0.9233\n",
      "Epoch 10/100\n",
      "352/352 [==============================] - 2s 6ms/step - loss: 0.2467 - accuracy: 0.9306 - val_loss: 0.2558 - val_accuracy: 0.9268\n",
      "Epoch 11/100\n",
      "352/352 [==============================] - 2s 6ms/step - loss: 0.2368 - accuracy: 0.9340 - val_loss: 0.2461 - val_accuracy: 0.9303\n",
      "Epoch 12/100\n",
      "352/352 [==============================] - 2s 6ms/step - loss: 0.2280 - accuracy: 0.9356 - val_loss: 0.2390 - val_accuracy: 0.9317\n",
      "Epoch 13/100\n",
      "352/352 [==============================] - 2s 5ms/step - loss: 0.2197 - accuracy: 0.9381 - val_loss: 0.2321 - val_accuracy: 0.9345\n",
      "Epoch 14/100\n",
      "352/352 [==============================] - 2s 5ms/step - loss: 0.2122 - accuracy: 0.9402 - val_loss: 0.2250 - val_accuracy: 0.9357\n",
      "Epoch 15/100\n",
      "352/352 [==============================] - 2s 6ms/step - loss: 0.2050 - accuracy: 0.9424 - val_loss: 0.2189 - val_accuracy: 0.9377\n",
      "Epoch 16/100\n",
      "352/352 [==============================] - 2s 5ms/step - loss: 0.1986 - accuracy: 0.9443 - val_loss: 0.2129 - val_accuracy: 0.9394\n",
      "Epoch 17/100\n",
      "352/352 [==============================] - 2s 6ms/step - loss: 0.1919 - accuracy: 0.9461 - val_loss: 0.2089 - val_accuracy: 0.9399\n",
      "Epoch 18/100\n",
      "352/352 [==============================] - 2s 5ms/step - loss: 0.1862 - accuracy: 0.9479 - val_loss: 0.2025 - val_accuracy: 0.9424\n",
      "Epoch 19/100\n",
      "352/352 [==============================] - 2s 5ms/step - loss: 0.1805 - accuracy: 0.9497 - val_loss: 0.1978 - val_accuracy: 0.9439\n",
      "Epoch 20/100\n",
      "352/352 [==============================] - 2s 6ms/step - loss: 0.1753 - accuracy: 0.9512 - val_loss: 0.1939 - val_accuracy: 0.9436\n",
      "Epoch 21/100\n",
      "352/352 [==============================] - 2s 6ms/step - loss: 0.1703 - accuracy: 0.9526 - val_loss: 0.1891 - val_accuracy: 0.9455\n",
      "Epoch 22/100\n",
      "352/352 [==============================] - 2s 5ms/step - loss: 0.1655 - accuracy: 0.9539 - val_loss: 0.1841 - val_accuracy: 0.9471\n",
      "Epoch 23/100\n",
      "352/352 [==============================] - 2s 6ms/step - loss: 0.1613 - accuracy: 0.9550 - val_loss: 0.1818 - val_accuracy: 0.9475\n",
      "Epoch 24/100\n",
      "352/352 [==============================] - 2s 6ms/step - loss: 0.1568 - accuracy: 0.9562 - val_loss: 0.1780 - val_accuracy: 0.9490\n",
      "Epoch 25/100\n",
      "352/352 [==============================] - 2s 6ms/step - loss: 0.1528 - accuracy: 0.9574 - val_loss: 0.1729 - val_accuracy: 0.9509\n",
      "Epoch 26/100\n",
      "352/352 [==============================] - 2s 6ms/step - loss: 0.1490 - accuracy: 0.9582 - val_loss: 0.1694 - val_accuracy: 0.9517\n",
      "Epoch 27/100\n",
      "352/352 [==============================] - 2s 6ms/step - loss: 0.1452 - accuracy: 0.9592 - val_loss: 0.1669 - val_accuracy: 0.9523\n",
      "Epoch 28/100\n",
      "352/352 [==============================] - 2s 6ms/step - loss: 0.1414 - accuracy: 0.9607 - val_loss: 0.1636 - val_accuracy: 0.9535\n",
      "Epoch 29/100\n",
      "352/352 [==============================] - 2s 6ms/step - loss: 0.1381 - accuracy: 0.9614 - val_loss: 0.1608 - val_accuracy: 0.9537\n",
      "Epoch 30/100\n",
      "352/352 [==============================] - 2s 6ms/step - loss: 0.1349 - accuracy: 0.9622 - val_loss: 0.1579 - val_accuracy: 0.9547\n",
      "Epoch 31/100\n",
      "352/352 [==============================] - 2s 6ms/step - loss: 0.1318 - accuracy: 0.9632 - val_loss: 0.1558 - val_accuracy: 0.9552\n",
      "Epoch 32/100\n",
      "352/352 [==============================] - 2s 6ms/step - loss: 0.1287 - accuracy: 0.9636 - val_loss: 0.1529 - val_accuracy: 0.9559\n",
      "Epoch 33/100\n",
      "352/352 [==============================] - 2s 6ms/step - loss: 0.1257 - accuracy: 0.9654 - val_loss: 0.1507 - val_accuracy: 0.9565\n",
      "Epoch 34/100\n",
      "352/352 [==============================] - 2s 6ms/step - loss: 0.1229 - accuracy: 0.9665 - val_loss: 0.1506 - val_accuracy: 0.9557\n",
      "Epoch 35/100\n",
      "352/352 [==============================] - 2s 6ms/step - loss: 0.1203 - accuracy: 0.9666 - val_loss: 0.1462 - val_accuracy: 0.9580\n",
      "Epoch 36/100\n",
      "352/352 [==============================] - 2s 6ms/step - loss: 0.1176 - accuracy: 0.9676 - val_loss: 0.1437 - val_accuracy: 0.9586\n",
      "Epoch 37/100\n",
      "352/352 [==============================] - 2s 6ms/step - loss: 0.1151 - accuracy: 0.9685 - val_loss: 0.1424 - val_accuracy: 0.9579\n",
      "Epoch 38/100\n",
      "352/352 [==============================] - 2s 6ms/step - loss: 0.1125 - accuracy: 0.9690 - val_loss: 0.1394 - val_accuracy: 0.9607\n",
      "Epoch 39/100\n",
      "352/352 [==============================] - 2s 6ms/step - loss: 0.1103 - accuracy: 0.9693 - val_loss: 0.1372 - val_accuracy: 0.9609\n",
      "Epoch 40/100\n",
      "352/352 [==============================] - 2s 6ms/step - loss: 0.1078 - accuracy: 0.9709 - val_loss: 0.1365 - val_accuracy: 0.9603\n",
      "Epoch 41/100\n",
      "352/352 [==============================] - 2s 6ms/step - loss: 0.1056 - accuracy: 0.9711 - val_loss: 0.1347 - val_accuracy: 0.9609\n",
      "Epoch 42/100\n",
      "352/352 [==============================] - 2s 6ms/step - loss: 0.1035 - accuracy: 0.9720 - val_loss: 0.1319 - val_accuracy: 0.9620\n",
      "Epoch 43/100\n",
      "352/352 [==============================] - 2s 6ms/step - loss: 0.1015 - accuracy: 0.9723 - val_loss: 0.1303 - val_accuracy: 0.9622\n",
      "Epoch 44/100\n",
      "352/352 [==============================] - 2s 6ms/step - loss: 0.0993 - accuracy: 0.9735 - val_loss: 0.1290 - val_accuracy: 0.9628\n",
      "Epoch 45/100\n",
      "352/352 [==============================] - 2s 5ms/step - loss: 0.0975 - accuracy: 0.9738 - val_loss: 0.1280 - val_accuracy: 0.9627\n",
      "Epoch 46/100\n",
      "352/352 [==============================] - 2s 6ms/step - loss: 0.0956 - accuracy: 0.9744 - val_loss: 0.1255 - val_accuracy: 0.9633\n",
      "Epoch 47/100\n",
      "352/352 [==============================] - 2s 6ms/step - loss: 0.0936 - accuracy: 0.9748 - val_loss: 0.1240 - val_accuracy: 0.9629\n",
      "Epoch 48/100\n",
      "352/352 [==============================] - 2s 6ms/step - loss: 0.0919 - accuracy: 0.9753 - val_loss: 0.1227 - val_accuracy: 0.9643\n",
      "Epoch 49/100\n",
      "352/352 [==============================] - 2s 6ms/step - loss: 0.0902 - accuracy: 0.9759 - val_loss: 0.1213 - val_accuracy: 0.9647\n",
      "Epoch 50/100\n",
      "352/352 [==============================] - 2s 6ms/step - loss: 0.0883 - accuracy: 0.9762 - val_loss: 0.1202 - val_accuracy: 0.9651\n",
      "Epoch 51/100\n",
      "352/352 [==============================] - 2s 6ms/step - loss: 0.0867 - accuracy: 0.9769 - val_loss: 0.1192 - val_accuracy: 0.9647\n",
      "Epoch 52/100\n",
      "352/352 [==============================] - 2s 6ms/step - loss: 0.0852 - accuracy: 0.9773 - val_loss: 0.1175 - val_accuracy: 0.9657\n",
      "Epoch 53/100\n",
      "352/352 [==============================] - 2s 6ms/step - loss: 0.0834 - accuracy: 0.9777 - val_loss: 0.1163 - val_accuracy: 0.9665\n",
      "Epoch 54/100\n",
      "352/352 [==============================] - 2s 6ms/step - loss: 0.0820 - accuracy: 0.9779 - val_loss: 0.1150 - val_accuracy: 0.9663\n",
      "Epoch 55/100\n",
      "352/352 [==============================] - 2s 6ms/step - loss: 0.0805 - accuracy: 0.9782 - val_loss: 0.1144 - val_accuracy: 0.9658\n",
      "Epoch 56/100\n",
      "352/352 [==============================] - 2s 6ms/step - loss: 0.0790 - accuracy: 0.9790 - val_loss: 0.1133 - val_accuracy: 0.9665\n",
      "Epoch 57/100\n",
      "352/352 [==============================] - 2s 6ms/step - loss: 0.0776 - accuracy: 0.9795 - val_loss: 0.1112 - val_accuracy: 0.9667\n",
      "Epoch 58/100\n",
      "352/352 [==============================] - 2s 6ms/step - loss: 0.0762 - accuracy: 0.9797 - val_loss: 0.1100 - val_accuracy: 0.9674\n",
      "Epoch 59/100\n",
      "352/352 [==============================] - 2s 6ms/step - loss: 0.0748 - accuracy: 0.9801 - val_loss: 0.1087 - val_accuracy: 0.9678\n",
      "Epoch 60/100\n",
      "352/352 [==============================] - 2s 6ms/step - loss: 0.0735 - accuracy: 0.9802 - val_loss: 0.1079 - val_accuracy: 0.9676\n",
      "Epoch 61/100\n",
      "352/352 [==============================] - 2s 6ms/step - loss: 0.0723 - accuracy: 0.9807 - val_loss: 0.1072 - val_accuracy: 0.9683\n",
      "Epoch 62/100\n",
      "352/352 [==============================] - 2s 6ms/step - loss: 0.0708 - accuracy: 0.9810 - val_loss: 0.1070 - val_accuracy: 0.9683\n",
      "Epoch 63/100\n",
      "352/352 [==============================] - 2s 6ms/step - loss: 0.0697 - accuracy: 0.9810 - val_loss: 0.1049 - val_accuracy: 0.9689\n",
      "Epoch 64/100\n",
      "352/352 [==============================] - 2s 6ms/step - loss: 0.0684 - accuracy: 0.9818 - val_loss: 0.1039 - val_accuracy: 0.9692\n",
      "Epoch 65/100\n",
      "352/352 [==============================] - 2s 6ms/step - loss: 0.0671 - accuracy: 0.9821 - val_loss: 0.1032 - val_accuracy: 0.9690\n",
      "Epoch 66/100\n",
      "352/352 [==============================] - 2s 6ms/step - loss: 0.0662 - accuracy: 0.9824 - val_loss: 0.1026 - val_accuracy: 0.9695\n",
      "Epoch 67/100\n",
      "352/352 [==============================] - 2s 6ms/step - loss: 0.0650 - accuracy: 0.9830 - val_loss: 0.1030 - val_accuracy: 0.9695\n",
      "Epoch 68/100\n",
      "352/352 [==============================] - 2s 6ms/step - loss: 0.0638 - accuracy: 0.9834 - val_loss: 0.1009 - val_accuracy: 0.9700\n",
      "Epoch 69/100\n",
      "352/352 [==============================] - 2s 6ms/step - loss: 0.0628 - accuracy: 0.9834 - val_loss: 0.1005 - val_accuracy: 0.9699\n",
      "Epoch 70/100\n",
      "352/352 [==============================] - 2s 6ms/step - loss: 0.0617 - accuracy: 0.9840 - val_loss: 0.0996 - val_accuracy: 0.9709\n",
      "Epoch 71/100\n",
      "352/352 [==============================] - 2s 6ms/step - loss: 0.0605 - accuracy: 0.9846 - val_loss: 0.0983 - val_accuracy: 0.9717\n",
      "Epoch 72/100\n",
      "352/352 [==============================] - 2s 6ms/step - loss: 0.0597 - accuracy: 0.9847 - val_loss: 0.0985 - val_accuracy: 0.9712\n",
      "Epoch 73/100\n",
      "352/352 [==============================] - 2s 6ms/step - loss: 0.0586 - accuracy: 0.9850 - val_loss: 0.0971 - val_accuracy: 0.9716\n",
      "Epoch 74/100\n",
      "352/352 [==============================] - 2s 6ms/step - loss: 0.0577 - accuracy: 0.9853 - val_loss: 0.0964 - val_accuracy: 0.9707\n",
      "Epoch 75/100\n",
      "352/352 [==============================] - 2s 6ms/step - loss: 0.0566 - accuracy: 0.9855 - val_loss: 0.0961 - val_accuracy: 0.9723\n",
      "Epoch 76/100\n",
      "352/352 [==============================] - 2s 6ms/step - loss: 0.0558 - accuracy: 0.9858 - val_loss: 0.0955 - val_accuracy: 0.9718\n",
      "Epoch 77/100\n",
      "352/352 [==============================] - 2s 6ms/step - loss: 0.0549 - accuracy: 0.9861 - val_loss: 0.0945 - val_accuracy: 0.9727\n",
      "Epoch 78/100\n",
      "352/352 [==============================] - 2s 6ms/step - loss: 0.0538 - accuracy: 0.9864 - val_loss: 0.0942 - val_accuracy: 0.9719\n",
      "Epoch 79/100\n",
      "352/352 [==============================] - 2s 6ms/step - loss: 0.0529 - accuracy: 0.9868 - val_loss: 0.0938 - val_accuracy: 0.9717\n",
      "Epoch 80/100\n",
      "352/352 [==============================] - 2s 6ms/step - loss: 0.0521 - accuracy: 0.9868 - val_loss: 0.0935 - val_accuracy: 0.9722\n",
      "Epoch 81/100\n",
      "352/352 [==============================] - 2s 6ms/step - loss: 0.0512 - accuracy: 0.9871 - val_loss: 0.0939 - val_accuracy: 0.9715\n",
      "Epoch 82/100\n",
      "352/352 [==============================] - 2s 6ms/step - loss: 0.0504 - accuracy: 0.9876 - val_loss: 0.0926 - val_accuracy: 0.9717\n",
      "Epoch 83/100\n",
      "352/352 [==============================] - 2s 6ms/step - loss: 0.0497 - accuracy: 0.9876 - val_loss: 0.0912 - val_accuracy: 0.9733\n",
      "Epoch 84/100\n",
      "352/352 [==============================] - 2s 6ms/step - loss: 0.0488 - accuracy: 0.9880 - val_loss: 0.0909 - val_accuracy: 0.9726\n",
      "Epoch 85/100\n",
      "352/352 [==============================] - 2s 6ms/step - loss: 0.0480 - accuracy: 0.9884 - val_loss: 0.0905 - val_accuracy: 0.9731\n",
      "Epoch 86/100\n",
      "352/352 [==============================] - 2s 6ms/step - loss: 0.0472 - accuracy: 0.9885 - val_loss: 0.0900 - val_accuracy: 0.9728\n",
      "Epoch 87/100\n",
      "352/352 [==============================] - 2s 6ms/step - loss: 0.0464 - accuracy: 0.9886 - val_loss: 0.0895 - val_accuracy: 0.9733\n",
      "Epoch 88/100\n",
      "352/352 [==============================] - 2s 6ms/step - loss: 0.0457 - accuracy: 0.9891 - val_loss: 0.0892 - val_accuracy: 0.9737\n",
      "Epoch 89/100\n",
      "352/352 [==============================] - 2s 6ms/step - loss: 0.0451 - accuracy: 0.9892 - val_loss: 0.0884 - val_accuracy: 0.9732\n",
      "Epoch 90/100\n",
      "352/352 [==============================] - 2s 6ms/step - loss: 0.0443 - accuracy: 0.9895 - val_loss: 0.0891 - val_accuracy: 0.9731\n",
      "Epoch 91/100\n",
      "352/352 [==============================] - 2s 6ms/step - loss: 0.0436 - accuracy: 0.9897 - val_loss: 0.0876 - val_accuracy: 0.9733\n",
      "Epoch 92/100\n",
      "352/352 [==============================] - 2s 6ms/step - loss: 0.0430 - accuracy: 0.9898 - val_loss: 0.0878 - val_accuracy: 0.9736\n",
      "Epoch 93/100\n",
      "352/352 [==============================] - 2s 6ms/step - loss: 0.0422 - accuracy: 0.9903 - val_loss: 0.0865 - val_accuracy: 0.9741\n",
      "Epoch 94/100\n",
      "352/352 [==============================] - 2s 6ms/step - loss: 0.0416 - accuracy: 0.9904 - val_loss: 0.0866 - val_accuracy: 0.9737\n",
      "Epoch 95/100\n",
      "352/352 [==============================] - 2s 6ms/step - loss: 0.0409 - accuracy: 0.9907 - val_loss: 0.0862 - val_accuracy: 0.9743\n",
      "Epoch 96/100\n",
      "352/352 [==============================] - 2s 6ms/step - loss: 0.0402 - accuracy: 0.9909 - val_loss: 0.0854 - val_accuracy: 0.9743\n",
      "Epoch 97/100\n",
      "352/352 [==============================] - 2s 6ms/step - loss: 0.0397 - accuracy: 0.9912 - val_loss: 0.0852 - val_accuracy: 0.9745\n",
      "Epoch 98/100\n",
      "352/352 [==============================] - 2s 6ms/step - loss: 0.0390 - accuracy: 0.9913 - val_loss: 0.0848 - val_accuracy: 0.9743\n",
      "Epoch 99/100\n",
      "352/352 [==============================] - 2s 6ms/step - loss: 0.0384 - accuracy: 0.9917 - val_loss: 0.0847 - val_accuracy: 0.9735\n",
      "Epoch 100/100\n",
      "352/352 [==============================] - 2s 6ms/step - loss: 0.0378 - accuracy: 0.9918 - val_loss: 0.0839 - val_accuracy: 0.9743\n"
     ]
    }
   ],
   "source": [
    "model_history = model.fit(tf.dtypes.cast(x_train, tf.float32),\n",
    "                          tf.dtypes.cast(y_train, tf.float32),\n",
    "                          batch_size=128, epochs=100,\n",
    "                          verbose=1, validation_data=(tf.dtypes.cast(x_val, tf.float32),\n",
    "                                                      tf.dtypes.cast(y_val, tf.float32)))"
   ]
  },
  {
   "cell_type": "markdown",
   "metadata": {},
   "source": [
    "Plot the history of the training process."
   ]
  },
  {
   "cell_type": "code",
   "execution_count": 31,
   "metadata": {},
   "outputs": [],
   "source": [
    "def plot_history(network_history):\n",
    "    plt.figure()\n",
    "    plt.xlabel('Epochs')\n",
    "    plt.ylabel('Loss')\n",
    "    plt.plot(network_history.history['loss'])\n",
    "    plt.plot(network_history.history['val_loss'])\n",
    "    plt.legend(['Training', 'Validation'])\n",
    "\n",
    "    plt.figure()\n",
    "    plt.xlabel('Epochs')\n",
    "    plt.ylabel('Accuracy')\n",
    "    plt.plot(network_history.history['accuracy'])\n",
    "    plt.plot(network_history.history['val_accuracy'])\n",
    "    plt.legend(['Training', 'Validation'], loc='lower right')"
   ]
  },
  {
   "cell_type": "code",
   "execution_count": 32,
   "metadata": {
    "scrolled": true
   },
   "outputs": [
    {
     "data": {
      "image/png": "[encoded data removed]",
      "text/plain": [
       "<Figure size 640x480 with 1 Axes>"
      ]
     },
     "metadata": {},
     "output_type": "display_data"
    },
    {
     "data": {
      "image/png": "[encoded data removed]",
      "text/plain": [
       "<Figure size 640x480 with 1 Axes>"
      ]
     },
     "metadata": {},
     "output_type": "display_data"
    }
   ],
   "source": [
    "plot_history(model_history)"
   ]
  },
  {
   "cell_type": "markdown",
   "metadata": {},
   "source": [
    "Let's compare the performance of the model on the training, validation and test set."
   ]
  },
  {
   "cell_type": "code",
   "execution_count": 33,
   "metadata": {},
   "outputs": [
    {
     "name": "stdout",
     "output_type": "stream",
     "text": [
      "1407/1407 [==============================] - 5s 4ms/step - loss: 0.0365 - accuracy: 0.9925\n"
     ]
    },
    {
     "data": {
      "text/plain": [
       "[0.03650926798582077, 0.9924888610839844]"
      ]
     },
     "execution_count": 33,
     "metadata": {},
     "output_type": "execute_result"
    }
   ],
   "source": [
    "model.evaluate(x_train, y_train)"
   ]
  },
  {
   "cell_type": "code",
   "execution_count": 34,
   "metadata": {},
   "outputs": [
    {
     "name": "stdout",
     "output_type": "stream",
     "text": [
      "469/469 [==============================] - 2s 4ms/step - loss: 0.0839 - accuracy: 0.9743\n"
     ]
    },
    {
     "data": {
      "text/plain": [
       "[0.08386112004518509, 0.9743333458900452]"
      ]
     },
     "execution_count": 34,
     "metadata": {},
     "output_type": "execute_result"
    }
   ],
   "source": [
    "model.evaluate(x_val, y_val)"
   ]
  },
  {
   "cell_type": "code",
   "execution_count": 35,
   "metadata": {},
   "outputs": [
    {
     "name": "stdout",
     "output_type": "stream",
     "text": [
      "313/313 [==============================] - 1s 4ms/step - loss: 0.0793 - accuracy: 0.9762\n"
     ]
    },
    {
     "data": {
      "text/plain": [
       "[0.0793130025267601, 0.9761999845504761]"
      ]
     },
     "execution_count": 35,
     "metadata": {},
     "output_type": "execute_result"
    }
   ],
   "source": [
    "model.evaluate(x_test, y_test)"
   ]
  },
  {
   "cell_type": "markdown",
   "metadata": {},
   "source": [
    "### Save model"
   ]
  },
  {
   "cell_type": "markdown",
   "metadata": {},
   "source": [
    "We can save the model as an HDF5 file so that it can later be reloaded."
   ]
  },
  {
   "cell_type": "code",
   "execution_count": 36,
   "metadata": {},
   "outputs": [
    {
     "name": "stderr",
     "output_type": "stream",
     "text": [
      "/home/gjb/mambaforge/envs/tensorflow/lib/python3.11/site-packages/keras/src/engine/training.py:3103: UserWarning: You are saving your model as an HDF5 file via `model.save()`. This file format is considered legacy. We recommend using instead the native Keras format, e.g. `model.save('my_model.keras')`.\n",
      "  saving_api.save_model(\n"
     ]
    }
   ],
   "source": [
    "model.save('mnist_mlp.h5')"
   ]
  },
  {
   "cell_type": "markdown",
   "metadata": {},
   "source": [
    "### Dropout layers"
   ]
  },
  {
   "cell_type": "markdown",
   "metadata": {},
   "source": [
    "In order to reduce overfitting, drop out can be applied, i.e., randomly setting input values to 0 during training. We add a drop-out layer between the hidden layers, and between the last hidden layer and the output layer."
   ]
  },
  {
   "cell_type": "code",
   "execution_count": 37,
   "metadata": {},
   "outputs": [],
   "source": [
    "np.random.seed(1234)"
   ]
  },
  {
   "cell_type": "code",
   "execution_count": 38,
   "metadata": {},
   "outputs": [],
   "source": [
    "dropout_model = Sequential()\n",
    "dropout_model.add(Dense(512, activation='relu', input_shape=(784,)))\n",
    "dropout_model.add(Dropout(0.2))\n",
    "dropout_model.add(Dense(512, activation='relu'))\n",
    "dropout_model.add(Dropout(0.2))\n",
    "dropout_model.add(Dense(10, activation='softmax'))"
   ]
  },
  {
   "cell_type": "code",
   "execution_count": 39,
   "metadata": {
    "scrolled": true
   },
   "outputs": [
    {
     "name": "stdout",
     "output_type": "stream",
     "text": [
      "Model: \"sequential_1\"\n",
      "_________________________________________________________________\n",
      " Layer (type)                Output Shape              Param #   \n",
      "=================================================================\n",
      " dense_3 (Dense)             (None, 512)               401920    \n",
      "                                                                 \n",
      " dropout (Dropout)           (None, 512)               0         \n",
      "                                                                 \n",
      " dense_4 (Dense)             (None, 512)               262656    \n",
      "                                                                 \n",
      " dropout_1 (Dropout)         (None, 512)               0         \n",
      "                                                                 \n",
      " dense_5 (Dense)             (None, 10)                5130      \n",
      "                                                                 \n",
      "=================================================================\n",
      "Total params: 669706 (2.55 MB)\n",
      "Trainable params: 669706 (2.55 MB)\n",
      "Non-trainable params: 0 (0.00 Byte)\n",
      "_________________________________________________________________\n"
     ]
    }
   ],
   "source": [
    "dropout_model.summary()"
   ]
  },
  {
   "cell_type": "code",
   "execution_count": 40,
   "metadata": {},
   "outputs": [],
   "source": [
    "dropout_model.compile(loss='categorical_crossentropy', optimizer=SGD(),\n",
    "                      metrics=['accuracy'])"
   ]
  },
  {
   "cell_type": "code",
   "execution_count": 41,
   "metadata": {
    "scrolled": true
   },
   "outputs": [
    {
     "name": "stdout",
     "output_type": "stream",
     "text": [
      "Epoch 1/100\n",
      "352/352 [==============================] - 3s 7ms/step - loss: 1.3780 - accuracy: 0.6450 - val_loss: 0.6986 - val_accuracy: 0.8360\n",
      "Epoch 2/100\n",
      "352/352 [==============================] - 2s 6ms/step - loss: 0.6223 - accuracy: 0.8290 - val_loss: 0.4576 - val_accuracy: 0.8767\n",
      "Epoch 3/100\n",
      "352/352 [==============================] - 2s 6ms/step - loss: 0.4785 - accuracy: 0.8627 - val_loss: 0.3853 - val_accuracy: 0.8922\n",
      "Epoch 4/100\n",
      "352/352 [==============================] - 2s 6ms/step - loss: 0.4155 - accuracy: 0.8804 - val_loss: 0.3470 - val_accuracy: 0.9007\n",
      "Epoch 5/100\n",
      "352/352 [==============================] - 2s 6ms/step - loss: 0.3792 - accuracy: 0.8904 - val_loss: 0.3211 - val_accuracy: 0.9068\n",
      "Epoch 6/100\n",
      "352/352 [==============================] - 2s 6ms/step - loss: 0.3527 - accuracy: 0.8985 - val_loss: 0.3038 - val_accuracy: 0.9106\n",
      "Epoch 7/100\n",
      "352/352 [==============================] - 2s 6ms/step - loss: 0.3331 - accuracy: 0.9040 - val_loss: 0.2881 - val_accuracy: 0.9163\n",
      "Epoch 8/100\n",
      "352/352 [==============================] - 2s 6ms/step - loss: 0.3169 - accuracy: 0.9076 - val_loss: 0.2749 - val_accuracy: 0.9201\n",
      "Epoch 9/100\n",
      "352/352 [==============================] - 2s 6ms/step - loss: 0.3009 - accuracy: 0.9137 - val_loss: 0.2633 - val_accuracy: 0.9239\n",
      "Epoch 10/100\n",
      "352/352 [==============================] - 2s 6ms/step - loss: 0.2866 - accuracy: 0.9170 - val_loss: 0.2534 - val_accuracy: 0.9258\n",
      "Epoch 11/100\n",
      "352/352 [==============================] - 2s 6ms/step - loss: 0.2746 - accuracy: 0.9210 - val_loss: 0.2440 - val_accuracy: 0.9279\n",
      "Epoch 12/100\n",
      "352/352 [==============================] - 2s 6ms/step - loss: 0.2641 - accuracy: 0.9238 - val_loss: 0.2356 - val_accuracy: 0.9297\n",
      "Epoch 13/100\n",
      "352/352 [==============================] - 2s 6ms/step - loss: 0.2539 - accuracy: 0.9273 - val_loss: 0.2274 - val_accuracy: 0.9331\n",
      "Epoch 14/100\n",
      "352/352 [==============================] - 2s 6ms/step - loss: 0.2460 - accuracy: 0.9282 - val_loss: 0.2205 - val_accuracy: 0.9352\n",
      "Epoch 15/100\n",
      "352/352 [==============================] - 2s 6ms/step - loss: 0.2363 - accuracy: 0.9323 - val_loss: 0.2137 - val_accuracy: 0.9376\n",
      "Epoch 16/100\n",
      "352/352 [==============================] - 2s 6ms/step - loss: 0.2284 - accuracy: 0.9351 - val_loss: 0.2065 - val_accuracy: 0.9388\n",
      "Epoch 17/100\n",
      "352/352 [==============================] - 2s 6ms/step - loss: 0.2218 - accuracy: 0.9361 - val_loss: 0.2015 - val_accuracy: 0.9411\n",
      "Epoch 18/100\n",
      "352/352 [==============================] - 2s 6ms/step - loss: 0.2124 - accuracy: 0.9391 - val_loss: 0.1955 - val_accuracy: 0.9425\n",
      "Epoch 19/100\n",
      "352/352 [==============================] - 2s 6ms/step - loss: 0.2083 - accuracy: 0.9400 - val_loss: 0.1901 - val_accuracy: 0.9447\n",
      "Epoch 20/100\n",
      "352/352 [==============================] - 2s 6ms/step - loss: 0.2000 - accuracy: 0.9421 - val_loss: 0.1857 - val_accuracy: 0.9452\n",
      "Epoch 21/100\n",
      "352/352 [==============================] - 2s 7ms/step - loss: 0.1958 - accuracy: 0.9442 - val_loss: 0.1814 - val_accuracy: 0.9461\n",
      "Epoch 22/100\n",
      "352/352 [==============================] - 2s 7ms/step - loss: 0.1922 - accuracy: 0.9445 - val_loss: 0.1766 - val_accuracy: 0.9482\n",
      "Epoch 23/100\n",
      "352/352 [==============================] - 2s 6ms/step - loss: 0.1849 - accuracy: 0.9480 - val_loss: 0.1729 - val_accuracy: 0.9493\n",
      "Epoch 24/100\n",
      "352/352 [==============================] - 2s 6ms/step - loss: 0.1806 - accuracy: 0.9490 - val_loss: 0.1691 - val_accuracy: 0.9505\n",
      "Epoch 25/100\n",
      "352/352 [==============================] - 2s 6ms/step - loss: 0.1759 - accuracy: 0.9498 - val_loss: 0.1650 - val_accuracy: 0.9520\n",
      "Epoch 26/100\n",
      "352/352 [==============================] - 2s 6ms/step - loss: 0.1725 - accuracy: 0.9497 - val_loss: 0.1618 - val_accuracy: 0.9525\n",
      "Epoch 27/100\n",
      "352/352 [==============================] - 2s 6ms/step - loss: 0.1696 - accuracy: 0.9507 - val_loss: 0.1585 - val_accuracy: 0.9537\n",
      "Epoch 28/100\n",
      "352/352 [==============================] - 2s 6ms/step - loss: 0.1653 - accuracy: 0.9531 - val_loss: 0.1550 - val_accuracy: 0.9543\n",
      "Epoch 29/100\n",
      "352/352 [==============================] - 2s 6ms/step - loss: 0.1614 - accuracy: 0.9541 - val_loss: 0.1524 - val_accuracy: 0.9549\n",
      "Epoch 30/100\n",
      "352/352 [==============================] - 2s 6ms/step - loss: 0.1586 - accuracy: 0.9550 - val_loss: 0.1492 - val_accuracy: 0.9567\n",
      "Epoch 31/100\n",
      "352/352 [==============================] - 2s 6ms/step - loss: 0.1549 - accuracy: 0.9557 - val_loss: 0.1468 - val_accuracy: 0.9570\n",
      "Epoch 32/100\n",
      "352/352 [==============================] - 2s 6ms/step - loss: 0.1521 - accuracy: 0.9562 - val_loss: 0.1443 - val_accuracy: 0.9582\n",
      "Epoch 33/100\n",
      "352/352 [==============================] - 2s 6ms/step - loss: 0.1490 - accuracy: 0.9575 - val_loss: 0.1414 - val_accuracy: 0.9587\n",
      "Epoch 34/100\n",
      "352/352 [==============================] - 2s 6ms/step - loss: 0.1451 - accuracy: 0.9582 - val_loss: 0.1403 - val_accuracy: 0.9580\n",
      "Epoch 35/100\n",
      "352/352 [==============================] - 2s 6ms/step - loss: 0.1435 - accuracy: 0.9590 - val_loss: 0.1377 - val_accuracy: 0.9598\n",
      "Epoch 36/100\n",
      "352/352 [==============================] - 2s 6ms/step - loss: 0.1398 - accuracy: 0.9602 - val_loss: 0.1355 - val_accuracy: 0.9599\n",
      "Epoch 37/100\n",
      "352/352 [==============================] - 2s 6ms/step - loss: 0.1372 - accuracy: 0.9603 - val_loss: 0.1333 - val_accuracy: 0.9605\n",
      "Epoch 38/100\n",
      "352/352 [==============================] - 2s 6ms/step - loss: 0.1340 - accuracy: 0.9616 - val_loss: 0.1311 - val_accuracy: 0.9613\n",
      "Epoch 39/100\n",
      "352/352 [==============================] - 2s 6ms/step - loss: 0.1333 - accuracy: 0.9616 - val_loss: 0.1291 - val_accuracy: 0.9615\n",
      "Epoch 40/100\n",
      "352/352 [==============================] - 2s 6ms/step - loss: 0.1289 - accuracy: 0.9632 - val_loss: 0.1278 - val_accuracy: 0.9617\n",
      "Epoch 41/100\n",
      "352/352 [==============================] - 2s 6ms/step - loss: 0.1275 - accuracy: 0.9630 - val_loss: 0.1259 - val_accuracy: 0.9621\n",
      "Epoch 42/100\n",
      "352/352 [==============================] - 2s 6ms/step - loss: 0.1255 - accuracy: 0.9636 - val_loss: 0.1241 - val_accuracy: 0.9623\n",
      "Epoch 43/100\n",
      "352/352 [==============================] - 2s 6ms/step - loss: 0.1225 - accuracy: 0.9650 - val_loss: 0.1225 - val_accuracy: 0.9633\n",
      "Epoch 44/100\n",
      "352/352 [==============================] - 2s 6ms/step - loss: 0.1203 - accuracy: 0.9649 - val_loss: 0.1206 - val_accuracy: 0.9633\n",
      "Epoch 45/100\n",
      "352/352 [==============================] - 2s 6ms/step - loss: 0.1192 - accuracy: 0.9654 - val_loss: 0.1192 - val_accuracy: 0.9635\n",
      "Epoch 46/100\n",
      "352/352 [==============================] - 2s 6ms/step - loss: 0.1163 - accuracy: 0.9663 - val_loss: 0.1180 - val_accuracy: 0.9642\n",
      "Epoch 47/100\n",
      "352/352 [==============================] - 2s 6ms/step - loss: 0.1156 - accuracy: 0.9665 - val_loss: 0.1160 - val_accuracy: 0.9645\n",
      "Epoch 48/100\n",
      "352/352 [==============================] - 2s 6ms/step - loss: 0.1134 - accuracy: 0.9671 - val_loss: 0.1149 - val_accuracy: 0.9654\n",
      "Epoch 49/100\n",
      "352/352 [==============================] - 2s 6ms/step - loss: 0.1108 - accuracy: 0.9681 - val_loss: 0.1139 - val_accuracy: 0.9653\n",
      "Epoch 50/100\n",
      "352/352 [==============================] - 2s 6ms/step - loss: 0.1091 - accuracy: 0.9682 - val_loss: 0.1126 - val_accuracy: 0.9657\n",
      "Epoch 51/100\n",
      "352/352 [==============================] - 2s 6ms/step - loss: 0.1089 - accuracy: 0.9680 - val_loss: 0.1118 - val_accuracy: 0.9659\n",
      "Epoch 52/100\n",
      "352/352 [==============================] - 2s 6ms/step - loss: 0.1071 - accuracy: 0.9685 - val_loss: 0.1098 - val_accuracy: 0.9667\n",
      "Epoch 53/100\n",
      "352/352 [==============================] - 2s 6ms/step - loss: 0.1062 - accuracy: 0.9687 - val_loss: 0.1087 - val_accuracy: 0.9668\n",
      "Epoch 54/100\n",
      "352/352 [==============================] - 2s 6ms/step - loss: 0.1036 - accuracy: 0.9696 - val_loss: 0.1072 - val_accuracy: 0.9669\n",
      "Epoch 55/100\n",
      "352/352 [==============================] - 2s 6ms/step - loss: 0.1023 - accuracy: 0.9698 - val_loss: 0.1066 - val_accuracy: 0.9675\n",
      "Epoch 56/100\n",
      "352/352 [==============================] - 2s 6ms/step - loss: 0.1015 - accuracy: 0.9703 - val_loss: 0.1055 - val_accuracy: 0.9676\n",
      "Epoch 57/100\n",
      "352/352 [==============================] - 2s 6ms/step - loss: 0.0981 - accuracy: 0.9716 - val_loss: 0.1043 - val_accuracy: 0.9683\n",
      "Epoch 58/100\n",
      "352/352 [==============================] - 2s 6ms/step - loss: 0.0979 - accuracy: 0.9716 - val_loss: 0.1035 - val_accuracy: 0.9679\n",
      "Epoch 59/100\n",
      "352/352 [==============================] - 2s 6ms/step - loss: 0.0964 - accuracy: 0.9729 - val_loss: 0.1020 - val_accuracy: 0.9693\n",
      "Epoch 60/100\n",
      "352/352 [==============================] - 2s 6ms/step - loss: 0.0949 - accuracy: 0.9729 - val_loss: 0.1011 - val_accuracy: 0.9686\n",
      "Epoch 61/100\n",
      "352/352 [==============================] - 2s 6ms/step - loss: 0.0930 - accuracy: 0.9735 - val_loss: 0.1003 - val_accuracy: 0.9689\n",
      "Epoch 62/100\n",
      "352/352 [==============================] - 2s 6ms/step - loss: 0.0937 - accuracy: 0.9728 - val_loss: 0.0993 - val_accuracy: 0.9692\n",
      "Epoch 63/100\n",
      "352/352 [==============================] - 2s 6ms/step - loss: 0.0916 - accuracy: 0.9733 - val_loss: 0.0982 - val_accuracy: 0.9695\n",
      "Epoch 64/100\n",
      "352/352 [==============================] - 2s 6ms/step - loss: 0.0898 - accuracy: 0.9737 - val_loss: 0.0978 - val_accuracy: 0.9697\n",
      "Epoch 65/100\n",
      "352/352 [==============================] - 2s 6ms/step - loss: 0.0890 - accuracy: 0.9740 - val_loss: 0.0966 - val_accuracy: 0.9698\n",
      "Epoch 66/100\n",
      "352/352 [==============================] - 2s 6ms/step - loss: 0.0872 - accuracy: 0.9742 - val_loss: 0.0958 - val_accuracy: 0.9701\n",
      "Epoch 67/100\n",
      "352/352 [==============================] - 2s 6ms/step - loss: 0.0874 - accuracy: 0.9743 - val_loss: 0.0952 - val_accuracy: 0.9703\n",
      "Epoch 68/100\n",
      "352/352 [==============================] - 2s 6ms/step - loss: 0.0859 - accuracy: 0.9748 - val_loss: 0.0942 - val_accuracy: 0.9705\n",
      "Epoch 69/100\n",
      "352/352 [==============================] - 2s 6ms/step - loss: 0.0859 - accuracy: 0.9748 - val_loss: 0.0938 - val_accuracy: 0.9708\n",
      "Epoch 70/100\n",
      "352/352 [==============================] - 2s 6ms/step - loss: 0.0823 - accuracy: 0.9763 - val_loss: 0.0928 - val_accuracy: 0.9714\n",
      "Epoch 71/100\n",
      "352/352 [==============================] - 2s 6ms/step - loss: 0.0831 - accuracy: 0.9756 - val_loss: 0.0920 - val_accuracy: 0.9710\n",
      "Epoch 72/100\n",
      "352/352 [==============================] - 2s 6ms/step - loss: 0.0821 - accuracy: 0.9761 - val_loss: 0.0914 - val_accuracy: 0.9711\n",
      "Epoch 73/100\n",
      "352/352 [==============================] - 2s 6ms/step - loss: 0.0812 - accuracy: 0.9761 - val_loss: 0.0907 - val_accuracy: 0.9719\n",
      "Epoch 74/100\n",
      "352/352 [==============================] - 2s 6ms/step - loss: 0.0787 - accuracy: 0.9769 - val_loss: 0.0902 - val_accuracy: 0.9720\n",
      "Epoch 75/100\n",
      "352/352 [==============================] - 2s 6ms/step - loss: 0.0789 - accuracy: 0.9774 - val_loss: 0.0893 - val_accuracy: 0.9723\n",
      "Epoch 76/100\n",
      "352/352 [==============================] - 2s 6ms/step - loss: 0.0778 - accuracy: 0.9768 - val_loss: 0.0889 - val_accuracy: 0.9719\n",
      "Epoch 77/100\n",
      "352/352 [==============================] - 2s 6ms/step - loss: 0.0769 - accuracy: 0.9771 - val_loss: 0.0882 - val_accuracy: 0.9721\n",
      "Epoch 78/100\n",
      "352/352 [==============================] - 2s 6ms/step - loss: 0.0768 - accuracy: 0.9777 - val_loss: 0.0878 - val_accuracy: 0.9725\n",
      "Epoch 79/100\n",
      "352/352 [==============================] - 2s 6ms/step - loss: 0.0751 - accuracy: 0.9784 - val_loss: 0.0872 - val_accuracy: 0.9723\n",
      "Epoch 80/100\n",
      "352/352 [==============================] - 2s 6ms/step - loss: 0.0739 - accuracy: 0.9787 - val_loss: 0.0867 - val_accuracy: 0.9731\n",
      "Epoch 81/100\n",
      "352/352 [==============================] - 2s 6ms/step - loss: 0.0730 - accuracy: 0.9789 - val_loss: 0.0859 - val_accuracy: 0.9735\n",
      "Epoch 82/100\n",
      "352/352 [==============================] - 2s 6ms/step - loss: 0.0725 - accuracy: 0.9792 - val_loss: 0.0860 - val_accuracy: 0.9725\n",
      "Epoch 83/100\n",
      "352/352 [==============================] - 2s 6ms/step - loss: 0.0721 - accuracy: 0.9788 - val_loss: 0.0849 - val_accuracy: 0.9730\n",
      "Epoch 84/100\n",
      "352/352 [==============================] - 2s 6ms/step - loss: 0.0705 - accuracy: 0.9791 - val_loss: 0.0843 - val_accuracy: 0.9737\n",
      "Epoch 85/100\n",
      "352/352 [==============================] - 2s 6ms/step - loss: 0.0702 - accuracy: 0.9798 - val_loss: 0.0840 - val_accuracy: 0.9733\n",
      "Epoch 86/100\n",
      "352/352 [==============================] - 2s 6ms/step - loss: 0.0691 - accuracy: 0.9800 - val_loss: 0.0833 - val_accuracy: 0.9733\n",
      "Epoch 87/100\n",
      "352/352 [==============================] - 2s 6ms/step - loss: 0.0680 - accuracy: 0.9803 - val_loss: 0.0832 - val_accuracy: 0.9735\n",
      "Epoch 88/100\n",
      "352/352 [==============================] - 2s 6ms/step - loss: 0.0669 - accuracy: 0.9809 - val_loss: 0.0824 - val_accuracy: 0.9735\n",
      "Epoch 89/100\n",
      "352/352 [==============================] - 2s 6ms/step - loss: 0.0673 - accuracy: 0.9802 - val_loss: 0.0824 - val_accuracy: 0.9735\n",
      "Epoch 90/100\n",
      "352/352 [==============================] - 2s 6ms/step - loss: 0.0661 - accuracy: 0.9807 - val_loss: 0.0820 - val_accuracy: 0.9741\n",
      "Epoch 91/100\n",
      "352/352 [==============================] - 2s 6ms/step - loss: 0.0648 - accuracy: 0.9813 - val_loss: 0.0811 - val_accuracy: 0.9745\n",
      "Epoch 92/100\n",
      "352/352 [==============================] - 2s 6ms/step - loss: 0.0645 - accuracy: 0.9814 - val_loss: 0.0811 - val_accuracy: 0.9741\n",
      "Epoch 93/100\n",
      "352/352 [==============================] - 2s 6ms/step - loss: 0.0640 - accuracy: 0.9822 - val_loss: 0.0801 - val_accuracy: 0.9741\n",
      "Epoch 94/100\n",
      "352/352 [==============================] - 2s 6ms/step - loss: 0.0636 - accuracy: 0.9817 - val_loss: 0.0801 - val_accuracy: 0.9741\n",
      "Epoch 95/100\n",
      "352/352 [==============================] - 2s 6ms/step - loss: 0.0635 - accuracy: 0.9822 - val_loss: 0.0792 - val_accuracy: 0.9749\n",
      "Epoch 96/100\n",
      "352/352 [==============================] - 2s 6ms/step - loss: 0.0609 - accuracy: 0.9810 - val_loss: 0.0789 - val_accuracy: 0.9752\n",
      "Epoch 97/100\n",
      "352/352 [==============================] - 2s 6ms/step - loss: 0.0598 - accuracy: 0.9826 - val_loss: 0.0789 - val_accuracy: 0.9749\n",
      "Epoch 98/100\n",
      "352/352 [==============================] - 2s 6ms/step - loss: 0.0601 - accuracy: 0.9822 - val_loss: 0.0784 - val_accuracy: 0.9745\n",
      "Epoch 99/100\n",
      "352/352 [==============================] - 2s 6ms/step - loss: 0.0596 - accuracy: 0.9830 - val_loss: 0.0780 - val_accuracy: 0.9747\n",
      "Epoch 100/100\n",
      "352/352 [==============================] - 2s 6ms/step - loss: 0.0594 - accuracy: 0.9822 - val_loss: 0.0773 - val_accuracy: 0.9752\n"
     ]
    }
   ],
   "source": [
    "dropout_model_history = dropout_model.fit(x_train, y_train, batch_size=128,\n",
    "                                          epochs=100, verbose=1,\n",
    "                                          validation_data=(x_val, y_val))"
   ]
  },
  {
   "cell_type": "code",
   "execution_count": 42,
   "metadata": {
    "scrolled": true
   },
   "outputs": [
    {
     "data": {
      "image/png": "[encoded data removed]",
      "text/plain": [
       "<Figure size 640x480 with 1 Axes>"
      ]
     },
     "metadata": {},
     "output_type": "display_data"
    },
    {
     "data": {
      "image/png": "[encoded data removed]",
      "text/plain": [
       "<Figure size 640x480 with 1 Axes>"
      ]
     },
     "metadata": {},
     "output_type": "display_data"
    }
   ],
   "source": [
    "plot_history(dropout_model_history)"
   ]
  },
  {
   "cell_type": "markdown",
   "metadata": {},
   "source": [
    "Again, let's compare the performance of the model on the training, validation and test set."
   ]
  },
  {
   "cell_type": "code",
   "execution_count": 43,
   "metadata": {
    "jupyter": {
     "source_hidden": true
    },
    "scrolled": true
   },
   "outputs": [
    {
     "name": "stdout",
     "output_type": "stream",
     "text": [
      "1407/1407 [==============================] - 5s 4ms/step - loss: 0.0396 - accuracy: 0.9895\n"
     ]
    },
    {
     "data": {
      "text/plain": [
       "[0.03959284722805023, 0.9895333051681519]"
      ]
     },
     "execution_count": 43,
     "metadata": {},
     "output_type": "execute_result"
    }
   ],
   "source": [
    "dropout_model.evaluate(x_train, y_train)"
   ]
  },
  {
   "cell_type": "code",
   "execution_count": 44,
   "metadata": {
    "scrolled": true
   },
   "outputs": [
    {
     "name": "stdout",
     "output_type": "stream",
     "text": [
      "469/469 [==============================] - 2s 4ms/step - loss: 0.0773 - accuracy: 0.9752\n"
     ]
    },
    {
     "data": {
      "text/plain": [
       "[0.07725568115711212, 0.9751999974250793]"
      ]
     },
     "execution_count": 44,
     "metadata": {},
     "output_type": "execute_result"
    }
   ],
   "source": [
    "dropout_model.evaluate(x_val, y_val)"
   ]
  },
  {
   "cell_type": "code",
   "execution_count": 45,
   "metadata": {
    "scrolled": true
   },
   "outputs": [
    {
     "name": "stdout",
     "output_type": "stream",
     "text": [
      "313/313 [==============================] - 1s 4ms/step - loss: 0.0749 - accuracy: 0.9766\n"
     ]
    },
    {
     "data": {
      "text/plain": [
       "[0.07491105049848557, 0.9765999913215637]"
      ]
     },
     "execution_count": 45,
     "metadata": {},
     "output_type": "execute_result"
    }
   ],
   "source": [
    "dropout_model.evaluate(x_test, y_test)"
   ]
  },
  {
   "cell_type": "code",
   "execution_count": 46,
   "metadata": {},
   "outputs": [],
   "source": [
    "dropout_model.save('mnist_mlp_dropout.h5')"
   ]
  },
  {
   "cell_type": "markdown",
   "metadata": {},
   "source": [
    "## Understanding the model"
   ]
  },
  {
   "cell_type": "markdown",
   "metadata": {},
   "source": [
    "We should try to gain some insight into the model.  There are several ways to do this."
   ]
  },
  {
   "cell_type": "code",
   "execution_count": 47,
   "metadata": {},
   "outputs": [],
   "source": [
    "analysis_model = model"
   ]
  },
  {
   "cell_type": "markdown",
   "metadata": {},
   "source": [
    "Replace `model` by `dropout_model` in case you want to analyze the latter."
   ]
  },
  {
   "cell_type": "markdown",
   "metadata": {},
   "source": [
    "### Required imports"
   ]
  },
  {
   "cell_type": "code",
   "execution_count": 48,
   "metadata": {},
   "outputs": [],
   "source": [
    "import itertools\n",
    "import pandas as pd\n",
    "import seaborn as sns"
   ]
  },
  {
   "cell_type": "markdown",
   "metadata": {},
   "source": [
    "### Confusion matrix"
   ]
  },
  {
   "cell_type": "markdown",
   "metadata": {},
   "source": [
    "The model produces some classification errors, it would be interesting to see the type of errors.  Computing a confustion matrix is useful for that prupose."
   ]
  },
  {
   "cell_type": "code",
   "execution_count": 51,
   "metadata": {},
   "outputs": [
    {
     "name": "stdout",
     "output_type": "stream",
     "text": [
      "313/313 [==============================] - 1s 2ms/step\n"
     ]
    }
   ],
   "source": [
    "prediction = analysis_model.predict(x_test)\n",
    "y_predict_classes = np.argmax(prediction, axis=1)"
   ]
  },
  {
   "cell_type": "code",
   "execution_count": 52,
   "metadata": {},
   "outputs": [],
   "source": [
    "y_test_classes = np.argmax(y_test, axis=1)"
   ]
  },
  {
   "cell_type": "code",
   "execution_count": 53,
   "metadata": {},
   "outputs": [
    {
     "data": {
      "text/plain": [
       "array([[ 971,    0,    1,    1,    0,    2,    1,    1,    2,    1],\n",
       "       [   0, 1121,    3,    1,    0,    1,    4,    2,    3,    0],\n",
       "       [   5,    1, 1004,    3,    3,    0,    2,    7,    7,    0],\n",
       "       [   0,    0,    2,  992,    0,    4,    0,    6,    4,    2],\n",
       "       [   1,    0,    5,    1,  963,    0,    1,    2,    1,    8],\n",
       "       [   4,    1,    0,   10,    2,  863,    6,    0,    4,    2],\n",
       "       [   5,    3,    0,    1,    6,    4,  938,    0,    1,    0],\n",
       "       [   2,    8,    7,    4,    0,    0,    0,  999,    2,    6],\n",
       "       [   4,    0,    3,    4,    3,    6,    4,    4,  945,    1],\n",
       "       [   3,    4,    1,    6,   13,    3,    2,    7,    4,  966]])"
      ]
     },
     "execution_count": 53,
     "metadata": {},
     "output_type": "execute_result"
    }
   ],
   "source": [
    "cm = confusion_matrix(y_test_classes, y_predict_classes)\n",
    "cm"
   ]
  },
  {
   "cell_type": "markdown",
   "metadata": {},
   "source": [
    "From the confusion matrix, it is clear that, e.g., 2 and 7 get confused, as well as 4 and 9.  Given the data, that should come as no surprise."
   ]
  },
  {
   "cell_type": "code",
   "execution_count": 56,
   "metadata": {},
   "outputs": [],
   "source": [
    "def plot_confusion_matrix(cm, classes,\n",
    "                          normalize=False,\n",
    "                          cmap=plt.cm.Blues):\n",
    "\n",
    "    log1p_cm = np.log1p(cm)\n",
    "    if normalize:\n",
    "        cm = cm.astype(np.float32)/cm.sum(axis=1)[:, np.newaxis]\n",
    "    \n",
    "    figure, axes = plt.subplots(figsize=(6, 6))\n",
    "    axes.imshow(log1p_cm, interpolation='nearest', cmap=cmap)\n",
    "    axes.set_xticks(classes)\n",
    "    axes.set_yticks(classes)\n",
    "\n",
    "    fmt = '{0:.4f}' if normalize else '{0:d}'\n",
    "    thresh = 0.5*cm.max()\n",
    "    for i, j in itertools.product(range(cm.shape[0]), range(cm.shape[1])):\n",
    "        axes.text(j, i, fmt.format(cm[i, j]),\n",
    "                  horizontalalignment=\"center\",\n",
    "                  color=\"white\" if cm[i, j] > thresh else \"black\",\n",
    "                  fontsize=8)\n",
    "\n",
    "    figure.tight_layout()\n",
    "    axes.set_ylabel('True label')\n",
    "    axes.set_xlabel('Predicted label')"
   ]
  },
  {
   "cell_type": "code",
   "execution_count": 57,
   "metadata": {},
   "outputs": [
    {
     "data": {
      "image/png": "[encoded data removed]",
      "text/plain": [
       "<Figure size 600x600 with 1 Axes>"
      ]
     },
     "metadata": {},
     "output_type": "display_data"
    }
   ],
   "source": [
    "plot_confusion_matrix(cm, range(10), normalize=True)"
   ]
  },
  {
   "cell_type": "markdown",
   "metadata": {},
   "source": [
    "### Sensitivity to initial conditions"
   ]
  },
  {
   "cell_type": "markdown",
   "metadata": {},
   "source": [
    "How sensitive is the training process to the initial values of the model?  Let's train and evaluate the model several times, and observe the outcomes."
   ]
  },
  {
   "cell_type": "code",
   "execution_count": 59,
   "metadata": {},
   "outputs": [
    {
     "name": "stdout",
     "output_type": "stream",
     "text": [
      "training model 1\n",
      "1407/1407 [==============================] - 5s 4ms/step - loss: 0.0393 - accuracy: 0.9895\n",
      "469/469 [==============================] - 2s 4ms/step - loss: 0.0794 - accuracy: 0.9761\n",
      "313/313 [==============================] - 1s 4ms/step - loss: 0.0746 - accuracy: 0.9768\n",
      "training model 2\n"
     ]
    },
    {
     "name": "stderr",
     "output_type": "stream",
     "text": [
      "/home/gjb/mambaforge/envs/tensorflow/lib/python3.11/site-packages/keras/src/engine/training.py:3103: UserWarning: You are saving your model as an HDF5 file via `model.save()`. This file format is considered legacy. We recommend using instead the native Keras format, e.g. `model.save('my_model.keras')`.\n",
      "  saving_api.save_model(\n"
     ]
    },
    {
     "name": "stdout",
     "output_type": "stream",
     "text": [
      "1407/1407 [==============================] - 5s 3ms/step - loss: 0.0411 - accuracy: 0.9887\n",
      "469/469 [==============================] - 2s 4ms/step - loss: 0.0807 - accuracy: 0.9747\n",
      "313/313 [==============================] - 1s 4ms/step - loss: 0.0771 - accuracy: 0.9762\n",
      "training model 3\n",
      "1407/1407 [==============================] - 5s 4ms/step - loss: 0.0397 - accuracy: 0.9895\n",
      "469/469 [==============================] - 2s 4ms/step - loss: 0.0789 - accuracy: 0.9755\n",
      "313/313 [==============================] - 1s 4ms/step - loss: 0.0749 - accuracy: 0.9780\n",
      "training model 4\n",
      "1407/1407 [==============================] - 5s 3ms/step - loss: 0.0403 - accuracy: 0.9891\n",
      "469/469 [==============================] - 2s 4ms/step - loss: 0.0794 - accuracy: 0.9755\n",
      "313/313 [==============================] - 1s 4ms/step - loss: 0.0774 - accuracy: 0.9757\n",
      "training model 5\n",
      "1407/1407 [==============================] - 5s 3ms/step - loss: 0.0406 - accuracy: 0.9888\n",
      "469/469 [==============================] - 2s 4ms/step - loss: 0.0805 - accuracy: 0.9747\n",
      "313/313 [==============================] - 1s 4ms/step - loss: 0.0753 - accuracy: 0.9757\n",
      "training model 6\n",
      "1407/1407 [==============================] - 5s 3ms/step - loss: 0.0409 - accuracy: 0.9891\n",
      "469/469 [==============================] - 2s 4ms/step - loss: 0.0791 - accuracy: 0.9756\n",
      "313/313 [==============================] - 1s 4ms/step - loss: 0.0730 - accuracy: 0.9778\n",
      "training model 7\n",
      "1407/1407 [==============================] - 4s 3ms/step - loss: 0.0409 - accuracy: 0.9891\n",
      "469/469 [==============================] - 2s 4ms/step - loss: 0.0793 - accuracy: 0.9761\n",
      "313/313 [==============================] - 1s 4ms/step - loss: 0.0762 - accuracy: 0.9761\n",
      "training model 8\n",
      "1407/1407 [==============================] - 8s 5ms/step - loss: 0.0390 - accuracy: 0.9897\n",
      "469/469 [==============================] - 2s 5ms/step - loss: 0.0784 - accuracy: 0.9762\n",
      "313/313 [==============================] - 2s 5ms/step - loss: 0.0736 - accuracy: 0.9767\n",
      "training model 9\n",
      "1407/1407 [==============================] - 5s 3ms/step - loss: 0.0412 - accuracy: 0.9889\n",
      "469/469 [==============================] - 2s 4ms/step - loss: 0.0796 - accuracy: 0.9755\n",
      "313/313 [==============================] - 1s 4ms/step - loss: 0.0763 - accuracy: 0.9774\n",
      "training model 10\n",
      "1407/1407 [==============================] - 5s 4ms/step - loss: 0.0407 - accuracy: 0.9891\n",
      "469/469 [==============================] - 2s 4ms/step - loss: 0.0780 - accuracy: 0.9757\n",
      "313/313 [==============================] - 1s 4ms/step - loss: 0.0750 - accuracy: 0.9770\n"
     ]
    }
   ],
   "source": [
    "np.random.seed(1234)\n",
    "tf.random.set_seed(459845)\n",
    "names = ('train', 'val', 'test')\n",
    "inputs = (x_train, x_val, x_test)\n",
    "outputs = (y_train, y_val, y_test)\n",
    "losses = dict()\n",
    "accuracies = dict()\n",
    "for name in names:\n",
    "    losses[name] = []\n",
    "    accuracies[name] = []\n",
    "for i in range(10):\n",
    "    print(f'training model {i+ 1:d}')\n",
    "    mod = Sequential()\n",
    "    mod.add(Dense(512, activation='relu', input_shape=(784,)))\n",
    "    mod.add(Dropout(0.2))\n",
    "    mod.add(Dense(512, activation='relu'))\n",
    "    mod.add(Dropout(0.2))\n",
    "    mod.add(Dense(10, activation='softmax'))\n",
    "    mod.compile(loss='categorical_crossentropy', optimizer=SGD(),\n",
    "                metrics=['accuracy'])\n",
    "    _ = mod.fit(x_train, y_train, batch_size=128, epochs=100,\n",
    "                verbose=0, validation_data=(x_val, y_val))\n",
    "    for name, input, output in zip(names, inputs, outputs):\n",
    "        loss, accuracy = mod.evaluate(input, output)\n",
    "        losses[name].append(loss)\n",
    "        accuracies[name].append(accuracy)\n",
    "    mod.save(f'mnist_mpl_{i + 1:02d}.h5')"
   ]
  },
  {
   "cell_type": "markdown",
   "metadata": {},
   "source": [
    "Losses and accuracies are quite reproducible across runs with different initializations of the model."
   ]
  },
  {
   "cell_type": "code",
   "execution_count": 60,
   "metadata": {
    "scrolled": true
   },
   "outputs": [
    {
     "data": {
      "image/png": "[encoded data removed]",
      "text/plain": [
       "<Figure size 640x480 with 1 Axes>"
      ]
     },
     "metadata": {},
     "output_type": "display_data"
    }
   ],
   "source": [
    "sns.stripplot(data=pd.DataFrame(losses), jitter=0.1);"
   ]
  },
  {
   "cell_type": "code",
   "execution_count": 61,
   "metadata": {},
   "outputs": [
    {
     "data": {
      "image/png": "[encoded data removed]",
      "text/plain": [
       "<Figure size 640x480 with 1 Axes>"
      ]
     },
     "metadata": {},
     "output_type": "display_data"
    }
   ],
   "source": [
    "sns.stripplot(data=pd.DataFrame(accuracies), jitter=0.1);"
   ]
  },
  {
   "cell_type": "code",
   "execution_count": null,
   "metadata": {},
   "outputs": [],
   "source": []
  }
 ],
 "metadata": {
  "kernelspec": {
   "display_name": "Python 3 (ipykernel)",
   "language": "python",
   "name": "python3"
  },
  "language_info": {
   "codemirror_mode": {
    "name": "ipython",
    "version": 3
   },
   "file_extension": ".py",
   "mimetype": "text/x-python",
   "name": "python",
   "nbconvert_exporter": "python",
   "pygments_lexer": "ipython3",
   "version": "3.11.8"
  }
 },
 "nbformat": 4,
 "nbformat_minor": 4
}
